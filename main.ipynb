{
 "cells": [
  {
   "cell_type": "markdown",
   "metadata": {},
   "source": [
    "# Final Project Module 1\n",
    "### Exploratory Data Analysis and Descriptive Statistics\n",
    "\n",
    "* Student name: Natalia Quintero E.\n",
    "* Student pace: Full time\n",
    "* Scheduled project review date/time: Friday, December 21, 2018. 1:00pm PST\n",
    "* Instructor name: Rafael Carrasco\n",
    "* Blog post URL: https://naquech.github.io/visualization_technique_scatter_plots"
   ]
  },
  {
   "cell_type": "markdown",
   "metadata": {},
   "source": [
    "_________________________\n",
    "Sections - Following the OSEMiN framework\n",
    "<ul><li>Introduction</li>\n",
    "    <li>Obtain\n",
    "    <li>Data cleaning</li> \n",
    "    <li>Exploration</li>\n",
    "    <li>Modeling (linear regression)</li>\n",
    "    <li>Interpretation</li>\n",
    "    <li>Sources</li></ul>\n"
   ]
  },
  {
   "cell_type": "markdown",
   "metadata": {},
   "source": [
    "## INTRODUCTION\n",
    "\n",
    "<p>This project attepts to predict the sale price of houses in King County, one of the most populous county in WA State. The data set has been provided in the form of a csv file and can be found in the home directory. The project requirements and expected observations from this study can be found in the index.ipynb file.</p>\n",
    "<p>OSEMN or OSEMiN is an acronym that stands for Obtain, Scrub, Explore, Model and iNterpret. It is a list of tasks that a data scientist should be familiar with, not an expert on each of them. It is also considered as the blueprint for data exploration. This steps don't follow one another, as you go throught the analysis is normal to come back to any stage and move back and forth.</p>\n",
    "<p><b>Obtain </b>Understand requirements, gather information about the problem to be solved, adopt and understand the tools that will be most suitable to do the job.</p>\n",
    "<p><b>Scrub (clean) </b>No dataset looks pretty and organized when you load it (think about the room of a college student). This is were most of the time will be spent, data cleaning has an impact on the accuracy of the results. This is where you check for missing or null values, replace or remove them, extract columns or format data types. At this point the dataset presented should be read in a clen manner, free of irrelevant characters and in an ussable format.</p>\n",
    "<p><b>Explore </b> This is where exploratory data anlalysis happens, where you get to know the data you are working with. No hypothesis are tested and no predictions are made here. The focus is to understand the distribution of the columns, check for multicollinearity, make sure the dataset meets what is neccessary for the type of model you will aply later on.</p>\n",
    "<p><b>Model </b>It refers to the process of using probabilistic methods to try to predict the outcome of an event. Apply a technique(s) or algorithm(s) to predict and interpret, adjust the the ones you have to try and increase results.</p>\n",
    "<p><b>Interpret </b>Draw conclussions, evaluate the meaning of the results, use visualization tools to communicate in an understandable manner.</p>"
   ]
  },
  {
   "cell_type": "markdown",
   "metadata": {},
   "source": [
    "## OBTAIN"
   ]
  },
  {
   "cell_type": "markdown",
   "metadata": {},
   "source": [
    "### Column names and description\n",
    "* **id:** unique identified for a house - Parcel Number\n",
    "* **date:** date a house was sold\n",
    "* **price:** price prediction target\n",
    "* **bedrooms:** number of bedrooms/house\n",
    "* **bathrooms:** number of bathrooms/house\n",
    "* **sqft_living:** living sq. footage of the home. Total finished living space. This would include finished space in a basement \n",
    "* **sqft_lot:** sqr. footage of the lot. A lot is a piece of land with specific boundaries.\n",
    "* **floors:** number of floors (levels) in house\n",
    "* **waterfront:** <strike>house which has a view to a waterfront</strike> a property located in the waterfront\n",
    "* **view:** <strike>has been viewed</strike> refers to territorial views (water, mountains, skyline)\n",
    "* **condition:** relative to age and grade. Coded 1-5 \n",
    "    1. Poor/worn out. Approaching abandonment or major recosntruction, effective age near the end \n",
    "    2. Fair/badly worn. Much repair needed, inadequate building utility and systems.\n",
    "    3. Average. A few minor repairs needed. All major components are still functional. \n",
    "    4. Good. No obvious maintenance required but neither is everything new.\n",
    "    5. Very Good. All items well maintained.\n",
    "\n",
    "\n",
    "* **grade:** classification by construction quality which refers to the types of materials used and the quality of workmanship. Grades run from 1 to 13. \n",
    "\n",
    "    * 1-3 Falls short of minimum building standards. Normally cabin or inferior structure\n",
    "    * 4\tGenerally older, low quality construction. Does not meet code.\n",
    "    * 5\tLow construction costs and workmanship. Small, simple design.\n",
    "    * 6\tLowest grade currently meeting building code. Low quality materials and simple designs.\n",
    "    * 7\tAverage grade of construction and design. Commonly seen in plats and older sub-divisions.\n",
    "    * 8\tJust above average in construction and design. Usually better materials in both the exterior and interior finish work.\n",
    "    * 9\tBetter architectural design with extra interior and exterior design and quality.\n",
    "    * 10\tHomes of this quality generally have high quality features. Finish work is better and more design quality is seen in the floor plans. Generally have a larger square footage.\n",
    "    * 11\tCustom design and higher quality finish work with added amenities of solid woods, bathroom fixtures and more luxurious options.\n",
    "    * 12\tCustom design and excellent builders. All materials are of the highest quality and all conveniences are present.\n",
    "    * 13\tGenerally custom designed and built. Mansion level. Large amount of highest quality cabinet work, wood trim, marble, entry ways etc.\n",
    "\n",
    "\n",
    "* **sqft_above:** ABOVE GRADE LIVING AREA; AGLA. The living area in a house not including the basement. \n",
    "* **sqft_basement:** square footage of the basement\n",
    "* **yr_built:** year the house was built\n",
    "* **yr_renovated:** year the house was renovated\n",
    "* **zipcode:** address zip code \n",
    "* **lat:** latitude coordinate\n",
    "* **long:** longitude coordinate\n",
    "* **sqft_living15:** the square footage of interior housing living space for the nearest 15 neighbors\n",
    "* **sqft_lot15:** the square footage of the land lots of the nearest 15 neighbors"
   ]
  },
  {
   "cell_type": "code",
   "execution_count": 2,
   "metadata": {},
   "outputs": [],
   "source": [
    "import pandas as pd\n",
    "import numpy as np\n",
    "\n",
    "import matplotlib.pyplot as plt\n",
    "import seaborn as sns\n",
    "\n",
    "import statsmodels.api as sm\n",
    "import statsmodels.formula.api as smf\n",
    "from statsmodels.formula.api import ols\n",
    "\n",
    "%matplotlib inline"
   ]
  },
  {
   "cell_type": "markdown",
   "metadata": {},
   "source": [
    "An initial look at the dataframe:"
   ]
  },
  {
   "cell_type": "code",
   "execution_count": 3,
   "metadata": {},
   "outputs": [
    {
     "data": {
      "text/html": [
       "<div>\n",
       "<style scoped>\n",
       "    .dataframe tbody tr th:only-of-type {\n",
       "        vertical-align: middle;\n",
       "    }\n",
       "\n",
       "    .dataframe tbody tr th {\n",
       "        vertical-align: top;\n",
       "    }\n",
       "\n",
       "    .dataframe thead th {\n",
       "        text-align: right;\n",
       "    }\n",
       "</style>\n",
       "<table border=\"1\" class=\"dataframe\">\n",
       "  <thead>\n",
       "    <tr style=\"text-align: right;\">\n",
       "      <th></th>\n",
       "      <th>id</th>\n",
       "      <th>date</th>\n",
       "      <th>price</th>\n",
       "      <th>bedrooms</th>\n",
       "      <th>bathrooms</th>\n",
       "      <th>sqft_living</th>\n",
       "      <th>sqft_lot</th>\n",
       "      <th>floors</th>\n",
       "      <th>waterfront</th>\n",
       "      <th>view</th>\n",
       "      <th>...</th>\n",
       "      <th>grade</th>\n",
       "      <th>sqft_above</th>\n",
       "      <th>sqft_basement</th>\n",
       "      <th>yr_built</th>\n",
       "      <th>yr_renovated</th>\n",
       "      <th>zipcode</th>\n",
       "      <th>lat</th>\n",
       "      <th>long</th>\n",
       "      <th>sqft_living15</th>\n",
       "      <th>sqft_lot15</th>\n",
       "    </tr>\n",
       "  </thead>\n",
       "  <tbody>\n",
       "    <tr>\n",
       "      <th>0</th>\n",
       "      <td>7129300520</td>\n",
       "      <td>10/13/2014</td>\n",
       "      <td>221900.0</td>\n",
       "      <td>3</td>\n",
       "      <td>1.00</td>\n",
       "      <td>1180</td>\n",
       "      <td>5650</td>\n",
       "      <td>1.0</td>\n",
       "      <td>NaN</td>\n",
       "      <td>0.0</td>\n",
       "      <td>...</td>\n",
       "      <td>7</td>\n",
       "      <td>1180</td>\n",
       "      <td>0.0</td>\n",
       "      <td>1955</td>\n",
       "      <td>0.0</td>\n",
       "      <td>98178</td>\n",
       "      <td>47.5112</td>\n",
       "      <td>-122.257</td>\n",
       "      <td>1340</td>\n",
       "      <td>5650</td>\n",
       "    </tr>\n",
       "    <tr>\n",
       "      <th>1</th>\n",
       "      <td>6414100192</td>\n",
       "      <td>12/9/2014</td>\n",
       "      <td>538000.0</td>\n",
       "      <td>3</td>\n",
       "      <td>2.25</td>\n",
       "      <td>2570</td>\n",
       "      <td>7242</td>\n",
       "      <td>2.0</td>\n",
       "      <td>0.0</td>\n",
       "      <td>0.0</td>\n",
       "      <td>...</td>\n",
       "      <td>7</td>\n",
       "      <td>2170</td>\n",
       "      <td>400.0</td>\n",
       "      <td>1951</td>\n",
       "      <td>1991.0</td>\n",
       "      <td>98125</td>\n",
       "      <td>47.7210</td>\n",
       "      <td>-122.319</td>\n",
       "      <td>1690</td>\n",
       "      <td>7639</td>\n",
       "    </tr>\n",
       "    <tr>\n",
       "      <th>2</th>\n",
       "      <td>5631500400</td>\n",
       "      <td>2/25/2015</td>\n",
       "      <td>180000.0</td>\n",
       "      <td>2</td>\n",
       "      <td>1.00</td>\n",
       "      <td>770</td>\n",
       "      <td>10000</td>\n",
       "      <td>1.0</td>\n",
       "      <td>0.0</td>\n",
       "      <td>0.0</td>\n",
       "      <td>...</td>\n",
       "      <td>6</td>\n",
       "      <td>770</td>\n",
       "      <td>0.0</td>\n",
       "      <td>1933</td>\n",
       "      <td>NaN</td>\n",
       "      <td>98028</td>\n",
       "      <td>47.7379</td>\n",
       "      <td>-122.233</td>\n",
       "      <td>2720</td>\n",
       "      <td>8062</td>\n",
       "    </tr>\n",
       "    <tr>\n",
       "      <th>3</th>\n",
       "      <td>2487200875</td>\n",
       "      <td>12/9/2014</td>\n",
       "      <td>604000.0</td>\n",
       "      <td>4</td>\n",
       "      <td>3.00</td>\n",
       "      <td>1960</td>\n",
       "      <td>5000</td>\n",
       "      <td>1.0</td>\n",
       "      <td>0.0</td>\n",
       "      <td>0.0</td>\n",
       "      <td>...</td>\n",
       "      <td>7</td>\n",
       "      <td>1050</td>\n",
       "      <td>910.0</td>\n",
       "      <td>1965</td>\n",
       "      <td>0.0</td>\n",
       "      <td>98136</td>\n",
       "      <td>47.5208</td>\n",
       "      <td>-122.393</td>\n",
       "      <td>1360</td>\n",
       "      <td>5000</td>\n",
       "    </tr>\n",
       "    <tr>\n",
       "      <th>4</th>\n",
       "      <td>1954400510</td>\n",
       "      <td>2/18/2015</td>\n",
       "      <td>510000.0</td>\n",
       "      <td>3</td>\n",
       "      <td>2.00</td>\n",
       "      <td>1680</td>\n",
       "      <td>8080</td>\n",
       "      <td>1.0</td>\n",
       "      <td>0.0</td>\n",
       "      <td>0.0</td>\n",
       "      <td>...</td>\n",
       "      <td>8</td>\n",
       "      <td>1680</td>\n",
       "      <td>0.0</td>\n",
       "      <td>1987</td>\n",
       "      <td>0.0</td>\n",
       "      <td>98074</td>\n",
       "      <td>47.6168</td>\n",
       "      <td>-122.045</td>\n",
       "      <td>1800</td>\n",
       "      <td>7503</td>\n",
       "    </tr>\n",
       "  </tbody>\n",
       "</table>\n",
       "<p>5 rows × 21 columns</p>\n",
       "</div>"
      ],
      "text/plain": [
       "           id        date     price  bedrooms  bathrooms  sqft_living  \\\n",
       "0  7129300520  10/13/2014  221900.0         3       1.00         1180   \n",
       "1  6414100192   12/9/2014  538000.0         3       2.25         2570   \n",
       "2  5631500400   2/25/2015  180000.0         2       1.00          770   \n",
       "3  2487200875   12/9/2014  604000.0         4       3.00         1960   \n",
       "4  1954400510   2/18/2015  510000.0         3       2.00         1680   \n",
       "\n",
       "   sqft_lot  floors  waterfront  view     ...      grade  sqft_above  \\\n",
       "0      5650     1.0         NaN   0.0     ...          7        1180   \n",
       "1      7242     2.0         0.0   0.0     ...          7        2170   \n",
       "2     10000     1.0         0.0   0.0     ...          6         770   \n",
       "3      5000     1.0         0.0   0.0     ...          7        1050   \n",
       "4      8080     1.0         0.0   0.0     ...          8        1680   \n",
       "\n",
       "   sqft_basement yr_built  yr_renovated  zipcode      lat     long  \\\n",
       "0            0.0     1955           0.0    98178  47.5112 -122.257   \n",
       "1          400.0     1951        1991.0    98125  47.7210 -122.319   \n",
       "2            0.0     1933           NaN    98028  47.7379 -122.233   \n",
       "3          910.0     1965           0.0    98136  47.5208 -122.393   \n",
       "4            0.0     1987           0.0    98074  47.6168 -122.045   \n",
       "\n",
       "   sqft_living15  sqft_lot15  \n",
       "0           1340        5650  \n",
       "1           1690        7639  \n",
       "2           2720        8062  \n",
       "3           1360        5000  \n",
       "4           1800        7503  \n",
       "\n",
       "[5 rows x 21 columns]"
      ]
     },
     "execution_count": 3,
     "metadata": {},
     "output_type": "execute_result"
    }
   ],
   "source": [
    "df = pd.read_csv('kc_house_data.csv')  \n",
    "df.head()"
   ]
  },
  {
   "cell_type": "markdown",
   "metadata": {},
   "source": [
    "###### Observations:\n",
    "* Missing or NaN values in waterfornt, view, yr_renovated.\n",
    "* Placeholders in sqft_basement.\n",
    "* By the definition of the columns,  we can see that there are two categorical columns (condition and grade). \n",
    "* Definition of the last two columns could not be verified."
   ]
  },
  {
   "cell_type": "markdown",
   "metadata": {},
   "source": [
    "### Dataset information"
   ]
  },
  {
   "cell_type": "code",
   "execution_count": 4,
   "metadata": {},
   "outputs": [
    {
     "data": {
      "text/plain": [
       "pandas.core.frame.DataFrame"
      ]
     },
     "execution_count": 4,
     "metadata": {},
     "output_type": "execute_result"
    }
   ],
   "source": [
    "# make sure the data structure is a dataframe\n",
    "type(df)"
   ]
  },
  {
   "cell_type": "code",
   "execution_count": 5,
   "metadata": {},
   "outputs": [
    {
     "name": "stdout",
     "output_type": "stream",
     "text": [
      "<class 'pandas.core.frame.DataFrame'>\n",
      "RangeIndex: 21597 entries, 0 to 21596\n",
      "Data columns (total 21 columns):\n",
      "id               21597 non-null int64\n",
      "date             21597 non-null object\n",
      "price            21597 non-null float64\n",
      "bedrooms         21597 non-null int64\n",
      "bathrooms        21597 non-null float64\n",
      "sqft_living      21597 non-null int64\n",
      "sqft_lot         21597 non-null int64\n",
      "floors           21597 non-null float64\n",
      "waterfront       19221 non-null float64\n",
      "view             21534 non-null float64\n",
      "condition        21597 non-null int64\n",
      "grade            21597 non-null int64\n",
      "sqft_above       21597 non-null int64\n",
      "sqft_basement    21597 non-null object\n",
      "yr_built         21597 non-null int64\n",
      "yr_renovated     17755 non-null float64\n",
      "zipcode          21597 non-null int64\n",
      "lat              21597 non-null float64\n",
      "long             21597 non-null float64\n",
      "sqft_living15    21597 non-null int64\n",
      "sqft_lot15       21597 non-null int64\n",
      "dtypes: float64(8), int64(11), object(2)\n",
      "memory usage: 3.5+ MB\n"
     ]
    }
   ],
   "source": [
    "# an overview of the dataset\n",
    "df.info()     #21,597 records and 21 columns"
   ]
  },
  {
   "cell_type": "code",
   "execution_count": 6,
   "metadata": {},
   "outputs": [
    {
     "data": {
      "text/plain": [
       "Index(['id', 'date', 'price', 'bedrooms', 'bathrooms', 'sqft_living',\n",
       "       'sqft_lot', 'floors', 'waterfront', 'view', 'condition', 'grade',\n",
       "       'sqft_above', 'sqft_basement', 'yr_built', 'yr_renovated', 'zipcode',\n",
       "       'lat', 'long', 'sqft_living15', 'sqft_lot15'],\n",
       "      dtype='object')"
      ]
     },
     "execution_count": 6,
     "metadata": {},
     "output_type": "execute_result"
    }
   ],
   "source": [
    "df.columns"
   ]
  },
  {
   "cell_type": "markdown",
   "metadata": {},
   "source": [
    "<b>Familiarize with the columns:</b> a file (column_names.md) was provided with a short definition for each column; the contents of this file were confronted with information displayed for each house in the King County Parcel Viewer website, some descriptions have been complemented or changed in order to have more accurate information. \n",
    "Below there is a screen shot of the first house in the dataframe and how the information is displayed in King County's website."
   ]
  },
  {
   "cell_type": "markdown",
   "metadata": {},
   "source": [
    "<img src=\"DF_0.png\">\n",
    "Image taken from King county parcel viewer"
   ]
  },
  {
   "cell_type": "markdown",
   "metadata": {},
   "source": [
    "## DATA CLEANING"
   ]
  },
  {
   "cell_type": "markdown",
   "metadata": {},
   "source": [
    "My aproach here is to check null values, placeholdersand type (for each column). <br>\n",
    "Drop columns/rows that contain a large ammount of missing values.<br>\n",
    "Replace/fill missing values where possible.<br>\n",
    "Create a category for  missing values, if necessary.<br>\n",
    "Handle outliers. <br>"
   ]
  },
  {
   "cell_type": "markdown",
   "metadata": {},
   "source": [
    "### NaN Values in the Dataframe\n",
    "Check for total number of null values (NaN) in the dataset "
   ]
  },
  {
   "cell_type": "code",
   "execution_count": 7,
   "metadata": {},
   "outputs": [
    {
     "data": {
      "text/plain": [
       "id                  0\n",
       "date                0\n",
       "price               0\n",
       "bedrooms            0\n",
       "bathrooms           0\n",
       "sqft_living         0\n",
       "sqft_lot            0\n",
       "floors              0\n",
       "waterfront       2376\n",
       "view               63\n",
       "condition           0\n",
       "grade               0\n",
       "sqft_above          0\n",
       "sqft_basement       0\n",
       "yr_built            0\n",
       "yr_renovated     3842\n",
       "zipcode             0\n",
       "lat                 0\n",
       "long                0\n",
       "sqft_living15       0\n",
       "sqft_lot15          0\n",
       "dtype: int64"
      ]
     },
     "execution_count": 7,
     "metadata": {},
     "output_type": "execute_result"
    }
   ],
   "source": [
    "df.isna().sum()  # by column"
   ]
  },
  {
   "cell_type": "markdown",
   "metadata": {},
   "source": [
    "#### waterfront\n"
   ]
  },
  {
   "cell_type": "code",
   "execution_count": 8,
   "metadata": {},
   "outputs": [
    {
     "data": {
      "text/plain": [
       "array([nan,  0.,  1.])"
      ]
     },
     "execution_count": 8,
     "metadata": {},
     "output_type": "execute_result"
    }
   ],
   "source": [
    "df['waterfront'].unique()"
   ]
  },
  {
   "cell_type": "code",
   "execution_count": 9,
   "metadata": {},
   "outputs": [
    {
     "data": {
      "text/plain": [
       "0.0    19075\n",
       "1.0      146\n",
       "Name: waterfront, dtype: int64"
      ]
     },
     "execution_count": 9,
     "metadata": {},
     "output_type": "execute_result"
    }
   ],
   "source": [
    "df['waterfront'].value_counts()"
   ]
  },
  {
   "cell_type": "markdown",
   "metadata": {},
   "source": [
    "<img src=\"waterfront_comp.png\">\n",
    "Image taken from King County parcel viewer"
   ]
  },
  {
   "cell_type": "markdown",
   "metadata": {},
   "source": [
    "After a deep investigation about waterfront properties in King County, I came to the conclussion that it is better to drop this column. There are many missing values and the properties located in the waterfront (value = 1) are very few compared with the information displayed in the parcel viewer map tool which includes properties in the Puget Sound and around the many lakes in King County, therefore the number of properties on the waterfront should be higher.<br>"
   ]
  },
  {
   "cell_type": "code",
   "execution_count": 10,
   "metadata": {},
   "outputs": [],
   "source": [
    "df.drop('waterfront', axis=1, inplace=True)"
   ]
  },
  {
   "cell_type": "code",
   "execution_count": 11,
   "metadata": {},
   "outputs": [
    {
     "data": {
      "text/html": [
       "<div>\n",
       "<style scoped>\n",
       "    .dataframe tbody tr th:only-of-type {\n",
       "        vertical-align: middle;\n",
       "    }\n",
       "\n",
       "    .dataframe tbody tr th {\n",
       "        vertical-align: top;\n",
       "    }\n",
       "\n",
       "    .dataframe thead th {\n",
       "        text-align: right;\n",
       "    }\n",
       "</style>\n",
       "<table border=\"1\" class=\"dataframe\">\n",
       "  <thead>\n",
       "    <tr style=\"text-align: right;\">\n",
       "      <th></th>\n",
       "      <th>id</th>\n",
       "      <th>date</th>\n",
       "      <th>price</th>\n",
       "      <th>bedrooms</th>\n",
       "      <th>bathrooms</th>\n",
       "      <th>sqft_living</th>\n",
       "      <th>sqft_lot</th>\n",
       "      <th>floors</th>\n",
       "      <th>view</th>\n",
       "      <th>condition</th>\n",
       "      <th>grade</th>\n",
       "      <th>sqft_above</th>\n",
       "      <th>sqft_basement</th>\n",
       "      <th>yr_built</th>\n",
       "      <th>yr_renovated</th>\n",
       "      <th>zipcode</th>\n",
       "      <th>lat</th>\n",
       "      <th>long</th>\n",
       "      <th>sqft_living15</th>\n",
       "      <th>sqft_lot15</th>\n",
       "    </tr>\n",
       "  </thead>\n",
       "  <tbody>\n",
       "    <tr>\n",
       "      <th>0</th>\n",
       "      <td>7129300520</td>\n",
       "      <td>10/13/2014</td>\n",
       "      <td>221900.0</td>\n",
       "      <td>3</td>\n",
       "      <td>1.00</td>\n",
       "      <td>1180</td>\n",
       "      <td>5650</td>\n",
       "      <td>1.0</td>\n",
       "      <td>0.0</td>\n",
       "      <td>3</td>\n",
       "      <td>7</td>\n",
       "      <td>1180</td>\n",
       "      <td>0.0</td>\n",
       "      <td>1955</td>\n",
       "      <td>0.0</td>\n",
       "      <td>98178</td>\n",
       "      <td>47.5112</td>\n",
       "      <td>-122.257</td>\n",
       "      <td>1340</td>\n",
       "      <td>5650</td>\n",
       "    </tr>\n",
       "    <tr>\n",
       "      <th>1</th>\n",
       "      <td>6414100192</td>\n",
       "      <td>12/9/2014</td>\n",
       "      <td>538000.0</td>\n",
       "      <td>3</td>\n",
       "      <td>2.25</td>\n",
       "      <td>2570</td>\n",
       "      <td>7242</td>\n",
       "      <td>2.0</td>\n",
       "      <td>0.0</td>\n",
       "      <td>3</td>\n",
       "      <td>7</td>\n",
       "      <td>2170</td>\n",
       "      <td>400.0</td>\n",
       "      <td>1951</td>\n",
       "      <td>1991.0</td>\n",
       "      <td>98125</td>\n",
       "      <td>47.7210</td>\n",
       "      <td>-122.319</td>\n",
       "      <td>1690</td>\n",
       "      <td>7639</td>\n",
       "    </tr>\n",
       "    <tr>\n",
       "      <th>2</th>\n",
       "      <td>5631500400</td>\n",
       "      <td>2/25/2015</td>\n",
       "      <td>180000.0</td>\n",
       "      <td>2</td>\n",
       "      <td>1.00</td>\n",
       "      <td>770</td>\n",
       "      <td>10000</td>\n",
       "      <td>1.0</td>\n",
       "      <td>0.0</td>\n",
       "      <td>3</td>\n",
       "      <td>6</td>\n",
       "      <td>770</td>\n",
       "      <td>0.0</td>\n",
       "      <td>1933</td>\n",
       "      <td>NaN</td>\n",
       "      <td>98028</td>\n",
       "      <td>47.7379</td>\n",
       "      <td>-122.233</td>\n",
       "      <td>2720</td>\n",
       "      <td>8062</td>\n",
       "    </tr>\n",
       "    <tr>\n",
       "      <th>3</th>\n",
       "      <td>2487200875</td>\n",
       "      <td>12/9/2014</td>\n",
       "      <td>604000.0</td>\n",
       "      <td>4</td>\n",
       "      <td>3.00</td>\n",
       "      <td>1960</td>\n",
       "      <td>5000</td>\n",
       "      <td>1.0</td>\n",
       "      <td>0.0</td>\n",
       "      <td>5</td>\n",
       "      <td>7</td>\n",
       "      <td>1050</td>\n",
       "      <td>910.0</td>\n",
       "      <td>1965</td>\n",
       "      <td>0.0</td>\n",
       "      <td>98136</td>\n",
       "      <td>47.5208</td>\n",
       "      <td>-122.393</td>\n",
       "      <td>1360</td>\n",
       "      <td>5000</td>\n",
       "    </tr>\n",
       "    <tr>\n",
       "      <th>4</th>\n",
       "      <td>1954400510</td>\n",
       "      <td>2/18/2015</td>\n",
       "      <td>510000.0</td>\n",
       "      <td>3</td>\n",
       "      <td>2.00</td>\n",
       "      <td>1680</td>\n",
       "      <td>8080</td>\n",
       "      <td>1.0</td>\n",
       "      <td>0.0</td>\n",
       "      <td>3</td>\n",
       "      <td>8</td>\n",
       "      <td>1680</td>\n",
       "      <td>0.0</td>\n",
       "      <td>1987</td>\n",
       "      <td>0.0</td>\n",
       "      <td>98074</td>\n",
       "      <td>47.6168</td>\n",
       "      <td>-122.045</td>\n",
       "      <td>1800</td>\n",
       "      <td>7503</td>\n",
       "    </tr>\n",
       "  </tbody>\n",
       "</table>\n",
       "</div>"
      ],
      "text/plain": [
       "           id        date     price  bedrooms  bathrooms  sqft_living  \\\n",
       "0  7129300520  10/13/2014  221900.0         3       1.00         1180   \n",
       "1  6414100192   12/9/2014  538000.0         3       2.25         2570   \n",
       "2  5631500400   2/25/2015  180000.0         2       1.00          770   \n",
       "3  2487200875   12/9/2014  604000.0         4       3.00         1960   \n",
       "4  1954400510   2/18/2015  510000.0         3       2.00         1680   \n",
       "\n",
       "   sqft_lot  floors  view  condition  grade  sqft_above sqft_basement  \\\n",
       "0      5650     1.0   0.0          3      7        1180           0.0   \n",
       "1      7242     2.0   0.0          3      7        2170         400.0   \n",
       "2     10000     1.0   0.0          3      6         770           0.0   \n",
       "3      5000     1.0   0.0          5      7        1050         910.0   \n",
       "4      8080     1.0   0.0          3      8        1680           0.0   \n",
       "\n",
       "   yr_built  yr_renovated  zipcode      lat     long  sqft_living15  \\\n",
       "0      1955           0.0    98178  47.5112 -122.257           1340   \n",
       "1      1951        1991.0    98125  47.7210 -122.319           1690   \n",
       "2      1933           NaN    98028  47.7379 -122.233           2720   \n",
       "3      1965           0.0    98136  47.5208 -122.393           1360   \n",
       "4      1987           0.0    98074  47.6168 -122.045           1800   \n",
       "\n",
       "   sqft_lot15  \n",
       "0        5650  \n",
       "1        7639  \n",
       "2        8062  \n",
       "3        5000  \n",
       "4        7503  "
      ]
     },
     "execution_count": 11,
     "metadata": {},
     "output_type": "execute_result"
    }
   ],
   "source": [
    "df.head()"
   ]
  },
  {
   "cell_type": "markdown",
   "metadata": {},
   "source": [
    "#### view"
   ]
  },
  {
   "cell_type": "code",
   "execution_count": 12,
   "metadata": {},
   "outputs": [
    {
     "data": {
      "text/plain": [
       "array([ 0., nan,  3.,  4.,  2.,  1.])"
      ]
     },
     "execution_count": 12,
     "metadata": {},
     "output_type": "execute_result"
    }
   ],
   "source": [
    "df['view'].unique()     # categorical data"
   ]
  },
  {
   "cell_type": "code",
   "execution_count": 14,
   "metadata": {},
   "outputs": [],
   "source": [
    "# drop 63 rows \n",
    "df.dropna(subset=['view'], inplace=True)"
   ]
  },
  {
   "cell_type": "code",
   "execution_count": 15,
   "metadata": {},
   "outputs": [
    {
     "data": {
      "text/html": [
       "<div>\n",
       "<style scoped>\n",
       "    .dataframe tbody tr th:only-of-type {\n",
       "        vertical-align: middle;\n",
       "    }\n",
       "\n",
       "    .dataframe tbody tr th {\n",
       "        vertical-align: top;\n",
       "    }\n",
       "\n",
       "    .dataframe thead th {\n",
       "        text-align: right;\n",
       "    }\n",
       "</style>\n",
       "<table border=\"1\" class=\"dataframe\">\n",
       "  <thead>\n",
       "    <tr style=\"text-align: right;\">\n",
       "      <th></th>\n",
       "      <th>id</th>\n",
       "      <th>date</th>\n",
       "      <th>price</th>\n",
       "      <th>bedrooms</th>\n",
       "      <th>bathrooms</th>\n",
       "      <th>sqft_living</th>\n",
       "      <th>sqft_lot</th>\n",
       "      <th>floors</th>\n",
       "      <th>view</th>\n",
       "      <th>condition</th>\n",
       "      <th>grade</th>\n",
       "      <th>sqft_above</th>\n",
       "      <th>sqft_basement</th>\n",
       "      <th>yr_built</th>\n",
       "      <th>yr_renovated</th>\n",
       "      <th>zipcode</th>\n",
       "      <th>lat</th>\n",
       "      <th>long</th>\n",
       "      <th>sqft_living15</th>\n",
       "      <th>sqft_lot15</th>\n",
       "    </tr>\n",
       "  </thead>\n",
       "  <tbody>\n",
       "    <tr>\n",
       "      <th>0</th>\n",
       "      <td>7129300520</td>\n",
       "      <td>10/13/2014</td>\n",
       "      <td>221900.0</td>\n",
       "      <td>3</td>\n",
       "      <td>1.00</td>\n",
       "      <td>1180</td>\n",
       "      <td>5650</td>\n",
       "      <td>1.0</td>\n",
       "      <td>0.0</td>\n",
       "      <td>3</td>\n",
       "      <td>7</td>\n",
       "      <td>1180</td>\n",
       "      <td>0.0</td>\n",
       "      <td>1955</td>\n",
       "      <td>0.0</td>\n",
       "      <td>98178</td>\n",
       "      <td>47.5112</td>\n",
       "      <td>-122.257</td>\n",
       "      <td>1340</td>\n",
       "      <td>5650</td>\n",
       "    </tr>\n",
       "    <tr>\n",
       "      <th>1</th>\n",
       "      <td>6414100192</td>\n",
       "      <td>12/9/2014</td>\n",
       "      <td>538000.0</td>\n",
       "      <td>3</td>\n",
       "      <td>2.25</td>\n",
       "      <td>2570</td>\n",
       "      <td>7242</td>\n",
       "      <td>2.0</td>\n",
       "      <td>0.0</td>\n",
       "      <td>3</td>\n",
       "      <td>7</td>\n",
       "      <td>2170</td>\n",
       "      <td>400.0</td>\n",
       "      <td>1951</td>\n",
       "      <td>1991.0</td>\n",
       "      <td>98125</td>\n",
       "      <td>47.7210</td>\n",
       "      <td>-122.319</td>\n",
       "      <td>1690</td>\n",
       "      <td>7639</td>\n",
       "    </tr>\n",
       "    <tr>\n",
       "      <th>2</th>\n",
       "      <td>5631500400</td>\n",
       "      <td>2/25/2015</td>\n",
       "      <td>180000.0</td>\n",
       "      <td>2</td>\n",
       "      <td>1.00</td>\n",
       "      <td>770</td>\n",
       "      <td>10000</td>\n",
       "      <td>1.0</td>\n",
       "      <td>0.0</td>\n",
       "      <td>3</td>\n",
       "      <td>6</td>\n",
       "      <td>770</td>\n",
       "      <td>0.0</td>\n",
       "      <td>1933</td>\n",
       "      <td>NaN</td>\n",
       "      <td>98028</td>\n",
       "      <td>47.7379</td>\n",
       "      <td>-122.233</td>\n",
       "      <td>2720</td>\n",
       "      <td>8062</td>\n",
       "    </tr>\n",
       "    <tr>\n",
       "      <th>3</th>\n",
       "      <td>2487200875</td>\n",
       "      <td>12/9/2014</td>\n",
       "      <td>604000.0</td>\n",
       "      <td>4</td>\n",
       "      <td>3.00</td>\n",
       "      <td>1960</td>\n",
       "      <td>5000</td>\n",
       "      <td>1.0</td>\n",
       "      <td>0.0</td>\n",
       "      <td>5</td>\n",
       "      <td>7</td>\n",
       "      <td>1050</td>\n",
       "      <td>910.0</td>\n",
       "      <td>1965</td>\n",
       "      <td>0.0</td>\n",
       "      <td>98136</td>\n",
       "      <td>47.5208</td>\n",
       "      <td>-122.393</td>\n",
       "      <td>1360</td>\n",
       "      <td>5000</td>\n",
       "    </tr>\n",
       "    <tr>\n",
       "      <th>4</th>\n",
       "      <td>1954400510</td>\n",
       "      <td>2/18/2015</td>\n",
       "      <td>510000.0</td>\n",
       "      <td>3</td>\n",
       "      <td>2.00</td>\n",
       "      <td>1680</td>\n",
       "      <td>8080</td>\n",
       "      <td>1.0</td>\n",
       "      <td>0.0</td>\n",
       "      <td>3</td>\n",
       "      <td>8</td>\n",
       "      <td>1680</td>\n",
       "      <td>0.0</td>\n",
       "      <td>1987</td>\n",
       "      <td>0.0</td>\n",
       "      <td>98074</td>\n",
       "      <td>47.6168</td>\n",
       "      <td>-122.045</td>\n",
       "      <td>1800</td>\n",
       "      <td>7503</td>\n",
       "    </tr>\n",
       "  </tbody>\n",
       "</table>\n",
       "</div>"
      ],
      "text/plain": [
       "           id        date     price  bedrooms  bathrooms  sqft_living  \\\n",
       "0  7129300520  10/13/2014  221900.0         3       1.00         1180   \n",
       "1  6414100192   12/9/2014  538000.0         3       2.25         2570   \n",
       "2  5631500400   2/25/2015  180000.0         2       1.00          770   \n",
       "3  2487200875   12/9/2014  604000.0         4       3.00         1960   \n",
       "4  1954400510   2/18/2015  510000.0         3       2.00         1680   \n",
       "\n",
       "   sqft_lot  floors  view  condition  grade  sqft_above sqft_basement  \\\n",
       "0      5650     1.0   0.0          3      7        1180           0.0   \n",
       "1      7242     2.0   0.0          3      7        2170         400.0   \n",
       "2     10000     1.0   0.0          3      6         770           0.0   \n",
       "3      5000     1.0   0.0          5      7        1050         910.0   \n",
       "4      8080     1.0   0.0          3      8        1680           0.0   \n",
       "\n",
       "   yr_built  yr_renovated  zipcode      lat     long  sqft_living15  \\\n",
       "0      1955           0.0    98178  47.5112 -122.257           1340   \n",
       "1      1951        1991.0    98125  47.7210 -122.319           1690   \n",
       "2      1933           NaN    98028  47.7379 -122.233           2720   \n",
       "3      1965           0.0    98136  47.5208 -122.393           1360   \n",
       "4      1987           0.0    98074  47.6168 -122.045           1800   \n",
       "\n",
       "   sqft_lot15  \n",
       "0        5650  \n",
       "1        7639  \n",
       "2        8062  \n",
       "3        5000  \n",
       "4        7503  "
      ]
     },
     "execution_count": 15,
     "metadata": {},
     "output_type": "execute_result"
    }
   ],
   "source": [
    "# confirm values have been dropped and other values have not changed in the DF\n",
    "df.head()"
   ]
  },
  {
   "cell_type": "code",
   "execution_count": 16,
   "metadata": {},
   "outputs": [
    {
     "data": {
      "text/plain": [
       "array([0., 3., 4., 2., 1.])"
      ]
     },
     "execution_count": 16,
     "metadata": {},
     "output_type": "execute_result"
    }
   ],
   "source": [
    "# verify \n",
    "df['view'].unique()  "
   ]
  },
  {
   "cell_type": "markdown",
   "metadata": {},
   "source": [
    "#### yr_renovated"
   ]
  },
  {
   "cell_type": "code",
   "execution_count": 17,
   "metadata": {},
   "outputs": [
    {
     "data": {
      "text/plain": [
       "array([   0., 1991.,   nan, 2002., 2010., 1992., 2013., 1994., 1978.,\n",
       "       2005., 2003., 1984., 1954., 2014., 2011., 1983., 1945., 1990.,\n",
       "       1988., 1977., 1981., 1995., 2000., 1999., 1998., 1970., 1989.,\n",
       "       2004., 1986., 2007., 1987., 2006., 1985., 2001., 1980., 1971.,\n",
       "       1979., 1997., 1950., 1969., 1948., 2009., 2015., 1974., 2008.,\n",
       "       1968., 2012., 1963., 1951., 1962., 1953., 1993., 1996., 1955.,\n",
       "       1982., 1956., 1940., 1976., 1946., 1975., 1964., 1973., 1957.,\n",
       "       1959., 1960., 1967., 1965., 1934., 1972., 1944., 1958.])"
      ]
     },
     "execution_count": 17,
     "metadata": {},
     "output_type": "execute_result"
    }
   ],
   "source": [
    "df['yr_renovated'].unique()"
   ]
  },
  {
   "cell_type": "code",
   "execution_count": 18,
   "metadata": {},
   "outputs": [
    {
     "data": {
      "text/plain": [
       "3830"
      ]
     },
     "execution_count": 18,
     "metadata": {},
     "output_type": "execute_result"
    }
   ],
   "source": [
    "df['yr_renovated'].isna().sum()"
   ]
  },
  {
   "cell_type": "markdown",
   "metadata": {},
   "source": [
    "Some values have already been removed as a result of the procedure from above. For now, I will replace nan with value=0, meaning that the house has not been renovated.<br> Keep in mind we also have the categorical <b>condition</b> column which provide us with insights about the condition of a house according to its age."
   ]
  },
  {
   "cell_type": "code",
   "execution_count": 19,
   "metadata": {},
   "outputs": [],
   "source": [
    "df.loc[df.yr_renovated.isna(), 'yr_renovated'] = 0"
   ]
  },
  {
   "cell_type": "code",
   "execution_count": 20,
   "metadata": {},
   "outputs": [
    {
     "data": {
      "text/plain": [
       "array([   0., 1991., 2002., 2010., 1992., 2013., 1994., 1978., 2005.,\n",
       "       2003., 1984., 1954., 2014., 2011., 1983., 1945., 1990., 1988.,\n",
       "       1977., 1981., 1995., 2000., 1999., 1998., 1970., 1989., 2004.,\n",
       "       1986., 2007., 1987., 2006., 1985., 2001., 1980., 1971., 1979.,\n",
       "       1997., 1950., 1969., 1948., 2009., 2015., 1974., 2008., 1968.,\n",
       "       2012., 1963., 1951., 1962., 1953., 1993., 1996., 1955., 1982.,\n",
       "       1956., 1940., 1976., 1946., 1975., 1964., 1973., 1957., 1959.,\n",
       "       1960., 1967., 1965., 1934., 1972., 1944., 1958.])"
      ]
     },
     "execution_count": 20,
     "metadata": {},
     "output_type": "execute_result"
    }
   ],
   "source": [
    "df['yr_renovated'].unique()"
   ]
  },
  {
   "cell_type": "markdown",
   "metadata": {},
   "source": [
    "Confirm that there no NULL values in the dataframe:"
   ]
  },
  {
   "cell_type": "code",
   "execution_count": 21,
   "metadata": {},
   "outputs": [
    {
     "data": {
      "text/plain": [
       "id               0\n",
       "date             0\n",
       "price            0\n",
       "bedrooms         0\n",
       "bathrooms        0\n",
       "sqft_living      0\n",
       "sqft_lot         0\n",
       "floors           0\n",
       "view             0\n",
       "condition        0\n",
       "grade            0\n",
       "sqft_above       0\n",
       "sqft_basement    0\n",
       "yr_built         0\n",
       "yr_renovated     0\n",
       "zipcode          0\n",
       "lat              0\n",
       "long             0\n",
       "sqft_living15    0\n",
       "sqft_lot15       0\n",
       "dtype: int64"
      ]
     },
     "execution_count": 21,
     "metadata": {},
     "output_type": "execute_result"
    }
   ],
   "source": [
    "df.isna().sum()"
   ]
  },
  {
   "cell_type": "markdown",
   "metadata": {},
   "source": [
    "### Datatype, Placeholders and Outliers"
   ]
  },
  {
   "cell_type": "markdown",
   "metadata": {},
   "source": [
    "#### id\n",
    "The id column is the parcel number assigned to each plot."
   ]
  },
  {
   "cell_type": "code",
   "execution_count": 22,
   "metadata": {},
   "outputs": [
    {
     "data": {
      "text/plain": [
       "dtype('int64')"
      ]
     },
     "execution_count": 22,
     "metadata": {},
     "output_type": "execute_result"
    }
   ],
   "source": [
    "# This column will be left as itis\n",
    "df['id'].dtypes"
   ]
  },
  {
   "cell_type": "code",
   "execution_count": 23,
   "metadata": {},
   "outputs": [
    {
     "data": {
      "text/html": [
       "<div>\n",
       "<style scoped>\n",
       "    .dataframe tbody tr th:only-of-type {\n",
       "        vertical-align: middle;\n",
       "    }\n",
       "\n",
       "    .dataframe tbody tr th {\n",
       "        vertical-align: top;\n",
       "    }\n",
       "\n",
       "    .dataframe thead th {\n",
       "        text-align: right;\n",
       "    }\n",
       "</style>\n",
       "<table border=\"1\" class=\"dataframe\">\n",
       "  <thead>\n",
       "    <tr style=\"text-align: right;\">\n",
       "      <th></th>\n",
       "      <th>date</th>\n",
       "      <th>price</th>\n",
       "      <th>bedrooms</th>\n",
       "      <th>bathrooms</th>\n",
       "      <th>sqft_living</th>\n",
       "      <th>sqft_lot</th>\n",
       "      <th>floors</th>\n",
       "      <th>view</th>\n",
       "      <th>condition</th>\n",
       "      <th>grade</th>\n",
       "      <th>sqft_above</th>\n",
       "      <th>sqft_basement</th>\n",
       "      <th>yr_built</th>\n",
       "      <th>yr_renovated</th>\n",
       "      <th>zipcode</th>\n",
       "      <th>lat</th>\n",
       "      <th>long</th>\n",
       "      <th>sqft_living15</th>\n",
       "      <th>sqft_lot15</th>\n",
       "    </tr>\n",
       "    <tr>\n",
       "      <th>id</th>\n",
       "      <th></th>\n",
       "      <th></th>\n",
       "      <th></th>\n",
       "      <th></th>\n",
       "      <th></th>\n",
       "      <th></th>\n",
       "      <th></th>\n",
       "      <th></th>\n",
       "      <th></th>\n",
       "      <th></th>\n",
       "      <th></th>\n",
       "      <th></th>\n",
       "      <th></th>\n",
       "      <th></th>\n",
       "      <th></th>\n",
       "      <th></th>\n",
       "      <th></th>\n",
       "      <th></th>\n",
       "      <th></th>\n",
       "    </tr>\n",
       "  </thead>\n",
       "  <tbody>\n",
       "    <tr>\n",
       "      <th>7129300520</th>\n",
       "      <td>10/13/2014</td>\n",
       "      <td>221900.0</td>\n",
       "      <td>3</td>\n",
       "      <td>1.00</td>\n",
       "      <td>1180</td>\n",
       "      <td>5650</td>\n",
       "      <td>1.0</td>\n",
       "      <td>0.0</td>\n",
       "      <td>3</td>\n",
       "      <td>7</td>\n",
       "      <td>1180</td>\n",
       "      <td>0.0</td>\n",
       "      <td>1955</td>\n",
       "      <td>0.0</td>\n",
       "      <td>98178</td>\n",
       "      <td>47.5112</td>\n",
       "      <td>-122.257</td>\n",
       "      <td>1340</td>\n",
       "      <td>5650</td>\n",
       "    </tr>\n",
       "    <tr>\n",
       "      <th>6414100192</th>\n",
       "      <td>12/9/2014</td>\n",
       "      <td>538000.0</td>\n",
       "      <td>3</td>\n",
       "      <td>2.25</td>\n",
       "      <td>2570</td>\n",
       "      <td>7242</td>\n",
       "      <td>2.0</td>\n",
       "      <td>0.0</td>\n",
       "      <td>3</td>\n",
       "      <td>7</td>\n",
       "      <td>2170</td>\n",
       "      <td>400.0</td>\n",
       "      <td>1951</td>\n",
       "      <td>1991.0</td>\n",
       "      <td>98125</td>\n",
       "      <td>47.7210</td>\n",
       "      <td>-122.319</td>\n",
       "      <td>1690</td>\n",
       "      <td>7639</td>\n",
       "    </tr>\n",
       "    <tr>\n",
       "      <th>5631500400</th>\n",
       "      <td>2/25/2015</td>\n",
       "      <td>180000.0</td>\n",
       "      <td>2</td>\n",
       "      <td>1.00</td>\n",
       "      <td>770</td>\n",
       "      <td>10000</td>\n",
       "      <td>1.0</td>\n",
       "      <td>0.0</td>\n",
       "      <td>3</td>\n",
       "      <td>6</td>\n",
       "      <td>770</td>\n",
       "      <td>0.0</td>\n",
       "      <td>1933</td>\n",
       "      <td>0.0</td>\n",
       "      <td>98028</td>\n",
       "      <td>47.7379</td>\n",
       "      <td>-122.233</td>\n",
       "      <td>2720</td>\n",
       "      <td>8062</td>\n",
       "    </tr>\n",
       "    <tr>\n",
       "      <th>2487200875</th>\n",
       "      <td>12/9/2014</td>\n",
       "      <td>604000.0</td>\n",
       "      <td>4</td>\n",
       "      <td>3.00</td>\n",
       "      <td>1960</td>\n",
       "      <td>5000</td>\n",
       "      <td>1.0</td>\n",
       "      <td>0.0</td>\n",
       "      <td>5</td>\n",
       "      <td>7</td>\n",
       "      <td>1050</td>\n",
       "      <td>910.0</td>\n",
       "      <td>1965</td>\n",
       "      <td>0.0</td>\n",
       "      <td>98136</td>\n",
       "      <td>47.5208</td>\n",
       "      <td>-122.393</td>\n",
       "      <td>1360</td>\n",
       "      <td>5000</td>\n",
       "    </tr>\n",
       "    <tr>\n",
       "      <th>1954400510</th>\n",
       "      <td>2/18/2015</td>\n",
       "      <td>510000.0</td>\n",
       "      <td>3</td>\n",
       "      <td>2.00</td>\n",
       "      <td>1680</td>\n",
       "      <td>8080</td>\n",
       "      <td>1.0</td>\n",
       "      <td>0.0</td>\n",
       "      <td>3</td>\n",
       "      <td>8</td>\n",
       "      <td>1680</td>\n",
       "      <td>0.0</td>\n",
       "      <td>1987</td>\n",
       "      <td>0.0</td>\n",
       "      <td>98074</td>\n",
       "      <td>47.6168</td>\n",
       "      <td>-122.045</td>\n",
       "      <td>1800</td>\n",
       "      <td>7503</td>\n",
       "    </tr>\n",
       "  </tbody>\n",
       "</table>\n",
       "</div>"
      ],
      "text/plain": [
       "                  date     price  bedrooms  bathrooms  sqft_living  sqft_lot  \\\n",
       "id                                                                             \n",
       "7129300520  10/13/2014  221900.0         3       1.00         1180      5650   \n",
       "6414100192   12/9/2014  538000.0         3       2.25         2570      7242   \n",
       "5631500400   2/25/2015  180000.0         2       1.00          770     10000   \n",
       "2487200875   12/9/2014  604000.0         4       3.00         1960      5000   \n",
       "1954400510   2/18/2015  510000.0         3       2.00         1680      8080   \n",
       "\n",
       "            floors  view  condition  grade  sqft_above sqft_basement  \\\n",
       "id                                                                     \n",
       "7129300520     1.0   0.0          3      7        1180           0.0   \n",
       "6414100192     2.0   0.0          3      7        2170         400.0   \n",
       "5631500400     1.0   0.0          3      6         770           0.0   \n",
       "2487200875     1.0   0.0          5      7        1050         910.0   \n",
       "1954400510     1.0   0.0          3      8        1680           0.0   \n",
       "\n",
       "            yr_built  yr_renovated  zipcode      lat     long  sqft_living15  \\\n",
       "id                                                                             \n",
       "7129300520      1955           0.0    98178  47.5112 -122.257           1340   \n",
       "6414100192      1951        1991.0    98125  47.7210 -122.319           1690   \n",
       "5631500400      1933           0.0    98028  47.7379 -122.233           2720   \n",
       "2487200875      1965           0.0    98136  47.5208 -122.393           1360   \n",
       "1954400510      1987           0.0    98074  47.6168 -122.045           1800   \n",
       "\n",
       "            sqft_lot15  \n",
       "id                      \n",
       "7129300520        5650  \n",
       "6414100192        7639  \n",
       "5631500400        8062  \n",
       "2487200875        5000  \n",
       "1954400510        7503  "
      ]
     },
     "execution_count": 23,
     "metadata": {},
     "output_type": "execute_result"
    }
   ],
   "source": [
    "#df['id'].is_unique    #False\n",
    "# Since this is a unique identifier for each house (parcel), we make it the index\n",
    "df.set_index('id', inplace=True)\n",
    "df.head()"
   ]
  },
  {
   "cell_type": "markdown",
   "metadata": {},
   "source": [
    "#### date"
   ]
  },
  {
   "cell_type": "code",
   "execution_count": 24,
   "metadata": {},
   "outputs": [
    {
     "data": {
      "text/plain": [
       "dtype('O')"
      ]
     },
     "execution_count": 24,
     "metadata": {},
     "output_type": "execute_result"
    }
   ],
   "source": [
    "df['date'].dtypes"
   ]
  },
  {
   "cell_type": "code",
   "execution_count": 25,
   "metadata": {},
   "outputs": [
    {
     "data": {
      "text/html": [
       "<div>\n",
       "<style scoped>\n",
       "    .dataframe tbody tr th:only-of-type {\n",
       "        vertical-align: middle;\n",
       "    }\n",
       "\n",
       "    .dataframe tbody tr th {\n",
       "        vertical-align: top;\n",
       "    }\n",
       "\n",
       "    .dataframe thead th {\n",
       "        text-align: right;\n",
       "    }\n",
       "</style>\n",
       "<table border=\"1\" class=\"dataframe\">\n",
       "  <thead>\n",
       "    <tr style=\"text-align: right;\">\n",
       "      <th></th>\n",
       "      <th>date</th>\n",
       "      <th>price</th>\n",
       "      <th>bedrooms</th>\n",
       "      <th>bathrooms</th>\n",
       "      <th>sqft_living</th>\n",
       "      <th>sqft_lot</th>\n",
       "      <th>floors</th>\n",
       "      <th>view</th>\n",
       "      <th>condition</th>\n",
       "      <th>grade</th>\n",
       "      <th>sqft_above</th>\n",
       "      <th>sqft_basement</th>\n",
       "      <th>yr_built</th>\n",
       "      <th>yr_renovated</th>\n",
       "      <th>zipcode</th>\n",
       "      <th>lat</th>\n",
       "      <th>long</th>\n",
       "      <th>sqft_living15</th>\n",
       "      <th>sqft_lot15</th>\n",
       "    </tr>\n",
       "    <tr>\n",
       "      <th>id</th>\n",
       "      <th></th>\n",
       "      <th></th>\n",
       "      <th></th>\n",
       "      <th></th>\n",
       "      <th></th>\n",
       "      <th></th>\n",
       "      <th></th>\n",
       "      <th></th>\n",
       "      <th></th>\n",
       "      <th></th>\n",
       "      <th></th>\n",
       "      <th></th>\n",
       "      <th></th>\n",
       "      <th></th>\n",
       "      <th></th>\n",
       "      <th></th>\n",
       "      <th></th>\n",
       "      <th></th>\n",
       "      <th></th>\n",
       "    </tr>\n",
       "  </thead>\n",
       "  <tbody>\n",
       "    <tr>\n",
       "      <th>7129300520</th>\n",
       "      <td>2014-10-13</td>\n",
       "      <td>221900.0</td>\n",
       "      <td>3</td>\n",
       "      <td>1.00</td>\n",
       "      <td>1180</td>\n",
       "      <td>5650</td>\n",
       "      <td>1.0</td>\n",
       "      <td>0.0</td>\n",
       "      <td>3</td>\n",
       "      <td>7</td>\n",
       "      <td>1180</td>\n",
       "      <td>0.0</td>\n",
       "      <td>1955</td>\n",
       "      <td>0.0</td>\n",
       "      <td>98178</td>\n",
       "      <td>47.5112</td>\n",
       "      <td>-122.257</td>\n",
       "      <td>1340</td>\n",
       "      <td>5650</td>\n",
       "    </tr>\n",
       "    <tr>\n",
       "      <th>6414100192</th>\n",
       "      <td>2014-12-09</td>\n",
       "      <td>538000.0</td>\n",
       "      <td>3</td>\n",
       "      <td>2.25</td>\n",
       "      <td>2570</td>\n",
       "      <td>7242</td>\n",
       "      <td>2.0</td>\n",
       "      <td>0.0</td>\n",
       "      <td>3</td>\n",
       "      <td>7</td>\n",
       "      <td>2170</td>\n",
       "      <td>400.0</td>\n",
       "      <td>1951</td>\n",
       "      <td>1991.0</td>\n",
       "      <td>98125</td>\n",
       "      <td>47.7210</td>\n",
       "      <td>-122.319</td>\n",
       "      <td>1690</td>\n",
       "      <td>7639</td>\n",
       "    </tr>\n",
       "    <tr>\n",
       "      <th>5631500400</th>\n",
       "      <td>2015-02-25</td>\n",
       "      <td>180000.0</td>\n",
       "      <td>2</td>\n",
       "      <td>1.00</td>\n",
       "      <td>770</td>\n",
       "      <td>10000</td>\n",
       "      <td>1.0</td>\n",
       "      <td>0.0</td>\n",
       "      <td>3</td>\n",
       "      <td>6</td>\n",
       "      <td>770</td>\n",
       "      <td>0.0</td>\n",
       "      <td>1933</td>\n",
       "      <td>0.0</td>\n",
       "      <td>98028</td>\n",
       "      <td>47.7379</td>\n",
       "      <td>-122.233</td>\n",
       "      <td>2720</td>\n",
       "      <td>8062</td>\n",
       "    </tr>\n",
       "    <tr>\n",
       "      <th>2487200875</th>\n",
       "      <td>2014-12-09</td>\n",
       "      <td>604000.0</td>\n",
       "      <td>4</td>\n",
       "      <td>3.00</td>\n",
       "      <td>1960</td>\n",
       "      <td>5000</td>\n",
       "      <td>1.0</td>\n",
       "      <td>0.0</td>\n",
       "      <td>5</td>\n",
       "      <td>7</td>\n",
       "      <td>1050</td>\n",
       "      <td>910.0</td>\n",
       "      <td>1965</td>\n",
       "      <td>0.0</td>\n",
       "      <td>98136</td>\n",
       "      <td>47.5208</td>\n",
       "      <td>-122.393</td>\n",
       "      <td>1360</td>\n",
       "      <td>5000</td>\n",
       "    </tr>\n",
       "    <tr>\n",
       "      <th>1954400510</th>\n",
       "      <td>2015-02-18</td>\n",
       "      <td>510000.0</td>\n",
       "      <td>3</td>\n",
       "      <td>2.00</td>\n",
       "      <td>1680</td>\n",
       "      <td>8080</td>\n",
       "      <td>1.0</td>\n",
       "      <td>0.0</td>\n",
       "      <td>3</td>\n",
       "      <td>8</td>\n",
       "      <td>1680</td>\n",
       "      <td>0.0</td>\n",
       "      <td>1987</td>\n",
       "      <td>0.0</td>\n",
       "      <td>98074</td>\n",
       "      <td>47.6168</td>\n",
       "      <td>-122.045</td>\n",
       "      <td>1800</td>\n",
       "      <td>7503</td>\n",
       "    </tr>\n",
       "  </tbody>\n",
       "</table>\n",
       "</div>"
      ],
      "text/plain": [
       "                 date     price  bedrooms  bathrooms  sqft_living  sqft_lot  \\\n",
       "id                                                                            \n",
       "7129300520 2014-10-13  221900.0         3       1.00         1180      5650   \n",
       "6414100192 2014-12-09  538000.0         3       2.25         2570      7242   \n",
       "5631500400 2015-02-25  180000.0         2       1.00          770     10000   \n",
       "2487200875 2014-12-09  604000.0         4       3.00         1960      5000   \n",
       "1954400510 2015-02-18  510000.0         3       2.00         1680      8080   \n",
       "\n",
       "            floors  view  condition  grade  sqft_above sqft_basement  \\\n",
       "id                                                                     \n",
       "7129300520     1.0   0.0          3      7        1180           0.0   \n",
       "6414100192     2.0   0.0          3      7        2170         400.0   \n",
       "5631500400     1.0   0.0          3      6         770           0.0   \n",
       "2487200875     1.0   0.0          5      7        1050         910.0   \n",
       "1954400510     1.0   0.0          3      8        1680           0.0   \n",
       "\n",
       "            yr_built  yr_renovated  zipcode      lat     long  sqft_living15  \\\n",
       "id                                                                             \n",
       "7129300520      1955           0.0    98178  47.5112 -122.257           1340   \n",
       "6414100192      1951        1991.0    98125  47.7210 -122.319           1690   \n",
       "5631500400      1933           0.0    98028  47.7379 -122.233           2720   \n",
       "2487200875      1965           0.0    98136  47.5208 -122.393           1360   \n",
       "1954400510      1987           0.0    98074  47.6168 -122.045           1800   \n",
       "\n",
       "            sqft_lot15  \n",
       "id                      \n",
       "7129300520        5650  \n",
       "6414100192        7639  \n",
       "5631500400        8062  \n",
       "2487200875        5000  \n",
       "1954400510        7503  "
      ]
     },
     "execution_count": 25,
     "metadata": {},
     "output_type": "execute_result"
    }
   ],
   "source": [
    "# convert argument to datetime for possible manipulation later on\n",
    "df['date'] = pd.to_datetime(df['date'])\n",
    "df.head()"
   ]
  },
  {
   "cell_type": "code",
   "execution_count": 284,
   "metadata": {},
   "outputs": [],
   "source": [
    "#df['date'].unique() # there are no placeholders in date column\n",
    "# array(['2014-10-13T00:00:00.000000000', '2014-12-09T00:00:00.000000000', '2015-02-25T00:00:00.000000000'..."
   ]
  },
  {
   "cell_type": "markdown",
   "metadata": {},
   "source": [
    "#### price"
   ]
  },
  {
   "cell_type": "code",
   "execution_count": 26,
   "metadata": {},
   "outputs": [
    {
     "data": {
      "text/plain": [
       "dtype('float64')"
      ]
     },
     "execution_count": 26,
     "metadata": {},
     "output_type": "execute_result"
    }
   ],
   "source": [
    "df['price'].dtypes"
   ]
  },
  {
   "cell_type": "code",
   "execution_count": 286,
   "metadata": {},
   "outputs": [],
   "source": [
    "# df['price'].value_counts()   # no placeholders in price column\n",
    "# 450000.0    171\n",
    "# 350000.0    171\n",
    "# 550000.0    159\n",
    "# 500000.0    152\n",
    "# ..."
   ]
  },
  {
   "cell_type": "markdown",
   "metadata": {},
   "source": [
    "#### bedrooms"
   ]
  },
  {
   "cell_type": "code",
   "execution_count": 27,
   "metadata": {},
   "outputs": [
    {
     "data": {
      "text/plain": [
       "dtype('int64')"
      ]
     },
     "execution_count": 27,
     "metadata": {},
     "output_type": "execute_result"
    }
   ],
   "source": [
    "df['bedrooms'].dtypes"
   ]
  },
  {
   "cell_type": "code",
   "execution_count": 28,
   "metadata": {},
   "outputs": [
    {
     "data": {
      "text/plain": [
       "array([ 3,  2,  4,  5,  1,  6,  7,  8,  9, 11, 10, 33])"
      ]
     },
     "execution_count": 28,
     "metadata": {},
     "output_type": "execute_result"
    }
   ],
   "source": [
    "df['bedrooms'].unique()   # possible outlier -> 33 bedrooms"
   ]
  },
  {
   "cell_type": "code",
   "execution_count": 29,
   "metadata": {},
   "outputs": [
    {
     "data": {
      "text/plain": [
       "3     9791\n",
       "4     6865\n",
       "2     2754\n",
       "5     1596\n",
       "6      270\n",
       "1      196\n",
       "7       38\n",
       "8       13\n",
       "9        6\n",
       "10       3\n",
       "11       1\n",
       "33       1\n",
       "Name: bedrooms, dtype: int64"
      ]
     },
     "execution_count": 29,
     "metadata": {},
     "output_type": "execute_result"
    }
   ],
   "source": [
    "# there is only one entry with 33 bedrooms, this is definetely an outlier, find more information about that entry\n",
    "df['bedrooms'].value_counts()"
   ]
  },
  {
   "cell_type": "code",
   "execution_count": 30,
   "metadata": {},
   "outputs": [
    {
     "data": {
      "text/html": [
       "<div>\n",
       "<style scoped>\n",
       "    .dataframe tbody tr th:only-of-type {\n",
       "        vertical-align: middle;\n",
       "    }\n",
       "\n",
       "    .dataframe tbody tr th {\n",
       "        vertical-align: top;\n",
       "    }\n",
       "\n",
       "    .dataframe thead th {\n",
       "        text-align: right;\n",
       "    }\n",
       "</style>\n",
       "<table border=\"1\" class=\"dataframe\">\n",
       "  <thead>\n",
       "    <tr style=\"text-align: right;\">\n",
       "      <th></th>\n",
       "      <th>date</th>\n",
       "      <th>price</th>\n",
       "      <th>bedrooms</th>\n",
       "      <th>bathrooms</th>\n",
       "      <th>sqft_living</th>\n",
       "      <th>sqft_lot</th>\n",
       "      <th>floors</th>\n",
       "      <th>view</th>\n",
       "      <th>condition</th>\n",
       "      <th>grade</th>\n",
       "      <th>sqft_above</th>\n",
       "      <th>sqft_basement</th>\n",
       "      <th>yr_built</th>\n",
       "      <th>yr_renovated</th>\n",
       "      <th>zipcode</th>\n",
       "      <th>lat</th>\n",
       "      <th>long</th>\n",
       "      <th>sqft_living15</th>\n",
       "      <th>sqft_lot15</th>\n",
       "    </tr>\n",
       "    <tr>\n",
       "      <th>id</th>\n",
       "      <th></th>\n",
       "      <th></th>\n",
       "      <th></th>\n",
       "      <th></th>\n",
       "      <th></th>\n",
       "      <th></th>\n",
       "      <th></th>\n",
       "      <th></th>\n",
       "      <th></th>\n",
       "      <th></th>\n",
       "      <th></th>\n",
       "      <th></th>\n",
       "      <th></th>\n",
       "      <th></th>\n",
       "      <th></th>\n",
       "      <th></th>\n",
       "      <th></th>\n",
       "      <th></th>\n",
       "      <th></th>\n",
       "    </tr>\n",
       "  </thead>\n",
       "  <tbody>\n",
       "    <tr>\n",
       "      <th>2402100895</th>\n",
       "      <td>2014-06-25</td>\n",
       "      <td>640000.0</td>\n",
       "      <td>33</td>\n",
       "      <td>1.75</td>\n",
       "      <td>1620</td>\n",
       "      <td>6000</td>\n",
       "      <td>1.0</td>\n",
       "      <td>0.0</td>\n",
       "      <td>5</td>\n",
       "      <td>7</td>\n",
       "      <td>1040</td>\n",
       "      <td>580.0</td>\n",
       "      <td>1947</td>\n",
       "      <td>0.0</td>\n",
       "      <td>98103</td>\n",
       "      <td>47.6878</td>\n",
       "      <td>-122.331</td>\n",
       "      <td>1330</td>\n",
       "      <td>4700</td>\n",
       "    </tr>\n",
       "  </tbody>\n",
       "</table>\n",
       "</div>"
      ],
      "text/plain": [
       "                 date     price  bedrooms  bathrooms  sqft_living  sqft_lot  \\\n",
       "id                                                                            \n",
       "2402100895 2014-06-25  640000.0        33       1.75         1620      6000   \n",
       "\n",
       "            floors  view  condition  grade  sqft_above sqft_basement  \\\n",
       "id                                                                     \n",
       "2402100895     1.0   0.0          5      7        1040         580.0   \n",
       "\n",
       "            yr_built  yr_renovated  zipcode      lat     long  sqft_living15  \\\n",
       "id                                                                             \n",
       "2402100895      1947           0.0    98103  47.6878 -122.331           1330   \n",
       "\n",
       "            sqft_lot15  \n",
       "id                      \n",
       "2402100895        4700  "
      ]
     },
     "execution_count": 30,
     "metadata": {},
     "output_type": "execute_result"
    }
   ],
   "source": [
    "df.loc[df.bedrooms == 33]      # This entry will be removed"
   ]
  },
  {
   "cell_type": "code",
   "execution_count": 31,
   "metadata": {},
   "outputs": [
    {
     "data": {
      "text/plain": [
       "3     9791\n",
       "4     6865\n",
       "2     2754\n",
       "5     1596\n",
       "6      270\n",
       "1      196\n",
       "7       38\n",
       "8       13\n",
       "9        6\n",
       "10       3\n",
       "11       1\n",
       "Name: bedrooms, dtype: int64"
      ]
     },
     "execution_count": 31,
     "metadata": {},
     "output_type": "execute_result"
    }
   ],
   "source": [
    "# remove outlier and confirm\n",
    "df.drop(df[df.bedrooms == 33].index, inplace=True)\n",
    "df['bedrooms'].value_counts()"
   ]
  },
  {
   "cell_type": "markdown",
   "metadata": {},
   "source": [
    "#### bathrooms"
   ]
  },
  {
   "cell_type": "code",
   "execution_count": 32,
   "metadata": {},
   "outputs": [
    {
     "data": {
      "text/plain": [
       "dtype('float64')"
      ]
     },
     "execution_count": 32,
     "metadata": {},
     "output_type": "execute_result"
    }
   ],
   "source": [
    "df['bathrooms'].dtypes   # full = 1, sink+toilet = 0.5, shower+sink+toilet = 0.75"
   ]
  },
  {
   "cell_type": "code",
   "execution_count": 33,
   "metadata": {},
   "outputs": [
    {
     "data": {
      "text/plain": [
       "array([1.  , 2.25, 3.  , 2.  , 4.5 , 2.5 , 1.75, 2.75, 1.5 , 3.25, 4.  ,\n",
       "       3.5 , 0.75, 4.75, 5.  , 4.25, 3.75, 1.25, 5.25, 0.5 , 5.5 , 6.75,\n",
       "       6.  , 5.75, 8.  , 7.5 , 7.75, 6.25, 6.5 ])"
      ]
     },
     "execution_count": 33,
     "metadata": {},
     "output_type": "execute_result"
    }
   ],
   "source": [
    "df['bathrooms'].unique()  # no placeholders or outliers"
   ]
  },
  {
   "cell_type": "markdown",
   "metadata": {},
   "source": [
    "#### sqft_living"
   ]
  },
  {
   "cell_type": "code",
   "execution_count": 34,
   "metadata": {},
   "outputs": [
    {
     "data": {
      "text/plain": [
       "dtype('int64')"
      ]
     },
     "execution_count": 34,
     "metadata": {},
     "output_type": "execute_result"
    }
   ],
   "source": [
    "df['sqft_living'].dtypes "
   ]
  },
  {
   "cell_type": "code",
   "execution_count": 35,
   "metadata": {},
   "outputs": [
    {
     "data": {
      "image/png": "[encoded data removed]",
      "text/plain": [
       "<Figure size 432x288 with 1 Axes>"
      ]
     },
     "metadata": {
      "needs_background": "light"
     },
     "output_type": "display_data"
    }
   ],
   "source": [
    "#df['sqft_living'].value_counts()                  # no placeholders \n",
    "plt.scatter(df['sqft_living'], df['price']);\n",
    "#df['sqft_living'].max()                      "
   ]
  },
  {
   "cell_type": "code",
   "execution_count": 36,
   "metadata": {},
   "outputs": [
    {
     "data": {
      "text/html": [
       "<div>\n",
       "<style scoped>\n",
       "    .dataframe tbody tr th:only-of-type {\n",
       "        vertical-align: middle;\n",
       "    }\n",
       "\n",
       "    .dataframe tbody tr th {\n",
       "        vertical-align: top;\n",
       "    }\n",
       "\n",
       "    .dataframe thead th {\n",
       "        text-align: right;\n",
       "    }\n",
       "</style>\n",
       "<table border=\"1\" class=\"dataframe\">\n",
       "  <thead>\n",
       "    <tr style=\"text-align: right;\">\n",
       "      <th></th>\n",
       "      <th>date</th>\n",
       "      <th>price</th>\n",
       "      <th>bedrooms</th>\n",
       "      <th>bathrooms</th>\n",
       "      <th>sqft_living</th>\n",
       "      <th>sqft_lot</th>\n",
       "      <th>floors</th>\n",
       "      <th>view</th>\n",
       "      <th>condition</th>\n",
       "      <th>grade</th>\n",
       "      <th>sqft_above</th>\n",
       "      <th>sqft_basement</th>\n",
       "      <th>yr_built</th>\n",
       "      <th>yr_renovated</th>\n",
       "      <th>zipcode</th>\n",
       "      <th>lat</th>\n",
       "      <th>long</th>\n",
       "      <th>sqft_living15</th>\n",
       "      <th>sqft_lot15</th>\n",
       "    </tr>\n",
       "    <tr>\n",
       "      <th>id</th>\n",
       "      <th></th>\n",
       "      <th></th>\n",
       "      <th></th>\n",
       "      <th></th>\n",
       "      <th></th>\n",
       "      <th></th>\n",
       "      <th></th>\n",
       "      <th></th>\n",
       "      <th></th>\n",
       "      <th></th>\n",
       "      <th></th>\n",
       "      <th></th>\n",
       "      <th></th>\n",
       "      <th></th>\n",
       "      <th></th>\n",
       "      <th></th>\n",
       "      <th></th>\n",
       "      <th></th>\n",
       "      <th></th>\n",
       "    </tr>\n",
       "  </thead>\n",
       "  <tbody>\n",
       "    <tr>\n",
       "      <th>9808700762</th>\n",
       "      <td>2014-06-11</td>\n",
       "      <td>7060000.0</td>\n",
       "      <td>5</td>\n",
       "      <td>4.5</td>\n",
       "      <td>10040</td>\n",
       "      <td>37325</td>\n",
       "      <td>2.0</td>\n",
       "      <td>2.0</td>\n",
       "      <td>3</td>\n",
       "      <td>11</td>\n",
       "      <td>7680</td>\n",
       "      <td>2360.0</td>\n",
       "      <td>1940</td>\n",
       "      <td>2001.0</td>\n",
       "      <td>98004</td>\n",
       "      <td>47.6500</td>\n",
       "      <td>-122.214</td>\n",
       "      <td>3930</td>\n",
       "      <td>25449</td>\n",
       "    </tr>\n",
       "    <tr>\n",
       "      <th>6762700020</th>\n",
       "      <td>2014-10-13</td>\n",
       "      <td>7700000.0</td>\n",
       "      <td>6</td>\n",
       "      <td>8.0</td>\n",
       "      <td>12050</td>\n",
       "      <td>27600</td>\n",
       "      <td>2.5</td>\n",
       "      <td>3.0</td>\n",
       "      <td>4</td>\n",
       "      <td>13</td>\n",
       "      <td>8570</td>\n",
       "      <td>3480.0</td>\n",
       "      <td>1910</td>\n",
       "      <td>1987.0</td>\n",
       "      <td>98102</td>\n",
       "      <td>47.6298</td>\n",
       "      <td>-122.323</td>\n",
       "      <td>3940</td>\n",
       "      <td>8800</td>\n",
       "    </tr>\n",
       "    <tr>\n",
       "      <th>1225069038</th>\n",
       "      <td>2014-05-05</td>\n",
       "      <td>2280000.0</td>\n",
       "      <td>7</td>\n",
       "      <td>8.0</td>\n",
       "      <td>13540</td>\n",
       "      <td>307752</td>\n",
       "      <td>3.0</td>\n",
       "      <td>4.0</td>\n",
       "      <td>3</td>\n",
       "      <td>12</td>\n",
       "      <td>9410</td>\n",
       "      <td>4130.0</td>\n",
       "      <td>1999</td>\n",
       "      <td>0.0</td>\n",
       "      <td>98053</td>\n",
       "      <td>47.6675</td>\n",
       "      <td>-121.986</td>\n",
       "      <td>4850</td>\n",
       "      <td>217800</td>\n",
       "    </tr>\n",
       "  </tbody>\n",
       "</table>\n",
       "</div>"
      ],
      "text/plain": [
       "                 date      price  bedrooms  bathrooms  sqft_living  sqft_lot  \\\n",
       "id                                                                             \n",
       "9808700762 2014-06-11  7060000.0         5        4.5        10040     37325   \n",
       "6762700020 2014-10-13  7700000.0         6        8.0        12050     27600   \n",
       "1225069038 2014-05-05  2280000.0         7        8.0        13540    307752   \n",
       "\n",
       "            floors  view  condition  grade  sqft_above sqft_basement  \\\n",
       "id                                                                     \n",
       "9808700762     2.0   2.0          3     11        7680        2360.0   \n",
       "6762700020     2.5   3.0          4     13        8570        3480.0   \n",
       "1225069038     3.0   4.0          3     12        9410        4130.0   \n",
       "\n",
       "            yr_built  yr_renovated  zipcode      lat     long  sqft_living15  \\\n",
       "id                                                                             \n",
       "9808700762      1940        2001.0    98004  47.6500 -122.214           3930   \n",
       "6762700020      1910        1987.0    98102  47.6298 -122.323           3940   \n",
       "1225069038      1999           0.0    98053  47.6675 -121.986           4850   \n",
       "\n",
       "            sqft_lot15  \n",
       "id                      \n",
       "9808700762       25449  \n",
       "6762700020        8800  \n",
       "1225069038      217800  "
      ]
     },
     "execution_count": 36,
     "metadata": {},
     "output_type": "execute_result"
    }
   ],
   "source": [
    "# from the graph we can see there are possible outliers\n",
    "df.loc[df.sqft_living > 10000]   "
   ]
  },
  {
   "cell_type": "code",
   "execution_count": 37,
   "metadata": {},
   "outputs": [],
   "source": [
    "# 3 outliers - drop\n",
    "df.drop(df[df.sqft_living > 10000].index, inplace=True)"
   ]
  },
  {
   "cell_type": "markdown",
   "metadata": {},
   "source": [
    "#### sqft_lot"
   ]
  },
  {
   "cell_type": "code",
   "execution_count": 38,
   "metadata": {},
   "outputs": [
    {
     "data": {
      "text/plain": [
       "dtype('int64')"
      ]
     },
     "execution_count": 38,
     "metadata": {},
     "output_type": "execute_result"
    }
   ],
   "source": [
    "df['sqft_lot'].dtypes "
   ]
  },
  {
   "cell_type": "code",
   "execution_count": 39,
   "metadata": {},
   "outputs": [
    {
     "data": {
      "text/html": [
       "<div>\n",
       "<style scoped>\n",
       "    .dataframe tbody tr th:only-of-type {\n",
       "        vertical-align: middle;\n",
       "    }\n",
       "\n",
       "    .dataframe tbody tr th {\n",
       "        vertical-align: top;\n",
       "    }\n",
       "\n",
       "    .dataframe thead th {\n",
       "        text-align: right;\n",
       "    }\n",
       "</style>\n",
       "<table border=\"1\" class=\"dataframe\">\n",
       "  <thead>\n",
       "    <tr style=\"text-align: right;\">\n",
       "      <th></th>\n",
       "      <th>date</th>\n",
       "      <th>price</th>\n",
       "      <th>bedrooms</th>\n",
       "      <th>bathrooms</th>\n",
       "      <th>sqft_living</th>\n",
       "      <th>sqft_lot</th>\n",
       "      <th>floors</th>\n",
       "      <th>view</th>\n",
       "      <th>condition</th>\n",
       "      <th>grade</th>\n",
       "      <th>sqft_above</th>\n",
       "      <th>sqft_basement</th>\n",
       "      <th>yr_built</th>\n",
       "      <th>yr_renovated</th>\n",
       "      <th>zipcode</th>\n",
       "      <th>lat</th>\n",
       "      <th>long</th>\n",
       "      <th>sqft_living15</th>\n",
       "      <th>sqft_lot15</th>\n",
       "    </tr>\n",
       "    <tr>\n",
       "      <th>id</th>\n",
       "      <th></th>\n",
       "      <th></th>\n",
       "      <th></th>\n",
       "      <th></th>\n",
       "      <th></th>\n",
       "      <th></th>\n",
       "      <th></th>\n",
       "      <th></th>\n",
       "      <th></th>\n",
       "      <th></th>\n",
       "      <th></th>\n",
       "      <th></th>\n",
       "      <th></th>\n",
       "      <th></th>\n",
       "      <th></th>\n",
       "      <th></th>\n",
       "      <th></th>\n",
       "      <th></th>\n",
       "      <th></th>\n",
       "    </tr>\n",
       "  </thead>\n",
       "  <tbody>\n",
       "    <tr>\n",
       "      <th>1020069017</th>\n",
       "      <td>2015-03-27</td>\n",
       "      <td>700000.0</td>\n",
       "      <td>4</td>\n",
       "      <td>1.00</td>\n",
       "      <td>1300</td>\n",
       "      <td>1651359</td>\n",
       "      <td>1.0</td>\n",
       "      <td>3.0</td>\n",
       "      <td>4</td>\n",
       "      <td>6</td>\n",
       "      <td>1300</td>\n",
       "      <td>0.0</td>\n",
       "      <td>1920</td>\n",
       "      <td>0.0</td>\n",
       "      <td>98022</td>\n",
       "      <td>47.2313</td>\n",
       "      <td>-122.023</td>\n",
       "      <td>2560</td>\n",
       "      <td>425581</td>\n",
       "    </tr>\n",
       "    <tr>\n",
       "      <th>2623069031</th>\n",
       "      <td>2014-05-21</td>\n",
       "      <td>542500.0</td>\n",
       "      <td>5</td>\n",
       "      <td>3.25</td>\n",
       "      <td>3010</td>\n",
       "      <td>1074218</td>\n",
       "      <td>1.5</td>\n",
       "      <td>0.0</td>\n",
       "      <td>5</td>\n",
       "      <td>8</td>\n",
       "      <td>2010</td>\n",
       "      <td>1000.0</td>\n",
       "      <td>1931</td>\n",
       "      <td>0.0</td>\n",
       "      <td>98027</td>\n",
       "      <td>47.4564</td>\n",
       "      <td>-122.004</td>\n",
       "      <td>2450</td>\n",
       "      <td>68825</td>\n",
       "    </tr>\n",
       "    <tr>\n",
       "      <th>2323089009</th>\n",
       "      <td>2015-01-19</td>\n",
       "      <td>855000.0</td>\n",
       "      <td>4</td>\n",
       "      <td>3.50</td>\n",
       "      <td>4030</td>\n",
       "      <td>1024068</td>\n",
       "      <td>2.0</td>\n",
       "      <td>0.0</td>\n",
       "      <td>3</td>\n",
       "      <td>10</td>\n",
       "      <td>4030</td>\n",
       "      <td>0.0</td>\n",
       "      <td>2006</td>\n",
       "      <td>0.0</td>\n",
       "      <td>98045</td>\n",
       "      <td>47.4619</td>\n",
       "      <td>-121.744</td>\n",
       "      <td>1830</td>\n",
       "      <td>11700</td>\n",
       "    </tr>\n",
       "    <tr>\n",
       "      <th>3326079016</th>\n",
       "      <td>2015-05-04</td>\n",
       "      <td>190000.0</td>\n",
       "      <td>2</td>\n",
       "      <td>1.00</td>\n",
       "      <td>710</td>\n",
       "      <td>1164794</td>\n",
       "      <td>1.0</td>\n",
       "      <td>0.0</td>\n",
       "      <td>2</td>\n",
       "      <td>5</td>\n",
       "      <td>710</td>\n",
       "      <td>0.0</td>\n",
       "      <td>1915</td>\n",
       "      <td>0.0</td>\n",
       "      <td>98014</td>\n",
       "      <td>47.6888</td>\n",
       "      <td>-121.909</td>\n",
       "      <td>1680</td>\n",
       "      <td>16730</td>\n",
       "    </tr>\n",
       "  </tbody>\n",
       "</table>\n",
       "</div>"
      ],
      "text/plain": [
       "                 date     price  bedrooms  bathrooms  sqft_living  sqft_lot  \\\n",
       "id                                                                            \n",
       "1020069017 2015-03-27  700000.0         4       1.00         1300   1651359   \n",
       "2623069031 2014-05-21  542500.0         5       3.25         3010   1074218   \n",
       "2323089009 2015-01-19  855000.0         4       3.50         4030   1024068   \n",
       "3326079016 2015-05-04  190000.0         2       1.00          710   1164794   \n",
       "\n",
       "            floors  view  condition  grade  sqft_above sqft_basement  \\\n",
       "id                                                                     \n",
       "1020069017     1.0   3.0          4      6        1300           0.0   \n",
       "2623069031     1.5   0.0          5      8        2010        1000.0   \n",
       "2323089009     2.0   0.0          3     10        4030           0.0   \n",
       "3326079016     1.0   0.0          2      5         710           0.0   \n",
       "\n",
       "            yr_built  yr_renovated  zipcode      lat     long  sqft_living15  \\\n",
       "id                                                                             \n",
       "1020069017      1920           0.0    98022  47.2313 -122.023           2560   \n",
       "2623069031      1931           0.0    98027  47.4564 -122.004           2450   \n",
       "2323089009      2006           0.0    98045  47.4619 -121.744           1830   \n",
       "3326079016      1915           0.0    98014  47.6888 -121.909           1680   \n",
       "\n",
       "            sqft_lot15  \n",
       "id                      \n",
       "1020069017      425581  \n",
       "2623069031       68825  \n",
       "2323089009       11700  \n",
       "3326079016       16730  "
      ]
     },
     "execution_count": 39,
     "metadata": {},
     "output_type": "execute_result"
    }
   ],
   "source": [
    "#df['sqft_lot'].value_counts()    \n",
    "#plt.scatter(df['sqft_lot'], df['price'])\n",
    "df['sqft_lot'].max()   # 1651359\n",
    "df.loc[df.sqft_lot > 1000000]   "
   ]
  },
  {
   "cell_type": "markdown",
   "metadata": {},
   "source": [
    "After checking a couple of times for max values in this column I decided to check for sqft. greater than 1,000,000.<br>\n",
    "This number seems extremely large but looking at the other variables and based on the fact that this is refering to a square footage of a piece of land it's normal to have that much property in and around a house."
   ]
  },
  {
   "cell_type": "markdown",
   "metadata": {},
   "source": [
    "#### floors"
   ]
  },
  {
   "cell_type": "code",
   "execution_count": 40,
   "metadata": {},
   "outputs": [
    {
     "data": {
      "text/plain": [
       "array([1. , 2. , 1.5, 3. , 2.5, 3.5])"
      ]
     },
     "execution_count": 40,
     "metadata": {},
     "output_type": "execute_result"
    }
   ],
   "source": [
    "df['floors'].dtypes     # dtype('float64')\n",
    "df['floors'].unique()   # array([1. , 2. , 1.5, 3. , 2.5, 3.5])"
   ]
  },
  {
   "cell_type": "markdown",
   "metadata": {},
   "source": [
    "#### condition"
   ]
  },
  {
   "cell_type": "code",
   "execution_count": 41,
   "metadata": {},
   "outputs": [
    {
     "data": {
      "text/plain": [
       "array([3, 5, 4, 1, 2])"
      ]
     },
     "execution_count": 41,
     "metadata": {},
     "output_type": "execute_result"
    }
   ],
   "source": [
    "df['condition'].dtypes    # dtype('int64')\n",
    "df['condition'].unique()"
   ]
  },
  {
   "cell_type": "markdown",
   "metadata": {},
   "source": [
    "#### grade"
   ]
  },
  {
   "cell_type": "code",
   "execution_count": 42,
   "metadata": {},
   "outputs": [
    {
     "data": {
      "text/plain": [
       "array([ 7,  6,  8, 11,  9,  5, 10, 12,  4,  3, 13])"
      ]
     },
     "execution_count": 42,
     "metadata": {},
     "output_type": "execute_result"
    }
   ],
   "source": [
    "df['grade'].dtypes      # dtype('int64')\n",
    "df['grade'].unique()"
   ]
  },
  {
   "cell_type": "markdown",
   "metadata": {},
   "source": [
    "#### sqft_above"
   ]
  },
  {
   "cell_type": "code",
   "execution_count": 44,
   "metadata": {},
   "outputs": [
    {
     "data": {
      "text/plain": [
       "dtype('int64')"
      ]
     },
     "execution_count": 44,
     "metadata": {},
     "output_type": "execute_result"
    }
   ],
   "source": [
    "df['sqft_above'].dtypes      # dtype('int64')\n",
    "#df['sqft_above'].unique()    # no placeholders \n",
    "# array([1180, 2170,  770, 1050, 1680, 3890, 1715, 1890, 1860,  860, 1430, ..."
   ]
  },
  {
   "cell_type": "markdown",
   "metadata": {},
   "source": [
    "#### sqft_basement"
   ]
  },
  {
   "cell_type": "code",
   "execution_count": 43,
   "metadata": {},
   "outputs": [
    {
     "data": {
      "text/plain": [
       "dtype('O')"
      ]
     },
     "execution_count": 43,
     "metadata": {},
     "output_type": "execute_result"
    }
   ],
   "source": [
    "df['sqft_basement'].dtypes               # dtype('O')\n",
    "#df['sqft_basement'].value_counts()       # there are 454 placeholders (?)\n",
    "# 0.0       12798\n",
    "# ?           452\n",
    "# 600.0       216\n",
    "# 500.0       20\n",
    "# ..."
   ]
  },
  {
   "cell_type": "code",
   "execution_count": 45,
   "metadata": {},
   "outputs": [],
   "source": [
    "df.drop(df[df.sqft_basement == '?'].index, inplace=True)     # drop rows\n",
    "#df['sqft_basement'].value_counts()                           # make sure there are not placeholders after drop\n",
    "# 0.0       12795\n",
    "# 600.0       216\n",
    "# 500.0       209\n",
    "# 700.0       206\n",
    "# ..."
   ]
  },
  {
   "cell_type": "code",
   "execution_count": 46,
   "metadata": {},
   "outputs": [
    {
     "data": {
      "text/plain": [
       "dtype('float64')"
      ]
     },
     "execution_count": 46,
     "metadata": {},
     "output_type": "execute_result"
    }
   ],
   "source": [
    "df['sqft_basement'] = df.sqft_basement.astype('float')    #this datatype can handle 0.00 values\n",
    "df['sqft_basement'].dtypes\n",
    "#df['sqft_basement'].value_counts()\n",
    "# 0.0       12795\n",
    "# 600.0       216\n",
    "# 500.0       209\n",
    "# 700.0       206\n",
    "# ..."
   ]
  },
  {
   "cell_type": "markdown",
   "metadata": {},
   "source": [
    "#### yr_built"
   ]
  },
  {
   "cell_type": "code",
   "execution_count": 47,
   "metadata": {},
   "outputs": [
    {
     "data": {
      "text/plain": [
       "array([1955, 1951, 1933, 1965, 1987, 2001, 1960, 2003, 1942, 1927, 1977,\n",
       "       1900, 1979, 1994, 1916, 1969, 1947, 1968, 1995, 1985, 1941, 1915,\n",
       "       1909, 1948, 2005, 1929, 1981, 1930, 1904, 1996, 2000, 1984, 1922,\n",
       "       1959, 1966, 1953, 1950, 2008, 1991, 1954, 1973, 2014, 1925, 1989,\n",
       "       1972, 1986, 1956, 1992, 1964, 1952, 1961, 2006, 1988, 1962, 1939,\n",
       "       1946, 1967, 1975, 1980, 1910, 1983, 1978, 1905, 1971, 2010, 1945,\n",
       "       1924, 1990, 1914, 1926, 1923, 2007, 1976, 1949, 1999, 1901, 1993,\n",
       "       1920, 1997, 1943, 1957, 2004, 1940, 1918, 1928, 1974, 1911, 1936,\n",
       "       1937, 1982, 1908, 1931, 1963, 2002, 1998, 1913, 1921, 2013, 1907,\n",
       "       1958, 2012, 1912, 2011, 1932, 1944, 1902, 2009, 1903, 1970, 2015,\n",
       "       1934, 1938, 1919, 1917, 1906, 1935])"
      ]
     },
     "execution_count": 47,
     "metadata": {},
     "output_type": "execute_result"
    }
   ],
   "source": [
    "df['yr_built'].dtypes     # dtype('int64')\n",
    "df['yr_built'].unique()   # no placeholders, this can be kept as int"
   ]
  },
  {
   "cell_type": "markdown",
   "metadata": {},
   "source": [
    "#### yr_renovated"
   ]
  },
  {
   "cell_type": "code",
   "execution_count": 48,
   "metadata": {},
   "outputs": [],
   "source": [
    "df['yr_renovated'].dtypes     # dtype('float64')\n",
    "df['yr_renovated'].unique()   # check for plaholders before casting\n",
    "df['yr_renovated'] = df.yr_renovated.astype('int')"
   ]
  },
  {
   "cell_type": "code",
   "execution_count": 49,
   "metadata": {},
   "outputs": [
    {
     "data": {
      "text/plain": [
       "array([   0, 1991, 2002, 2010, 1992, 2013, 1994, 1978, 2005, 2003, 1984,\n",
       "       1954, 2014, 2011, 1983, 1945, 1990, 1988, 1977, 1981, 1995, 2000,\n",
       "       1999, 1998, 1970, 1989, 2004, 1986, 2007, 1987, 2006, 1985, 1980,\n",
       "       1971, 1979, 1997, 1950, 1969, 1948, 2009, 2015, 1974, 2008, 1968,\n",
       "       2012, 1963, 1951, 1962, 1953, 1993, 1996, 1955, 2001, 1982, 1956,\n",
       "       1940, 1976, 1975, 1964, 1973, 1957, 1959, 1960, 1967, 1965, 1934,\n",
       "       1972, 1944, 1958])"
      ]
     },
     "execution_count": 49,
     "metadata": {},
     "output_type": "execute_result"
    }
   ],
   "source": [
    "df['yr_renovated'].dtypes     # dtype('int64')\n",
    "df['yr_renovated'].unique()"
   ]
  },
  {
   "cell_type": "markdown",
   "metadata": {},
   "source": [
    "#### zipcode"
   ]
  },
  {
   "cell_type": "code",
   "execution_count": 50,
   "metadata": {},
   "outputs": [
    {
     "data": {
      "text/plain": [
       "array([98178, 98125, 98028, 98136, 98074, 98053, 98146, 98038, 98007,\n",
       "       98115, 98107, 98126, 98019, 98103, 98003, 98133, 98040, 98092,\n",
       "       98030, 98002, 98119, 98112, 98052, 98027, 98117, 98058, 98001,\n",
       "       98056, 98166, 98023, 98070, 98148, 98105, 98042, 98008, 98059,\n",
       "       98122, 98144, 98004, 98005, 98034, 98075, 98116, 98118, 98199,\n",
       "       98032, 98045, 98102, 98077, 98198, 98108, 98168, 98177, 98029,\n",
       "       98006, 98109, 98022, 98033, 98155, 98024, 98011, 98031, 98010,\n",
       "       98106, 98072, 98188, 98065, 98014, 98055, 98039])"
      ]
     },
     "execution_count": 50,
     "metadata": {},
     "output_type": "execute_result"
    }
   ],
   "source": [
    "df['zipcode'].dtypes     #dtype('int64')\n",
    "df['zipcode'].unique()\n",
    "# nothing to do here, everything looks fine"
   ]
  },
  {
   "cell_type": "markdown",
   "metadata": {},
   "source": [
    "#### lat and long"
   ]
  },
  {
   "cell_type": "code",
   "execution_count": 51,
   "metadata": {},
   "outputs": [
    {
     "data": {
      "text/plain": [
       "dtype('float64')"
      ]
     },
     "execution_count": 51,
     "metadata": {},
     "output_type": "execute_result"
    }
   ],
   "source": [
    "df['lat'].dtypes               # dtype('float64')\n",
    "#df['lat'].value_counts()      # no placeholders\n",
    "# 47.5491    17\n",
    "# 47.6624    17\n",
    "# 47.5322    17\n",
    "# ..."
   ]
  },
  {
   "cell_type": "code",
   "execution_count": 52,
   "metadata": {},
   "outputs": [
    {
     "data": {
      "text/plain": [
       "dtype('float64')"
      ]
     },
     "execution_count": 52,
     "metadata": {},
     "output_type": "execute_result"
    }
   ],
   "source": [
    "df['long'].dtypes           # dtype('float64')\n",
    "#df['long'].unique()        # no placeholders\n",
    "#array([-122.257, -122.319, -122.233, -122.393, -122.045, -122.005, ..."
   ]
  },
  {
   "cell_type": "markdown",
   "metadata": {},
   "source": [
    "#### sqft_living15 and sqft_lot15"
   ]
  },
  {
   "cell_type": "code",
   "execution_count": 53,
   "metadata": {},
   "outputs": [
    {
     "data": {
      "text/plain": [
       "dtype('int64')"
      ]
     },
     "execution_count": 53,
     "metadata": {},
     "output_type": "execute_result"
    }
   ],
   "source": [
    "df['sqft_living15'].dtype      # dtype('int64')\n",
    "#df['sqft_living15'].unique()  # no placeholders\n",
    "# array([1340, 1690, 2720, 1360, 1800, 4760, 1780, 2390, 2210, 1330, 1370, ..."
   ]
  },
  {
   "cell_type": "code",
   "execution_count": 54,
   "metadata": {},
   "outputs": [
    {
     "data": {
      "text/plain": [
       "dtype('int64')"
      ]
     },
     "execution_count": 54,
     "metadata": {},
     "output_type": "execute_result"
    }
   ],
   "source": [
    "df['sqft_lot15'].dtype       # dtype('int64')\n",
    "#df['sqft_lot15'].unique()   # no placeholders\n",
    "# array([5650, 7639, 8062, ..., 5731, 1509, 2007])"
   ]
  },
  {
   "cell_type": "markdown",
   "metadata": {},
   "source": [
    "Checking our dataframe information and structure after initial cleaning:"
   ]
  },
  {
   "cell_type": "code",
   "execution_count": 55,
   "metadata": {},
   "outputs": [
    {
     "name": "stdout",
     "output_type": "stream",
     "text": [
      "<class 'pandas.core.frame.DataFrame'>\n",
      "Int64Index: 21074 entries, 7129300520 to 1523300157\n",
      "Data columns (total 19 columns):\n",
      "date             21074 non-null datetime64[ns]\n",
      "price            21074 non-null float64\n",
      "bedrooms         21074 non-null int64\n",
      "bathrooms        21074 non-null float64\n",
      "sqft_living      21074 non-null int64\n",
      "sqft_lot         21074 non-null int64\n",
      "floors           21074 non-null float64\n",
      "view             21074 non-null float64\n",
      "condition        21074 non-null int64\n",
      "grade            21074 non-null int64\n",
      "sqft_above       21074 non-null int64\n",
      "sqft_basement    21074 non-null float64\n",
      "yr_built         21074 non-null int64\n",
      "yr_renovated     21074 non-null int64\n",
      "zipcode          21074 non-null int64\n",
      "lat              21074 non-null float64\n",
      "long             21074 non-null float64\n",
      "sqft_living15    21074 non-null int64\n",
      "sqft_lot15       21074 non-null int64\n",
      "dtypes: datetime64[ns](1), float64(7), int64(11)\n",
      "memory usage: 3.2 MB\n"
     ]
    }
   ],
   "source": [
    "df.info()"
   ]
  },
  {
   "cell_type": "code",
   "execution_count": 56,
   "metadata": {},
   "outputs": [
    {
     "data": {
      "text/html": [
       "<div>\n",
       "<style scoped>\n",
       "    .dataframe tbody tr th:only-of-type {\n",
       "        vertical-align: middle;\n",
       "    }\n",
       "\n",
       "    .dataframe tbody tr th {\n",
       "        vertical-align: top;\n",
       "    }\n",
       "\n",
       "    .dataframe thead th {\n",
       "        text-align: right;\n",
       "    }\n",
       "</style>\n",
       "<table border=\"1\" class=\"dataframe\">\n",
       "  <thead>\n",
       "    <tr style=\"text-align: right;\">\n",
       "      <th></th>\n",
       "      <th>date</th>\n",
       "      <th>price</th>\n",
       "      <th>bedrooms</th>\n",
       "      <th>bathrooms</th>\n",
       "      <th>sqft_living</th>\n",
       "      <th>sqft_lot</th>\n",
       "      <th>floors</th>\n",
       "      <th>view</th>\n",
       "      <th>condition</th>\n",
       "      <th>grade</th>\n",
       "      <th>sqft_above</th>\n",
       "      <th>sqft_basement</th>\n",
       "      <th>yr_built</th>\n",
       "      <th>yr_renovated</th>\n",
       "      <th>zipcode</th>\n",
       "      <th>lat</th>\n",
       "      <th>long</th>\n",
       "      <th>sqft_living15</th>\n",
       "      <th>sqft_lot15</th>\n",
       "    </tr>\n",
       "    <tr>\n",
       "      <th>id</th>\n",
       "      <th></th>\n",
       "      <th></th>\n",
       "      <th></th>\n",
       "      <th></th>\n",
       "      <th></th>\n",
       "      <th></th>\n",
       "      <th></th>\n",
       "      <th></th>\n",
       "      <th></th>\n",
       "      <th></th>\n",
       "      <th></th>\n",
       "      <th></th>\n",
       "      <th></th>\n",
       "      <th></th>\n",
       "      <th></th>\n",
       "      <th></th>\n",
       "      <th></th>\n",
       "      <th></th>\n",
       "      <th></th>\n",
       "    </tr>\n",
       "  </thead>\n",
       "  <tbody>\n",
       "    <tr>\n",
       "      <th>7129300520</th>\n",
       "      <td>2014-10-13</td>\n",
       "      <td>221900.0</td>\n",
       "      <td>3</td>\n",
       "      <td>1.00</td>\n",
       "      <td>1180</td>\n",
       "      <td>5650</td>\n",
       "      <td>1.0</td>\n",
       "      <td>0.0</td>\n",
       "      <td>3</td>\n",
       "      <td>7</td>\n",
       "      <td>1180</td>\n",
       "      <td>0.0</td>\n",
       "      <td>1955</td>\n",
       "      <td>0</td>\n",
       "      <td>98178</td>\n",
       "      <td>47.5112</td>\n",
       "      <td>-122.257</td>\n",
       "      <td>1340</td>\n",
       "      <td>5650</td>\n",
       "    </tr>\n",
       "    <tr>\n",
       "      <th>6414100192</th>\n",
       "      <td>2014-12-09</td>\n",
       "      <td>538000.0</td>\n",
       "      <td>3</td>\n",
       "      <td>2.25</td>\n",
       "      <td>2570</td>\n",
       "      <td>7242</td>\n",
       "      <td>2.0</td>\n",
       "      <td>0.0</td>\n",
       "      <td>3</td>\n",
       "      <td>7</td>\n",
       "      <td>2170</td>\n",
       "      <td>400.0</td>\n",
       "      <td>1951</td>\n",
       "      <td>1991</td>\n",
       "      <td>98125</td>\n",
       "      <td>47.7210</td>\n",
       "      <td>-122.319</td>\n",
       "      <td>1690</td>\n",
       "      <td>7639</td>\n",
       "    </tr>\n",
       "    <tr>\n",
       "      <th>5631500400</th>\n",
       "      <td>2015-02-25</td>\n",
       "      <td>180000.0</td>\n",
       "      <td>2</td>\n",
       "      <td>1.00</td>\n",
       "      <td>770</td>\n",
       "      <td>10000</td>\n",
       "      <td>1.0</td>\n",
       "      <td>0.0</td>\n",
       "      <td>3</td>\n",
       "      <td>6</td>\n",
       "      <td>770</td>\n",
       "      <td>0.0</td>\n",
       "      <td>1933</td>\n",
       "      <td>0</td>\n",
       "      <td>98028</td>\n",
       "      <td>47.7379</td>\n",
       "      <td>-122.233</td>\n",
       "      <td>2720</td>\n",
       "      <td>8062</td>\n",
       "    </tr>\n",
       "    <tr>\n",
       "      <th>2487200875</th>\n",
       "      <td>2014-12-09</td>\n",
       "      <td>604000.0</td>\n",
       "      <td>4</td>\n",
       "      <td>3.00</td>\n",
       "      <td>1960</td>\n",
       "      <td>5000</td>\n",
       "      <td>1.0</td>\n",
       "      <td>0.0</td>\n",
       "      <td>5</td>\n",
       "      <td>7</td>\n",
       "      <td>1050</td>\n",
       "      <td>910.0</td>\n",
       "      <td>1965</td>\n",
       "      <td>0</td>\n",
       "      <td>98136</td>\n",
       "      <td>47.5208</td>\n",
       "      <td>-122.393</td>\n",
       "      <td>1360</td>\n",
       "      <td>5000</td>\n",
       "    </tr>\n",
       "    <tr>\n",
       "      <th>1954400510</th>\n",
       "      <td>2015-02-18</td>\n",
       "      <td>510000.0</td>\n",
       "      <td>3</td>\n",
       "      <td>2.00</td>\n",
       "      <td>1680</td>\n",
       "      <td>8080</td>\n",
       "      <td>1.0</td>\n",
       "      <td>0.0</td>\n",
       "      <td>3</td>\n",
       "      <td>8</td>\n",
       "      <td>1680</td>\n",
       "      <td>0.0</td>\n",
       "      <td>1987</td>\n",
       "      <td>0</td>\n",
       "      <td>98074</td>\n",
       "      <td>47.6168</td>\n",
       "      <td>-122.045</td>\n",
       "      <td>1800</td>\n",
       "      <td>7503</td>\n",
       "    </tr>\n",
       "  </tbody>\n",
       "</table>\n",
       "</div>"
      ],
      "text/plain": [
       "                 date     price  bedrooms  bathrooms  sqft_living  sqft_lot  \\\n",
       "id                                                                            \n",
       "7129300520 2014-10-13  221900.0         3       1.00         1180      5650   \n",
       "6414100192 2014-12-09  538000.0         3       2.25         2570      7242   \n",
       "5631500400 2015-02-25  180000.0         2       1.00          770     10000   \n",
       "2487200875 2014-12-09  604000.0         4       3.00         1960      5000   \n",
       "1954400510 2015-02-18  510000.0         3       2.00         1680      8080   \n",
       "\n",
       "            floors  view  condition  grade  sqft_above  sqft_basement  \\\n",
       "id                                                                      \n",
       "7129300520     1.0   0.0          3      7        1180            0.0   \n",
       "6414100192     2.0   0.0          3      7        2170          400.0   \n",
       "5631500400     1.0   0.0          3      6         770            0.0   \n",
       "2487200875     1.0   0.0          5      7        1050          910.0   \n",
       "1954400510     1.0   0.0          3      8        1680            0.0   \n",
       "\n",
       "            yr_built  yr_renovated  zipcode      lat     long  sqft_living15  \\\n",
       "id                                                                             \n",
       "7129300520      1955             0    98178  47.5112 -122.257           1340   \n",
       "6414100192      1951          1991    98125  47.7210 -122.319           1690   \n",
       "5631500400      1933             0    98028  47.7379 -122.233           2720   \n",
       "2487200875      1965             0    98136  47.5208 -122.393           1360   \n",
       "1954400510      1987             0    98074  47.6168 -122.045           1800   \n",
       "\n",
       "            sqft_lot15  \n",
       "id                      \n",
       "7129300520        5650  \n",
       "6414100192        7639  \n",
       "5631500400        8062  \n",
       "2487200875        5000  \n",
       "1954400510        7503  "
      ]
     },
     "execution_count": 56,
     "metadata": {},
     "output_type": "execute_result"
    }
   ],
   "source": [
    "df.head()"
   ]
  },
  {
   "cell_type": "markdown",
   "metadata": {},
   "source": [
    "### Initial Questions\n",
    "<p>Answers will be in the Interpretation section, after further analysis.</p>\n",
    "<ol>\n",
    "    <li>What to expect in King county? What can be inferred from the descriptive statistics (central tendency of the dataset)</li>\n",
    "    <li>How zipcode affects price?</li>\n",
    "    <li>How age and condition impact the price?</li> \n",
    "</ol>"
   ]
  },
  {
   "cell_type": "markdown",
   "metadata": {},
   "source": [
    "## EXPLORATION"
   ]
  },
  {
   "cell_type": "markdown",
   "metadata": {},
   "source": [
    "A visual look to each column and its frequency to get a sense of how the values are distributed."
   ]
  },
  {
   "cell_type": "code",
   "execution_count": 57,
   "metadata": {},
   "outputs": [
    {
     "data": {
      "image/png": "[encoded data removed]",
      "text/plain": [
       "<Figure size 1080x1080 with 20 Axes>"
      ]
     },
     "metadata": {
      "needs_background": "light"
     },
     "output_type": "display_data"
    }
   ],
   "source": [
    "df.hist(figsize=(15,15), bins=20);"
   ]
  },
  {
   "cell_type": "markdown",
   "metadata": {},
   "source": [
    "##### Observations\n",
    "* From this visualization we can confirm the categorical data types such condition, view, zipcode and grade. We can also confirm that the data points are whitin the range of values expected. \n",
    "* The distributions are non-symetrical, the variables are skewed.\n",
    "* Most houses in the dataset are in average condition.\n",
    "* Most houses in the dataset do not have a basement. This is a comon feature for eartquake prone areas."
   ]
  },
  {
   "cell_type": "markdown",
   "metadata": {},
   "source": [
    "#### A look at the descriptive statistics:"
   ]
  },
  {
   "cell_type": "code",
   "execution_count": 58,
   "metadata": {},
   "outputs": [
    {
     "data": {
      "text/html": [
       "<div>\n",
       "<style scoped>\n",
       "    .dataframe tbody tr th:only-of-type {\n",
       "        vertical-align: middle;\n",
       "    }\n",
       "\n",
       "    .dataframe tbody tr th {\n",
       "        vertical-align: top;\n",
       "    }\n",
       "\n",
       "    .dataframe thead th {\n",
       "        text-align: right;\n",
       "    }\n",
       "</style>\n",
       "<table border=\"1\" class=\"dataframe\">\n",
       "  <thead>\n",
       "    <tr style=\"text-align: right;\">\n",
       "      <th></th>\n",
       "      <th>price</th>\n",
       "      <th>bedrooms</th>\n",
       "      <th>bathrooms</th>\n",
       "      <th>sqft_living</th>\n",
       "      <th>sqft_lot</th>\n",
       "      <th>floors</th>\n",
       "      <th>view</th>\n",
       "      <th>condition</th>\n",
       "      <th>grade</th>\n",
       "      <th>sqft_above</th>\n",
       "      <th>sqft_basement</th>\n",
       "      <th>yr_built</th>\n",
       "      <th>yr_renovated</th>\n",
       "      <th>zipcode</th>\n",
       "      <th>lat</th>\n",
       "      <th>long</th>\n",
       "      <th>sqft_living15</th>\n",
       "      <th>sqft_lot15</th>\n",
       "    </tr>\n",
       "  </thead>\n",
       "  <tbody>\n",
       "    <tr>\n",
       "      <th>count</th>\n",
       "      <td>2.107400e+04</td>\n",
       "      <td>21074.000000</td>\n",
       "      <td>21074.000000</td>\n",
       "      <td>21074.000000</td>\n",
       "      <td>2.107400e+04</td>\n",
       "      <td>21074.000000</td>\n",
       "      <td>21074.000000</td>\n",
       "      <td>21074.000000</td>\n",
       "      <td>21074.000000</td>\n",
       "      <td>21074.000000</td>\n",
       "      <td>21074.000000</td>\n",
       "      <td>21074.000000</td>\n",
       "      <td>21074.000000</td>\n",
       "      <td>21074.000000</td>\n",
       "      <td>21074.000000</td>\n",
       "      <td>21074.000000</td>\n",
       "      <td>21074.000000</td>\n",
       "      <td>21074.000000</td>\n",
       "    </tr>\n",
       "    <tr>\n",
       "      <th>mean</th>\n",
       "      <td>5.395396e+05</td>\n",
       "      <td>3.370599</td>\n",
       "      <td>2.115308</td>\n",
       "      <td>2079.036206</td>\n",
       "      <td>1.506430e+04</td>\n",
       "      <td>1.493523</td>\n",
       "      <td>0.232989</td>\n",
       "      <td>3.409794</td>\n",
       "      <td>7.657303</td>\n",
       "      <td>1788.099459</td>\n",
       "      <td>290.936747</td>\n",
       "      <td>1971.033786</td>\n",
       "      <td>68.196071</td>\n",
       "      <td>98077.850289</td>\n",
       "      <td>47.560330</td>\n",
       "      <td>-122.213824</td>\n",
       "      <td>1986.732609</td>\n",
       "      <td>12724.104963</td>\n",
       "    </tr>\n",
       "    <tr>\n",
       "      <th>std</th>\n",
       "      <td>3.604735e+05</td>\n",
       "      <td>0.901541</td>\n",
       "      <td>0.765674</td>\n",
       "      <td>910.276000</td>\n",
       "      <td>4.113117e+04</td>\n",
       "      <td>0.539274</td>\n",
       "      <td>0.764428</td>\n",
       "      <td>0.650426</td>\n",
       "      <td>1.172638</td>\n",
       "      <td>824.391939</td>\n",
       "      <td>440.495375</td>\n",
       "      <td>29.317815</td>\n",
       "      <td>362.611655</td>\n",
       "      <td>53.529457</td>\n",
       "      <td>0.138575</td>\n",
       "      <td>0.140612</td>\n",
       "      <td>685.069077</td>\n",
       "      <td>27116.761390</td>\n",
       "    </tr>\n",
       "    <tr>\n",
       "      <th>min</th>\n",
       "      <td>7.800000e+04</td>\n",
       "      <td>1.000000</td>\n",
       "      <td>0.500000</td>\n",
       "      <td>370.000000</td>\n",
       "      <td>5.200000e+02</td>\n",
       "      <td>1.000000</td>\n",
       "      <td>0.000000</td>\n",
       "      <td>1.000000</td>\n",
       "      <td>3.000000</td>\n",
       "      <td>370.000000</td>\n",
       "      <td>0.000000</td>\n",
       "      <td>1900.000000</td>\n",
       "      <td>0.000000</td>\n",
       "      <td>98001.000000</td>\n",
       "      <td>47.155900</td>\n",
       "      <td>-122.519000</td>\n",
       "      <td>399.000000</td>\n",
       "      <td>651.000000</td>\n",
       "    </tr>\n",
       "    <tr>\n",
       "      <th>25%</th>\n",
       "      <td>3.220000e+05</td>\n",
       "      <td>3.000000</td>\n",
       "      <td>1.750000</td>\n",
       "      <td>1430.000000</td>\n",
       "      <td>5.040000e+03</td>\n",
       "      <td>1.000000</td>\n",
       "      <td>0.000000</td>\n",
       "      <td>3.000000</td>\n",
       "      <td>7.000000</td>\n",
       "      <td>1200.000000</td>\n",
       "      <td>0.000000</td>\n",
       "      <td>1952.000000</td>\n",
       "      <td>0.000000</td>\n",
       "      <td>98033.000000</td>\n",
       "      <td>47.471300</td>\n",
       "      <td>-122.328000</td>\n",
       "      <td>1490.000000</td>\n",
       "      <td>5100.000000</td>\n",
       "    </tr>\n",
       "    <tr>\n",
       "      <th>50%</th>\n",
       "      <td>4.500000e+05</td>\n",
       "      <td>3.000000</td>\n",
       "      <td>2.250000</td>\n",
       "      <td>1910.000000</td>\n",
       "      <td>7.620000e+03</td>\n",
       "      <td>1.500000</td>\n",
       "      <td>0.000000</td>\n",
       "      <td>3.000000</td>\n",
       "      <td>7.000000</td>\n",
       "      <td>1560.000000</td>\n",
       "      <td>0.000000</td>\n",
       "      <td>1975.000000</td>\n",
       "      <td>0.000000</td>\n",
       "      <td>98065.000000</td>\n",
       "      <td>47.572100</td>\n",
       "      <td>-122.229000</td>\n",
       "      <td>1840.000000</td>\n",
       "      <td>7626.000000</td>\n",
       "    </tr>\n",
       "    <tr>\n",
       "      <th>75%</th>\n",
       "      <td>6.450000e+05</td>\n",
       "      <td>4.000000</td>\n",
       "      <td>2.500000</td>\n",
       "      <td>2550.000000</td>\n",
       "      <td>1.069675e+04</td>\n",
       "      <td>2.000000</td>\n",
       "      <td>0.000000</td>\n",
       "      <td>4.000000</td>\n",
       "      <td>8.000000</td>\n",
       "      <td>2210.000000</td>\n",
       "      <td>560.000000</td>\n",
       "      <td>1997.000000</td>\n",
       "      <td>0.000000</td>\n",
       "      <td>98117.000000</td>\n",
       "      <td>47.678200</td>\n",
       "      <td>-122.125000</td>\n",
       "      <td>2360.000000</td>\n",
       "      <td>10088.750000</td>\n",
       "    </tr>\n",
       "    <tr>\n",
       "      <th>max</th>\n",
       "      <td>6.890000e+06</td>\n",
       "      <td>11.000000</td>\n",
       "      <td>7.750000</td>\n",
       "      <td>9890.000000</td>\n",
       "      <td>1.651359e+06</td>\n",
       "      <td>3.500000</td>\n",
       "      <td>4.000000</td>\n",
       "      <td>5.000000</td>\n",
       "      <td>13.000000</td>\n",
       "      <td>8860.000000</td>\n",
       "      <td>4820.000000</td>\n",
       "      <td>2015.000000</td>\n",
       "      <td>2015.000000</td>\n",
       "      <td>98199.000000</td>\n",
       "      <td>47.777600</td>\n",
       "      <td>-121.315000</td>\n",
       "      <td>6210.000000</td>\n",
       "      <td>871200.000000</td>\n",
       "    </tr>\n",
       "  </tbody>\n",
       "</table>\n",
       "</div>"
      ],
      "text/plain": [
       "              price      bedrooms     bathrooms   sqft_living      sqft_lot  \\\n",
       "count  2.107400e+04  21074.000000  21074.000000  21074.000000  2.107400e+04   \n",
       "mean   5.395396e+05      3.370599      2.115308   2079.036206  1.506430e+04   \n",
       "std    3.604735e+05      0.901541      0.765674    910.276000  4.113117e+04   \n",
       "min    7.800000e+04      1.000000      0.500000    370.000000  5.200000e+02   \n",
       "25%    3.220000e+05      3.000000      1.750000   1430.000000  5.040000e+03   \n",
       "50%    4.500000e+05      3.000000      2.250000   1910.000000  7.620000e+03   \n",
       "75%    6.450000e+05      4.000000      2.500000   2550.000000  1.069675e+04   \n",
       "max    6.890000e+06     11.000000      7.750000   9890.000000  1.651359e+06   \n",
       "\n",
       "             floors          view     condition         grade    sqft_above  \\\n",
       "count  21074.000000  21074.000000  21074.000000  21074.000000  21074.000000   \n",
       "mean       1.493523      0.232989      3.409794      7.657303   1788.099459   \n",
       "std        0.539274      0.764428      0.650426      1.172638    824.391939   \n",
       "min        1.000000      0.000000      1.000000      3.000000    370.000000   \n",
       "25%        1.000000      0.000000      3.000000      7.000000   1200.000000   \n",
       "50%        1.500000      0.000000      3.000000      7.000000   1560.000000   \n",
       "75%        2.000000      0.000000      4.000000      8.000000   2210.000000   \n",
       "max        3.500000      4.000000      5.000000     13.000000   8860.000000   \n",
       "\n",
       "       sqft_basement      yr_built  yr_renovated       zipcode           lat  \\\n",
       "count   21074.000000  21074.000000  21074.000000  21074.000000  21074.000000   \n",
       "mean      290.936747   1971.033786     68.196071  98077.850289     47.560330   \n",
       "std       440.495375     29.317815    362.611655     53.529457      0.138575   \n",
       "min         0.000000   1900.000000      0.000000  98001.000000     47.155900   \n",
       "25%         0.000000   1952.000000      0.000000  98033.000000     47.471300   \n",
       "50%         0.000000   1975.000000      0.000000  98065.000000     47.572100   \n",
       "75%       560.000000   1997.000000      0.000000  98117.000000     47.678200   \n",
       "max      4820.000000   2015.000000   2015.000000  98199.000000     47.777600   \n",
       "\n",
       "               long  sqft_living15     sqft_lot15  \n",
       "count  21074.000000   21074.000000   21074.000000  \n",
       "mean    -122.213824    1986.732609   12724.104963  \n",
       "std        0.140612     685.069077   27116.761390  \n",
       "min     -122.519000     399.000000     651.000000  \n",
       "25%     -122.328000    1490.000000    5100.000000  \n",
       "50%     -122.229000    1840.000000    7626.000000  \n",
       "75%     -122.125000    2360.000000   10088.750000  \n",
       "max     -121.315000    6210.000000  871200.000000  "
      ]
     },
     "execution_count": 58,
     "metadata": {},
     "output_type": "execute_result"
    }
   ],
   "source": [
    "df.describe()"
   ]
  },
  {
   "cell_type": "markdown",
   "metadata": {},
   "source": [
    "### Checking for Multicollinearity\n",
    "\n",
    "<ul>\n",
    "    <li>How are the variables correlated?</li>\n",
    "    <li>What data will be best to use to predict price?</li>\n",
    "</ul>"
   ]
  },
  {
   "cell_type": "markdown",
   "metadata": {},
   "source": [
    "<p>The correlation coefficient <b>r</b> measures the strength and direction of a linear relationship between two variables. The value of <b>r</b> is always between +1 and –1. The sign of the coefficient indicates the direction of the relationship. If both variables tend to increase (+) or decrease (-) together.</p>\n",
    "<p>For the purposes of this project we will look for coeficientes with high positive (+) values in our <b>price</b> column which is our targeted variable."
   ]
  },
  {
   "cell_type": "code",
   "execution_count": 59,
   "metadata": {},
   "outputs": [
    {
     "data": {
      "image/png": "[encoded data removed]",
      "text/plain": [
       "<Figure size 1080x1080 with 2 Axes>"
      ]
     },
     "metadata": {
      "needs_background": "light"
     },
     "output_type": "display_data"
    }
   ],
   "source": [
    "# https://seaborn.pydata.org/examples/many_pairwise_correlations.html\n",
    "\n",
    "#Compute the correlation matrix for the dataset\n",
    "corr = df.corr()\n",
    "\n",
    "# Generate mask for the upper triangle\n",
    "mask = np.zeros_like(corr, dtype=np.bool)\n",
    "mask[np.triu_indices_from(mask)] = True\n",
    "\n",
    "#Set up matplotlib figure\n",
    "f, ax=plt.subplots(figsize=(15,15))\n",
    "\n",
    "#Generate heat map\n",
    "sns.heatmap(corr, cmap=\"Blues\", annot=True, mask=mask);"
   ]
  },
  {
   "cell_type": "markdown",
   "metadata": {},
   "source": [
    "* sqft_living (0.7) is the strongest feature that correlates with price. This makes sence since people are most concern about the total floor-area they will use for living.\n",
    "* grade (0.67) and sqft_above (0.6) also correlate strongly with price.\n",
    "* price and zipcode appear to have a negative relatioship.\n",
    "* condition, year built, longitude and square footage of the lot seem to have a slow impact on the price.\n",
    "* Potencial features for our model could be sqft_living, grade and sqft_above."
   ]
  },
  {
   "cell_type": "markdown",
   "metadata": {},
   "source": [
    "Check for linearity with the chosen features and the target variable (price)"
   ]
  },
  {
   "cell_type": "code",
   "execution_count": 60,
   "metadata": {},
   "outputs": [
    {
     "data": {
      "image/png": "[encoded data removed]",
      "text/plain": [
       "<Figure size 1440x576 with 3 Axes>"
      ]
     },
     "metadata": {
      "needs_background": "light"
     },
     "output_type": "display_data"
    }
   ],
   "source": [
    "fig = plt.figure(figsize=(20,8))\n",
    "\n",
    "ax1 = fig.add_subplot(131)\n",
    "ax1.scatter(df['sqft_living'], df['price'])\n",
    "plt.xlabel('total living area')\n",
    "plt.ylabel('Price')\n",
    "\n",
    "ax2 = fig.add_subplot(132)\n",
    "ax2.scatter(df['grade'], df['price'])\n",
    "plt.xlabel('grade')\n",
    "plt.ylabel('Price')\n",
    "\n",
    "ax3 = fig.add_subplot(133)\n",
    "ax3.scatter(df['sqft_above'], df['price'])\n",
    "plt.xlabel('sqft_above')\n",
    "plt.ylabel('Price')\n",
    "\n",
    "plt.show()"
   ]
  },
  {
   "cell_type": "markdown",
   "metadata": {},
   "source": [
    "### Pairplots correlation target variable and features"
   ]
  },
  {
   "cell_type": "code",
   "execution_count": 61,
   "metadata": {},
   "outputs": [
    {
     "name": "stderr",
     "output_type": "stream",
     "text": [
      "/Users/natalia/anaconda3/lib/python3.7/site-packages/scipy/stats/stats.py:1713: FutureWarning: Using a non-tuple sequence for multidimensional indexing is deprecated; use `arr[tuple(seq)]` instead of `arr[seq]`. In the future this will be interpreted as an array index, `arr[np.array(seq)]`, which will result either in an error or a different result.\n",
      "  return np.add.reduce(sorted[indexer] * weights, axis=axis) / sumval\n"
     ]
    },
    {
     "data": {
      "image/png": "[encoded data removed]",
      "text/plain": [
       "<Figure size 720x180 with 4 Axes>"
      ]
     },
     "metadata": {
      "needs_background": "light"
     },
     "output_type": "display_data"
    },
    {
     "data": {
      "image/png": "[encoded data removed]",
      "text/plain": [
       "<Figure size 720x180 with 4 Axes>"
      ]
     },
     "metadata": {
      "needs_background": "light"
     },
     "output_type": "display_data"
    },
    {
     "data": {
      "image/png": "[encoded data removed]",
      "text/plain": [
       "<Figure size 720x180 with 4 Axes>"
      ]
     },
     "metadata": {
      "needs_background": "light"
     },
     "output_type": "display_data"
    },
    {
     "data": {
      "image/png": "[encoded data removed]",
      "text/plain": [
       "<Figure size 900x180 with 5 Axes>"
      ]
     },
     "metadata": {
      "needs_background": "light"
     },
     "output_type": "display_data"
    }
   ],
   "source": [
    "sns.pairplot(x_vars=['bedrooms', 'bathrooms', 'sqft_living','sqft_lot'], \n",
    "             y_vars='price', data=df, kind='reg', plot_kws={'line_kws':{'color':'crimson'}})\n",
    "\n",
    "sns.pairplot(x_vars=['floors', 'view', 'condition','grade'], \n",
    "             y_vars='price', data=df, kind='reg', plot_kws={'line_kws':{'color':'crimson'}})\n",
    "\n",
    "sns.pairplot(x_vars=['sqft_above', 'sqft_basement', 'yr_built','yr_renovated'], \n",
    "             y_vars='price', data=df, kind='reg', plot_kws={'line_kws':{'color':'crimson'}})\n",
    "\n",
    "sns.pairplot(x_vars=['zipcode','lat', 'long','sqft_living15', 'sqft_lot15'], \n",
    "             y_vars='price', data=df, kind='reg', plot_kws={'line_kws':{'color':'crimson'}})\n",
    "\n",
    "plt.show()\n"
   ]
  },
  {
   "cell_type": "markdown",
   "metadata": {},
   "source": [
    "### Observations\n",
    "* Houses with 5 bedrooms are more expensive\n",
    "* Not a astrong relation with bathrooms, sqft_lot, floors, views, zipcode\n",
    "* Strong relation: sqft_living, condition=3, grade\n",
    "* Seems that latitute has a positive low relation with price"
   ]
  },
  {
   "cell_type": "markdown",
   "metadata": {},
   "source": [
    "### Multicollinearity of features"
   ]
  },
  {
   "cell_type": "code",
   "execution_count": 62,
   "metadata": {},
   "outputs": [
    {
     "data": {
      "text/html": [
       "<div>\n",
       "<style scoped>\n",
       "    .dataframe tbody tr th:only-of-type {\n",
       "        vertical-align: middle;\n",
       "    }\n",
       "\n",
       "    .dataframe tbody tr th {\n",
       "        vertical-align: top;\n",
       "    }\n",
       "\n",
       "    .dataframe thead th {\n",
       "        text-align: right;\n",
       "    }\n",
       "</style>\n",
       "<table border=\"1\" class=\"dataframe\">\n",
       "  <thead>\n",
       "    <tr style=\"text-align: right;\">\n",
       "      <th></th>\n",
       "      <th>date</th>\n",
       "      <th>price</th>\n",
       "      <th>bedrooms</th>\n",
       "      <th>bathrooms</th>\n",
       "      <th>sqft_living</th>\n",
       "      <th>sqft_lot</th>\n",
       "      <th>floors</th>\n",
       "      <th>view</th>\n",
       "      <th>condition</th>\n",
       "      <th>grade</th>\n",
       "      <th>sqft_above</th>\n",
       "      <th>sqft_basement</th>\n",
       "      <th>yr_built</th>\n",
       "      <th>yr_renovated</th>\n",
       "      <th>zipcode</th>\n",
       "      <th>lat</th>\n",
       "      <th>long</th>\n",
       "      <th>sqft_living15</th>\n",
       "      <th>sqft_lot15</th>\n",
       "    </tr>\n",
       "    <tr>\n",
       "      <th>id</th>\n",
       "      <th></th>\n",
       "      <th></th>\n",
       "      <th></th>\n",
       "      <th></th>\n",
       "      <th></th>\n",
       "      <th></th>\n",
       "      <th></th>\n",
       "      <th></th>\n",
       "      <th></th>\n",
       "      <th></th>\n",
       "      <th></th>\n",
       "      <th></th>\n",
       "      <th></th>\n",
       "      <th></th>\n",
       "      <th></th>\n",
       "      <th></th>\n",
       "      <th></th>\n",
       "      <th></th>\n",
       "      <th></th>\n",
       "    </tr>\n",
       "  </thead>\n",
       "  <tbody>\n",
       "    <tr>\n",
       "      <th>7129300520</th>\n",
       "      <td>2014-10-13</td>\n",
       "      <td>221900.0</td>\n",
       "      <td>3</td>\n",
       "      <td>1.00</td>\n",
       "      <td>1180</td>\n",
       "      <td>5650</td>\n",
       "      <td>1.0</td>\n",
       "      <td>0.0</td>\n",
       "      <td>3</td>\n",
       "      <td>7</td>\n",
       "      <td>1180</td>\n",
       "      <td>0.0</td>\n",
       "      <td>1955</td>\n",
       "      <td>0</td>\n",
       "      <td>98178</td>\n",
       "      <td>47.5112</td>\n",
       "      <td>-122.257</td>\n",
       "      <td>1340</td>\n",
       "      <td>5650</td>\n",
       "    </tr>\n",
       "    <tr>\n",
       "      <th>6414100192</th>\n",
       "      <td>2014-12-09</td>\n",
       "      <td>538000.0</td>\n",
       "      <td>3</td>\n",
       "      <td>2.25</td>\n",
       "      <td>2570</td>\n",
       "      <td>7242</td>\n",
       "      <td>2.0</td>\n",
       "      <td>0.0</td>\n",
       "      <td>3</td>\n",
       "      <td>7</td>\n",
       "      <td>2170</td>\n",
       "      <td>400.0</td>\n",
       "      <td>1951</td>\n",
       "      <td>1991</td>\n",
       "      <td>98125</td>\n",
       "      <td>47.7210</td>\n",
       "      <td>-122.319</td>\n",
       "      <td>1690</td>\n",
       "      <td>7639</td>\n",
       "    </tr>\n",
       "    <tr>\n",
       "      <th>5631500400</th>\n",
       "      <td>2015-02-25</td>\n",
       "      <td>180000.0</td>\n",
       "      <td>2</td>\n",
       "      <td>1.00</td>\n",
       "      <td>770</td>\n",
       "      <td>10000</td>\n",
       "      <td>1.0</td>\n",
       "      <td>0.0</td>\n",
       "      <td>3</td>\n",
       "      <td>6</td>\n",
       "      <td>770</td>\n",
       "      <td>0.0</td>\n",
       "      <td>1933</td>\n",
       "      <td>0</td>\n",
       "      <td>98028</td>\n",
       "      <td>47.7379</td>\n",
       "      <td>-122.233</td>\n",
       "      <td>2720</td>\n",
       "      <td>8062</td>\n",
       "    </tr>\n",
       "    <tr>\n",
       "      <th>2487200875</th>\n",
       "      <td>2014-12-09</td>\n",
       "      <td>604000.0</td>\n",
       "      <td>4</td>\n",
       "      <td>3.00</td>\n",
       "      <td>1960</td>\n",
       "      <td>5000</td>\n",
       "      <td>1.0</td>\n",
       "      <td>0.0</td>\n",
       "      <td>5</td>\n",
       "      <td>7</td>\n",
       "      <td>1050</td>\n",
       "      <td>910.0</td>\n",
       "      <td>1965</td>\n",
       "      <td>0</td>\n",
       "      <td>98136</td>\n",
       "      <td>47.5208</td>\n",
       "      <td>-122.393</td>\n",
       "      <td>1360</td>\n",
       "      <td>5000</td>\n",
       "    </tr>\n",
       "    <tr>\n",
       "      <th>1954400510</th>\n",
       "      <td>2015-02-18</td>\n",
       "      <td>510000.0</td>\n",
       "      <td>3</td>\n",
       "      <td>2.00</td>\n",
       "      <td>1680</td>\n",
       "      <td>8080</td>\n",
       "      <td>1.0</td>\n",
       "      <td>0.0</td>\n",
       "      <td>3</td>\n",
       "      <td>8</td>\n",
       "      <td>1680</td>\n",
       "      <td>0.0</td>\n",
       "      <td>1987</td>\n",
       "      <td>0</td>\n",
       "      <td>98074</td>\n",
       "      <td>47.6168</td>\n",
       "      <td>-122.045</td>\n",
       "      <td>1800</td>\n",
       "      <td>7503</td>\n",
       "    </tr>\n",
       "  </tbody>\n",
       "</table>\n",
       "</div>"
      ],
      "text/plain": [
       "                 date     price  bedrooms  bathrooms  sqft_living  sqft_lot  \\\n",
       "id                                                                            \n",
       "7129300520 2014-10-13  221900.0         3       1.00         1180      5650   \n",
       "6414100192 2014-12-09  538000.0         3       2.25         2570      7242   \n",
       "5631500400 2015-02-25  180000.0         2       1.00          770     10000   \n",
       "2487200875 2014-12-09  604000.0         4       3.00         1960      5000   \n",
       "1954400510 2015-02-18  510000.0         3       2.00         1680      8080   \n",
       "\n",
       "            floors  view  condition  grade  sqft_above  sqft_basement  \\\n",
       "id                                                                      \n",
       "7129300520     1.0   0.0          3      7        1180            0.0   \n",
       "6414100192     2.0   0.0          3      7        2170          400.0   \n",
       "5631500400     1.0   0.0          3      6         770            0.0   \n",
       "2487200875     1.0   0.0          5      7        1050          910.0   \n",
       "1954400510     1.0   0.0          3      8        1680            0.0   \n",
       "\n",
       "            yr_built  yr_renovated  zipcode      lat     long  sqft_living15  \\\n",
       "id                                                                             \n",
       "7129300520      1955             0    98178  47.5112 -122.257           1340   \n",
       "6414100192      1951          1991    98125  47.7210 -122.319           1690   \n",
       "5631500400      1933             0    98028  47.7379 -122.233           2720   \n",
       "2487200875      1965             0    98136  47.5208 -122.393           1360   \n",
       "1954400510      1987             0    98074  47.6168 -122.045           1800   \n",
       "\n",
       "            sqft_lot15  \n",
       "id                      \n",
       "7129300520        5650  \n",
       "6414100192        7639  \n",
       "5631500400        8062  \n",
       "2487200875        5000  \n",
       "1954400510        7503  "
      ]
     },
     "execution_count": 62,
     "metadata": {},
     "output_type": "execute_result"
    }
   ],
   "source": [
    "df.head()"
   ]
  },
  {
   "cell_type": "code",
   "execution_count": 63,
   "metadata": {},
   "outputs": [
    {
     "data": {
      "text/html": [
       "<div>\n",
       "<style scoped>\n",
       "    .dataframe tbody tr th:only-of-type {\n",
       "        vertical-align: middle;\n",
       "    }\n",
       "\n",
       "    .dataframe tbody tr th {\n",
       "        vertical-align: top;\n",
       "    }\n",
       "\n",
       "    .dataframe thead th {\n",
       "        text-align: right;\n",
       "    }\n",
       "</style>\n",
       "<table border=\"1\" class=\"dataframe\">\n",
       "  <thead>\n",
       "    <tr style=\"text-align: right;\">\n",
       "      <th></th>\n",
       "      <th>bedrooms</th>\n",
       "      <th>bathrooms</th>\n",
       "      <th>sqft_living</th>\n",
       "      <th>sqft_lot</th>\n",
       "      <th>floors</th>\n",
       "      <th>view</th>\n",
       "      <th>condition</th>\n",
       "      <th>grade</th>\n",
       "      <th>sqft_above</th>\n",
       "      <th>sqft_basement</th>\n",
       "      <th>yr_built</th>\n",
       "      <th>yr_renovated</th>\n",
       "      <th>zipcode</th>\n",
       "      <th>lat</th>\n",
       "      <th>long</th>\n",
       "      <th>sqft_living15</th>\n",
       "      <th>sqft_lot15</th>\n",
       "    </tr>\n",
       "    <tr>\n",
       "      <th>id</th>\n",
       "      <th></th>\n",
       "      <th></th>\n",
       "      <th></th>\n",
       "      <th></th>\n",
       "      <th></th>\n",
       "      <th></th>\n",
       "      <th></th>\n",
       "      <th></th>\n",
       "      <th></th>\n",
       "      <th></th>\n",
       "      <th></th>\n",
       "      <th></th>\n",
       "      <th></th>\n",
       "      <th></th>\n",
       "      <th></th>\n",
       "      <th></th>\n",
       "      <th></th>\n",
       "    </tr>\n",
       "  </thead>\n",
       "  <tbody>\n",
       "    <tr>\n",
       "      <th>7129300520</th>\n",
       "      <td>3</td>\n",
       "      <td>1.00</td>\n",
       "      <td>1180</td>\n",
       "      <td>5650</td>\n",
       "      <td>1.0</td>\n",
       "      <td>0.0</td>\n",
       "      <td>3</td>\n",
       "      <td>7</td>\n",
       "      <td>1180</td>\n",
       "      <td>0.0</td>\n",
       "      <td>1955</td>\n",
       "      <td>0</td>\n",
       "      <td>98178</td>\n",
       "      <td>47.5112</td>\n",
       "      <td>-122.257</td>\n",
       "      <td>1340</td>\n",
       "      <td>5650</td>\n",
       "    </tr>\n",
       "    <tr>\n",
       "      <th>6414100192</th>\n",
       "      <td>3</td>\n",
       "      <td>2.25</td>\n",
       "      <td>2570</td>\n",
       "      <td>7242</td>\n",
       "      <td>2.0</td>\n",
       "      <td>0.0</td>\n",
       "      <td>3</td>\n",
       "      <td>7</td>\n",
       "      <td>2170</td>\n",
       "      <td>400.0</td>\n",
       "      <td>1951</td>\n",
       "      <td>1991</td>\n",
       "      <td>98125</td>\n",
       "      <td>47.7210</td>\n",
       "      <td>-122.319</td>\n",
       "      <td>1690</td>\n",
       "      <td>7639</td>\n",
       "    </tr>\n",
       "    <tr>\n",
       "      <th>5631500400</th>\n",
       "      <td>2</td>\n",
       "      <td>1.00</td>\n",
       "      <td>770</td>\n",
       "      <td>10000</td>\n",
       "      <td>1.0</td>\n",
       "      <td>0.0</td>\n",
       "      <td>3</td>\n",
       "      <td>6</td>\n",
       "      <td>770</td>\n",
       "      <td>0.0</td>\n",
       "      <td>1933</td>\n",
       "      <td>0</td>\n",
       "      <td>98028</td>\n",
       "      <td>47.7379</td>\n",
       "      <td>-122.233</td>\n",
       "      <td>2720</td>\n",
       "      <td>8062</td>\n",
       "    </tr>\n",
       "    <tr>\n",
       "      <th>2487200875</th>\n",
       "      <td>4</td>\n",
       "      <td>3.00</td>\n",
       "      <td>1960</td>\n",
       "      <td>5000</td>\n",
       "      <td>1.0</td>\n",
       "      <td>0.0</td>\n",
       "      <td>5</td>\n",
       "      <td>7</td>\n",
       "      <td>1050</td>\n",
       "      <td>910.0</td>\n",
       "      <td>1965</td>\n",
       "      <td>0</td>\n",
       "      <td>98136</td>\n",
       "      <td>47.5208</td>\n",
       "      <td>-122.393</td>\n",
       "      <td>1360</td>\n",
       "      <td>5000</td>\n",
       "    </tr>\n",
       "    <tr>\n",
       "      <th>1954400510</th>\n",
       "      <td>3</td>\n",
       "      <td>2.00</td>\n",
       "      <td>1680</td>\n",
       "      <td>8080</td>\n",
       "      <td>1.0</td>\n",
       "      <td>0.0</td>\n",
       "      <td>3</td>\n",
       "      <td>8</td>\n",
       "      <td>1680</td>\n",
       "      <td>0.0</td>\n",
       "      <td>1987</td>\n",
       "      <td>0</td>\n",
       "      <td>98074</td>\n",
       "      <td>47.6168</td>\n",
       "      <td>-122.045</td>\n",
       "      <td>1800</td>\n",
       "      <td>7503</td>\n",
       "    </tr>\n",
       "  </tbody>\n",
       "</table>\n",
       "</div>"
      ],
      "text/plain": [
       "            bedrooms  bathrooms  sqft_living  sqft_lot  floors  view  \\\n",
       "id                                                                     \n",
       "7129300520         3       1.00         1180      5650     1.0   0.0   \n",
       "6414100192         3       2.25         2570      7242     2.0   0.0   \n",
       "5631500400         2       1.00          770     10000     1.0   0.0   \n",
       "2487200875         4       3.00         1960      5000     1.0   0.0   \n",
       "1954400510         3       2.00         1680      8080     1.0   0.0   \n",
       "\n",
       "            condition  grade  sqft_above  sqft_basement  yr_built  \\\n",
       "id                                                                  \n",
       "7129300520          3      7        1180            0.0      1955   \n",
       "6414100192          3      7        2170          400.0      1951   \n",
       "5631500400          3      6         770            0.0      1933   \n",
       "2487200875          5      7        1050          910.0      1965   \n",
       "1954400510          3      8        1680            0.0      1987   \n",
       "\n",
       "            yr_renovated  zipcode      lat     long  sqft_living15  sqft_lot15  \n",
       "id                                                                              \n",
       "7129300520             0    98178  47.5112 -122.257           1340        5650  \n",
       "6414100192          1991    98125  47.7210 -122.319           1690        7639  \n",
       "5631500400             0    98028  47.7379 -122.233           2720        8062  \n",
       "2487200875             0    98136  47.5208 -122.393           1360        5000  \n",
       "1954400510             0    98074  47.6168 -122.045           1800        7503  "
      ]
     },
     "execution_count": 63,
     "metadata": {},
     "output_type": "execute_result"
    }
   ],
   "source": [
    "# Make a copy of the dataset without the target variable price. Date sold can also be left out.\n",
    "df_pred = df.iloc[:, 2:19]\n",
    "df_pred.head()"
   ]
  },
  {
   "cell_type": "code",
   "execution_count": 64,
   "metadata": {},
   "outputs": [
    {
     "data": {
      "image/png": "[encoded data removed]",
      "text/plain": [
       "<Figure size 1080x1080 with 2 Axes>"
      ]
     },
     "metadata": {
      "needs_background": "light"
     },
     "output_type": "display_data"
    }
   ],
   "source": [
    "# generate a heat map with only features\n",
    "\n",
    "#Compute the correlation matrix\n",
    "corr = df_pred.corr()\n",
    "\n",
    "# Generate mask for the upper triangle\n",
    "mask = np.zeros_like(corr, dtype=np.bool)\n",
    "mask[np.triu_indices_from(mask)] = True\n",
    "\n",
    "#Set up matplotlib figure\n",
    "f, ax=plt.subplots(figsize=(15,15))\n",
    "\n",
    "#Generate heat map\n",
    "sns.heatmap(df_pred.corr(), annot=True, mask=mask);"
   ]
  },
  {
   "cell_type": "code",
   "execution_count": 65,
   "metadata": {},
   "outputs": [
    {
     "data": {
      "text/html": [
       "<div>\n",
       "<style scoped>\n",
       "    .dataframe tbody tr th:only-of-type {\n",
       "        vertical-align: middle;\n",
       "    }\n",
       "\n",
       "    .dataframe tbody tr th {\n",
       "        vertical-align: top;\n",
       "    }\n",
       "\n",
       "    .dataframe thead th {\n",
       "        text-align: right;\n",
       "    }\n",
       "</style>\n",
       "<table border=\"1\" class=\"dataframe\">\n",
       "  <thead>\n",
       "    <tr style=\"text-align: right;\">\n",
       "      <th></th>\n",
       "      <th>bedrooms</th>\n",
       "      <th>bathrooms</th>\n",
       "      <th>sqft_living</th>\n",
       "      <th>sqft_lot</th>\n",
       "      <th>floors</th>\n",
       "      <th>view</th>\n",
       "      <th>condition</th>\n",
       "      <th>grade</th>\n",
       "      <th>sqft_above</th>\n",
       "      <th>sqft_basement</th>\n",
       "      <th>yr_built</th>\n",
       "      <th>yr_renovated</th>\n",
       "      <th>zipcode</th>\n",
       "      <th>lat</th>\n",
       "      <th>long</th>\n",
       "      <th>sqft_living15</th>\n",
       "      <th>sqft_lot15</th>\n",
       "    </tr>\n",
       "  </thead>\n",
       "  <tbody>\n",
       "    <tr>\n",
       "      <th>bedrooms</th>\n",
       "      <td>True</td>\n",
       "      <td>False</td>\n",
       "      <td>False</td>\n",
       "      <td>False</td>\n",
       "      <td>False</td>\n",
       "      <td>False</td>\n",
       "      <td>False</td>\n",
       "      <td>False</td>\n",
       "      <td>False</td>\n",
       "      <td>False</td>\n",
       "      <td>False</td>\n",
       "      <td>False</td>\n",
       "      <td>False</td>\n",
       "      <td>False</td>\n",
       "      <td>False</td>\n",
       "      <td>False</td>\n",
       "      <td>False</td>\n",
       "    </tr>\n",
       "    <tr>\n",
       "      <th>bathrooms</th>\n",
       "      <td>False</td>\n",
       "      <td>True</td>\n",
       "      <td>True</td>\n",
       "      <td>False</td>\n",
       "      <td>False</td>\n",
       "      <td>False</td>\n",
       "      <td>False</td>\n",
       "      <td>False</td>\n",
       "      <td>False</td>\n",
       "      <td>False</td>\n",
       "      <td>False</td>\n",
       "      <td>False</td>\n",
       "      <td>False</td>\n",
       "      <td>False</td>\n",
       "      <td>False</td>\n",
       "      <td>False</td>\n",
       "      <td>False</td>\n",
       "    </tr>\n",
       "    <tr>\n",
       "      <th>sqft_living</th>\n",
       "      <td>False</td>\n",
       "      <td>True</td>\n",
       "      <td>True</td>\n",
       "      <td>False</td>\n",
       "      <td>False</td>\n",
       "      <td>False</td>\n",
       "      <td>False</td>\n",
       "      <td>True</td>\n",
       "      <td>True</td>\n",
       "      <td>False</td>\n",
       "      <td>False</td>\n",
       "      <td>False</td>\n",
       "      <td>False</td>\n",
       "      <td>False</td>\n",
       "      <td>False</td>\n",
       "      <td>True</td>\n",
       "      <td>False</td>\n",
       "    </tr>\n",
       "    <tr>\n",
       "      <th>sqft_lot</th>\n",
       "      <td>False</td>\n",
       "      <td>False</td>\n",
       "      <td>False</td>\n",
       "      <td>True</td>\n",
       "      <td>False</td>\n",
       "      <td>False</td>\n",
       "      <td>False</td>\n",
       "      <td>False</td>\n",
       "      <td>False</td>\n",
       "      <td>False</td>\n",
       "      <td>False</td>\n",
       "      <td>False</td>\n",
       "      <td>False</td>\n",
       "      <td>False</td>\n",
       "      <td>False</td>\n",
       "      <td>False</td>\n",
       "      <td>True</td>\n",
       "    </tr>\n",
       "    <tr>\n",
       "      <th>floors</th>\n",
       "      <td>False</td>\n",
       "      <td>False</td>\n",
       "      <td>False</td>\n",
       "      <td>False</td>\n",
       "      <td>True</td>\n",
       "      <td>False</td>\n",
       "      <td>False</td>\n",
       "      <td>False</td>\n",
       "      <td>False</td>\n",
       "      <td>False</td>\n",
       "      <td>False</td>\n",
       "      <td>False</td>\n",
       "      <td>False</td>\n",
       "      <td>False</td>\n",
       "      <td>False</td>\n",
       "      <td>False</td>\n",
       "      <td>False</td>\n",
       "    </tr>\n",
       "    <tr>\n",
       "      <th>view</th>\n",
       "      <td>False</td>\n",
       "      <td>False</td>\n",
       "      <td>False</td>\n",
       "      <td>False</td>\n",
       "      <td>False</td>\n",
       "      <td>True</td>\n",
       "      <td>False</td>\n",
       "      <td>False</td>\n",
       "      <td>False</td>\n",
       "      <td>False</td>\n",
       "      <td>False</td>\n",
       "      <td>False</td>\n",
       "      <td>False</td>\n",
       "      <td>False</td>\n",
       "      <td>False</td>\n",
       "      <td>False</td>\n",
       "      <td>False</td>\n",
       "    </tr>\n",
       "    <tr>\n",
       "      <th>condition</th>\n",
       "      <td>False</td>\n",
       "      <td>False</td>\n",
       "      <td>False</td>\n",
       "      <td>False</td>\n",
       "      <td>False</td>\n",
       "      <td>False</td>\n",
       "      <td>True</td>\n",
       "      <td>False</td>\n",
       "      <td>False</td>\n",
       "      <td>False</td>\n",
       "      <td>False</td>\n",
       "      <td>False</td>\n",
       "      <td>False</td>\n",
       "      <td>False</td>\n",
       "      <td>False</td>\n",
       "      <td>False</td>\n",
       "      <td>False</td>\n",
       "    </tr>\n",
       "    <tr>\n",
       "      <th>grade</th>\n",
       "      <td>False</td>\n",
       "      <td>False</td>\n",
       "      <td>True</td>\n",
       "      <td>False</td>\n",
       "      <td>False</td>\n",
       "      <td>False</td>\n",
       "      <td>False</td>\n",
       "      <td>True</td>\n",
       "      <td>True</td>\n",
       "      <td>False</td>\n",
       "      <td>False</td>\n",
       "      <td>False</td>\n",
       "      <td>False</td>\n",
       "      <td>False</td>\n",
       "      <td>False</td>\n",
       "      <td>True</td>\n",
       "      <td>False</td>\n",
       "    </tr>\n",
       "    <tr>\n",
       "      <th>sqft_above</th>\n",
       "      <td>False</td>\n",
       "      <td>False</td>\n",
       "      <td>True</td>\n",
       "      <td>False</td>\n",
       "      <td>False</td>\n",
       "      <td>False</td>\n",
       "      <td>False</td>\n",
       "      <td>True</td>\n",
       "      <td>True</td>\n",
       "      <td>False</td>\n",
       "      <td>False</td>\n",
       "      <td>False</td>\n",
       "      <td>False</td>\n",
       "      <td>False</td>\n",
       "      <td>False</td>\n",
       "      <td>True</td>\n",
       "      <td>False</td>\n",
       "    </tr>\n",
       "    <tr>\n",
       "      <th>sqft_basement</th>\n",
       "      <td>False</td>\n",
       "      <td>False</td>\n",
       "      <td>False</td>\n",
       "      <td>False</td>\n",
       "      <td>False</td>\n",
       "      <td>False</td>\n",
       "      <td>False</td>\n",
       "      <td>False</td>\n",
       "      <td>False</td>\n",
       "      <td>True</td>\n",
       "      <td>False</td>\n",
       "      <td>False</td>\n",
       "      <td>False</td>\n",
       "      <td>False</td>\n",
       "      <td>False</td>\n",
       "      <td>False</td>\n",
       "      <td>False</td>\n",
       "    </tr>\n",
       "    <tr>\n",
       "      <th>yr_built</th>\n",
       "      <td>False</td>\n",
       "      <td>False</td>\n",
       "      <td>False</td>\n",
       "      <td>False</td>\n",
       "      <td>False</td>\n",
       "      <td>False</td>\n",
       "      <td>False</td>\n",
       "      <td>False</td>\n",
       "      <td>False</td>\n",
       "      <td>False</td>\n",
       "      <td>True</td>\n",
       "      <td>False</td>\n",
       "      <td>False</td>\n",
       "      <td>False</td>\n",
       "      <td>False</td>\n",
       "      <td>False</td>\n",
       "      <td>False</td>\n",
       "    </tr>\n",
       "    <tr>\n",
       "      <th>yr_renovated</th>\n",
       "      <td>False</td>\n",
       "      <td>False</td>\n",
       "      <td>False</td>\n",
       "      <td>False</td>\n",
       "      <td>False</td>\n",
       "      <td>False</td>\n",
       "      <td>False</td>\n",
       "      <td>False</td>\n",
       "      <td>False</td>\n",
       "      <td>False</td>\n",
       "      <td>False</td>\n",
       "      <td>True</td>\n",
       "      <td>False</td>\n",
       "      <td>False</td>\n",
       "      <td>False</td>\n",
       "      <td>False</td>\n",
       "      <td>False</td>\n",
       "    </tr>\n",
       "    <tr>\n",
       "      <th>zipcode</th>\n",
       "      <td>False</td>\n",
       "      <td>False</td>\n",
       "      <td>False</td>\n",
       "      <td>False</td>\n",
       "      <td>False</td>\n",
       "      <td>False</td>\n",
       "      <td>False</td>\n",
       "      <td>False</td>\n",
       "      <td>False</td>\n",
       "      <td>False</td>\n",
       "      <td>False</td>\n",
       "      <td>False</td>\n",
       "      <td>True</td>\n",
       "      <td>False</td>\n",
       "      <td>False</td>\n",
       "      <td>False</td>\n",
       "      <td>False</td>\n",
       "    </tr>\n",
       "    <tr>\n",
       "      <th>lat</th>\n",
       "      <td>False</td>\n",
       "      <td>False</td>\n",
       "      <td>False</td>\n",
       "      <td>False</td>\n",
       "      <td>False</td>\n",
       "      <td>False</td>\n",
       "      <td>False</td>\n",
       "      <td>False</td>\n",
       "      <td>False</td>\n",
       "      <td>False</td>\n",
       "      <td>False</td>\n",
       "      <td>False</td>\n",
       "      <td>False</td>\n",
       "      <td>True</td>\n",
       "      <td>False</td>\n",
       "      <td>False</td>\n",
       "      <td>False</td>\n",
       "    </tr>\n",
       "    <tr>\n",
       "      <th>long</th>\n",
       "      <td>False</td>\n",
       "      <td>False</td>\n",
       "      <td>False</td>\n",
       "      <td>False</td>\n",
       "      <td>False</td>\n",
       "      <td>False</td>\n",
       "      <td>False</td>\n",
       "      <td>False</td>\n",
       "      <td>False</td>\n",
       "      <td>False</td>\n",
       "      <td>False</td>\n",
       "      <td>False</td>\n",
       "      <td>False</td>\n",
       "      <td>False</td>\n",
       "      <td>True</td>\n",
       "      <td>False</td>\n",
       "      <td>False</td>\n",
       "    </tr>\n",
       "    <tr>\n",
       "      <th>sqft_living15</th>\n",
       "      <td>False</td>\n",
       "      <td>False</td>\n",
       "      <td>True</td>\n",
       "      <td>False</td>\n",
       "      <td>False</td>\n",
       "      <td>False</td>\n",
       "      <td>False</td>\n",
       "      <td>True</td>\n",
       "      <td>True</td>\n",
       "      <td>False</td>\n",
       "      <td>False</td>\n",
       "      <td>False</td>\n",
       "      <td>False</td>\n",
       "      <td>False</td>\n",
       "      <td>False</td>\n",
       "      <td>True</td>\n",
       "      <td>False</td>\n",
       "    </tr>\n",
       "    <tr>\n",
       "      <th>sqft_lot15</th>\n",
       "      <td>False</td>\n",
       "      <td>False</td>\n",
       "      <td>False</td>\n",
       "      <td>True</td>\n",
       "      <td>False</td>\n",
       "      <td>False</td>\n",
       "      <td>False</td>\n",
       "      <td>False</td>\n",
       "      <td>False</td>\n",
       "      <td>False</td>\n",
       "      <td>False</td>\n",
       "      <td>False</td>\n",
       "      <td>False</td>\n",
       "      <td>False</td>\n",
       "      <td>False</td>\n",
       "      <td>False</td>\n",
       "      <td>True</td>\n",
       "    </tr>\n",
       "  </tbody>\n",
       "</table>\n",
       "</div>"
      ],
      "text/plain": [
       "               bedrooms  bathrooms  sqft_living  sqft_lot  floors   view  \\\n",
       "bedrooms           True      False        False     False   False  False   \n",
       "bathrooms         False       True         True     False   False  False   \n",
       "sqft_living       False       True         True     False   False  False   \n",
       "sqft_lot          False      False        False      True   False  False   \n",
       "floors            False      False        False     False    True  False   \n",
       "view              False      False        False     False   False   True   \n",
       "condition         False      False        False     False   False  False   \n",
       "grade             False      False         True     False   False  False   \n",
       "sqft_above        False      False         True     False   False  False   \n",
       "sqft_basement     False      False        False     False   False  False   \n",
       "yr_built          False      False        False     False   False  False   \n",
       "yr_renovated      False      False        False     False   False  False   \n",
       "zipcode           False      False        False     False   False  False   \n",
       "lat               False      False        False     False   False  False   \n",
       "long              False      False        False     False   False  False   \n",
       "sqft_living15     False      False         True     False   False  False   \n",
       "sqft_lot15        False      False        False      True   False  False   \n",
       "\n",
       "               condition  grade  sqft_above  sqft_basement  yr_built  \\\n",
       "bedrooms           False  False       False          False     False   \n",
       "bathrooms          False  False       False          False     False   \n",
       "sqft_living        False   True        True          False     False   \n",
       "sqft_lot           False  False       False          False     False   \n",
       "floors             False  False       False          False     False   \n",
       "view               False  False       False          False     False   \n",
       "condition           True  False       False          False     False   \n",
       "grade              False   True        True          False     False   \n",
       "sqft_above         False   True        True          False     False   \n",
       "sqft_basement      False  False       False           True     False   \n",
       "yr_built           False  False       False          False      True   \n",
       "yr_renovated       False  False       False          False     False   \n",
       "zipcode            False  False       False          False     False   \n",
       "lat                False  False       False          False     False   \n",
       "long               False  False       False          False     False   \n",
       "sqft_living15      False   True        True          False     False   \n",
       "sqft_lot15         False  False       False          False     False   \n",
       "\n",
       "               yr_renovated  zipcode    lat   long  sqft_living15  sqft_lot15  \n",
       "bedrooms              False    False  False  False          False       False  \n",
       "bathrooms             False    False  False  False          False       False  \n",
       "sqft_living           False    False  False  False           True       False  \n",
       "sqft_lot              False    False  False  False          False        True  \n",
       "floors                False    False  False  False          False       False  \n",
       "view                  False    False  False  False          False       False  \n",
       "condition             False    False  False  False          False       False  \n",
       "grade                 False    False  False  False           True       False  \n",
       "sqft_above            False    False  False  False           True       False  \n",
       "sqft_basement         False    False  False  False          False       False  \n",
       "yr_built              False    False  False  False          False       False  \n",
       "yr_renovated           True    False  False  False          False       False  \n",
       "zipcode               False     True  False  False          False       False  \n",
       "lat                   False    False   True  False          False       False  \n",
       "long                  False    False  False   True          False       False  \n",
       "sqft_living15         False    False  False  False           True       False  \n",
       "sqft_lot15            False    False  False  False          False        True  "
      ]
     },
     "execution_count": 65,
     "metadata": {},
     "output_type": "execute_result"
    }
   ],
   "source": [
    "# A correlation with an absolute value of 0.7 or higher is considered a high correlation.\n",
    "# Check for only correlations higher than |0.7|\n",
    "abs(df_pred.corr()) > 0.7"
   ]
  },
  {
   "cell_type": "markdown",
   "metadata": {},
   "source": [
    "* It seems that <b>sqft_living</b>, <b>grade</b>, <b>sqft_above</b> and <b>sqft_living15</b> are highly correlated among each other. I will remove <b>sqft_above</b> and <b>sqft_living15</b> columns  due to their high values. \n",
    "* Seems that <b>lat</b>, <b>long</b>, <b>date</b>, <b>zipcode</b> and <b>sqft_basement</b> can be dropped as they no longer needed.\n",
    "* <b>yr_built</b> will also be dropped. The heatmap confirms theres is very little correlation."
   ]
  },
  {
   "cell_type": "markdown",
   "metadata": {},
   "source": [
    "### Collinearity between bedrooms and sqft_living"
   ]
  },
  {
   "cell_type": "code",
   "execution_count": 66,
   "metadata": {},
   "outputs": [
    {
     "data": {
      "image/png": "[encoded data removed]",
      "text/plain": [
       "<Figure size 720x720 with 1 Axes>"
      ]
     },
     "metadata": {
      "needs_background": "light"
     },
     "output_type": "display_data"
    }
   ],
   "source": [
    "fig = plt.figure(figsize=(10,10))\n",
    "\n",
    "plt.scatter(df_pred['bedrooms'], df_pred['sqft_living'])\n",
    "plt.xlabel('Bedrooms')\n",
    "plt.ylabel('Square Ft. Living')\n",
    "\n",
    "plt.show()"
   ]
  },
  {
   "cell_type": "code",
   "execution_count": 256,
   "metadata": {},
   "outputs": [
    {
     "name": "stderr",
     "output_type": "stream",
     "text": [
      "/Users/natalia/anaconda3/lib/python3.7/site-packages/scipy/stats/stats.py:1713: FutureWarning: Using a non-tuple sequence for multidimensional indexing is deprecated; use `arr[tuple(seq)]` instead of `arr[seq]`. In the future this will be interpreted as an array index, `arr[np.array(seq)]`, which will result either in an error or a different result.\n",
      "  return np.add.reduce(sorted[indexer] * weights, axis=axis) / sumval\n"
     ]
    },
    {
     "data": {
      "text/plain": [
       "<seaborn.axisgrid.PairGrid at 0x1c208d2710>"
      ]
     },
     "execution_count": 256,
     "metadata": {},
     "output_type": "execute_result"
    },
    {
     "data": {
      "image/png": "[encoded data removed]",
      "text/plain": [
       "<Figure size 180x180 with 1 Axes>"
      ]
     },
     "metadata": {
      "needs_background": "light"
     },
     "output_type": "display_data"
    }
   ],
   "source": [
    "sns.pairplot(x_vars=['bedrooms'], \n",
    "             y_vars='sqft_living', data=df_pred, kind='reg', plot_kws={'line_kws':{'color':'crimson'}})"
   ]
  },
  {
   "cell_type": "markdown",
   "metadata": {},
   "source": [
    "There is a low positive correlation in between these two features, we will need more data points to evaluate the tendency; for now I will keep both columns."
   ]
  },
  {
   "cell_type": "markdown",
   "metadata": {},
   "source": [
    "### Collinearity between bathrooms and price"
   ]
  },
  {
   "cell_type": "code",
   "execution_count": 71,
   "metadata": {},
   "outputs": [
    {
     "data": {
      "image/png": "[encoded data removed]",
      "text/plain": [
       "<Figure size 720x720 with 1 Axes>"
      ]
     },
     "metadata": {
      "needs_background": "light"
     },
     "output_type": "display_data"
    }
   ],
   "source": [
    "fig = plt.figure(figsize=(10,10))\n",
    "\n",
    "plt.scatter(df_pred['bathrooms'], df['price'])\n",
    "plt.xlabel('Bathrooms')\n",
    "plt.ylabel('Price')\n",
    "\n",
    "plt.show()"
   ]
  },
  {
   "cell_type": "code",
   "execution_count": 264,
   "metadata": {},
   "outputs": [],
   "source": [
    "# Drop unnecessary columns  (from original DF)\n",
    "\n",
    "df.drop(['date', 'sqft_above', 'sqft_basement', 'zipcode', 'long', 'sqft_living15', 'yr_built'], axis=1, inplace=True)\n"
   ]
  },
  {
   "cell_type": "code",
   "execution_count": 265,
   "metadata": {},
   "outputs": [
    {
     "data": {
      "text/html": [
       "<div>\n",
       "<style scoped>\n",
       "    .dataframe tbody tr th:only-of-type {\n",
       "        vertical-align: middle;\n",
       "    }\n",
       "\n",
       "    .dataframe tbody tr th {\n",
       "        vertical-align: top;\n",
       "    }\n",
       "\n",
       "    .dataframe thead th {\n",
       "        text-align: right;\n",
       "    }\n",
       "</style>\n",
       "<table border=\"1\" class=\"dataframe\">\n",
       "  <thead>\n",
       "    <tr style=\"text-align: right;\">\n",
       "      <th></th>\n",
       "      <th>price</th>\n",
       "      <th>bedrooms</th>\n",
       "      <th>bathrooms</th>\n",
       "      <th>sqft_living</th>\n",
       "      <th>sqft_lot</th>\n",
       "      <th>floors</th>\n",
       "      <th>view</th>\n",
       "      <th>condition</th>\n",
       "      <th>grade</th>\n",
       "      <th>yr_renovated</th>\n",
       "      <th>lat</th>\n",
       "      <th>sqft_lot15</th>\n",
       "    </tr>\n",
       "    <tr>\n",
       "      <th>id</th>\n",
       "      <th></th>\n",
       "      <th></th>\n",
       "      <th></th>\n",
       "      <th></th>\n",
       "      <th></th>\n",
       "      <th></th>\n",
       "      <th></th>\n",
       "      <th></th>\n",
       "      <th></th>\n",
       "      <th></th>\n",
       "      <th></th>\n",
       "      <th></th>\n",
       "    </tr>\n",
       "  </thead>\n",
       "  <tbody>\n",
       "    <tr>\n",
       "      <th>7129300520</th>\n",
       "      <td>221900.0</td>\n",
       "      <td>3</td>\n",
       "      <td>1.00</td>\n",
       "      <td>1180</td>\n",
       "      <td>5650</td>\n",
       "      <td>1.0</td>\n",
       "      <td>0.0</td>\n",
       "      <td>3</td>\n",
       "      <td>7</td>\n",
       "      <td>0</td>\n",
       "      <td>47.5112</td>\n",
       "      <td>5650</td>\n",
       "    </tr>\n",
       "    <tr>\n",
       "      <th>6414100192</th>\n",
       "      <td>538000.0</td>\n",
       "      <td>3</td>\n",
       "      <td>2.25</td>\n",
       "      <td>2570</td>\n",
       "      <td>7242</td>\n",
       "      <td>2.0</td>\n",
       "      <td>0.0</td>\n",
       "      <td>3</td>\n",
       "      <td>7</td>\n",
       "      <td>1991</td>\n",
       "      <td>47.7210</td>\n",
       "      <td>7639</td>\n",
       "    </tr>\n",
       "    <tr>\n",
       "      <th>5631500400</th>\n",
       "      <td>180000.0</td>\n",
       "      <td>2</td>\n",
       "      <td>1.00</td>\n",
       "      <td>770</td>\n",
       "      <td>10000</td>\n",
       "      <td>1.0</td>\n",
       "      <td>0.0</td>\n",
       "      <td>3</td>\n",
       "      <td>6</td>\n",
       "      <td>0</td>\n",
       "      <td>47.7379</td>\n",
       "      <td>8062</td>\n",
       "    </tr>\n",
       "    <tr>\n",
       "      <th>2487200875</th>\n",
       "      <td>604000.0</td>\n",
       "      <td>4</td>\n",
       "      <td>3.00</td>\n",
       "      <td>1960</td>\n",
       "      <td>5000</td>\n",
       "      <td>1.0</td>\n",
       "      <td>0.0</td>\n",
       "      <td>5</td>\n",
       "      <td>7</td>\n",
       "      <td>0</td>\n",
       "      <td>47.5208</td>\n",
       "      <td>5000</td>\n",
       "    </tr>\n",
       "    <tr>\n",
       "      <th>1954400510</th>\n",
       "      <td>510000.0</td>\n",
       "      <td>3</td>\n",
       "      <td>2.00</td>\n",
       "      <td>1680</td>\n",
       "      <td>8080</td>\n",
       "      <td>1.0</td>\n",
       "      <td>0.0</td>\n",
       "      <td>3</td>\n",
       "      <td>8</td>\n",
       "      <td>0</td>\n",
       "      <td>47.6168</td>\n",
       "      <td>7503</td>\n",
       "    </tr>\n",
       "  </tbody>\n",
       "</table>\n",
       "</div>"
      ],
      "text/plain": [
       "               price  bedrooms  bathrooms  sqft_living  sqft_lot  floors  \\\n",
       "id                                                                         \n",
       "7129300520  221900.0         3       1.00         1180      5650     1.0   \n",
       "6414100192  538000.0         3       2.25         2570      7242     2.0   \n",
       "5631500400  180000.0         2       1.00          770     10000     1.0   \n",
       "2487200875  604000.0         4       3.00         1960      5000     1.0   \n",
       "1954400510  510000.0         3       2.00         1680      8080     1.0   \n",
       "\n",
       "            view  condition  grade  yr_renovated      lat  sqft_lot15  \n",
       "id                                                                     \n",
       "7129300520   0.0          3      7             0  47.5112        5650  \n",
       "6414100192   0.0          3      7          1991  47.7210        7639  \n",
       "5631500400   0.0          3      6             0  47.7379        8062  \n",
       "2487200875   0.0          5      7             0  47.5208        5000  \n",
       "1954400510   0.0          3      8             0  47.6168        7503  "
      ]
     },
     "execution_count": 265,
     "metadata": {},
     "output_type": "execute_result"
    }
   ],
   "source": [
    "df.head()    # Dataset with target variable and potential predictors only"
   ]
  },
  {
   "cell_type": "markdown",
   "metadata": {},
   "source": [
    "## MODELING"
   ]
  },
  {
   "cell_type": "markdown",
   "metadata": {},
   "source": [
    "#### Normalizing the data  "
   ]
  },
  {
   "cell_type": "code",
   "execution_count": 266,
   "metadata": {},
   "outputs": [],
   "source": [
    "# Convert data of category columns \n",
    "\n",
    "df.view = df.view.astype('category')\n",
    "df.condition = df.condition.astype('category')\n",
    "df.grade = df.grade.astype('category')"
   ]
  },
  {
   "cell_type": "code",
   "execution_count": 267,
   "metadata": {},
   "outputs": [],
   "source": [
    "# change grade, condition and view columns to dummies\n",
    "\n",
    "view_dummies = pd.get_dummies(df['view'], prefix='vw')\n",
    "condition_dummies = pd.get_dummies(df['condition'], prefix='con')\n",
    "grade_dummies = pd.get_dummies(df['grade'], prefix='grd')"
   ]
  },
  {
   "cell_type": "code",
   "execution_count": 268,
   "metadata": {},
   "outputs": [],
   "source": [
    "# replace with dummy columns \n",
    "df_cat = pd.concat([df, grade_dummies, condition_dummies, view_dummies], axis=1)"
   ]
  },
  {
   "cell_type": "code",
   "execution_count": 269,
   "metadata": {},
   "outputs": [
    {
     "data": {
      "text/html": [
       "<div>\n",
       "<style scoped>\n",
       "    .dataframe tbody tr th:only-of-type {\n",
       "        vertical-align: middle;\n",
       "    }\n",
       "\n",
       "    .dataframe tbody tr th {\n",
       "        vertical-align: top;\n",
       "    }\n",
       "\n",
       "    .dataframe thead th {\n",
       "        text-align: right;\n",
       "    }\n",
       "</style>\n",
       "<table border=\"1\" class=\"dataframe\">\n",
       "  <thead>\n",
       "    <tr style=\"text-align: right;\">\n",
       "      <th></th>\n",
       "      <th>price</th>\n",
       "      <th>bedrooms</th>\n",
       "      <th>bathrooms</th>\n",
       "      <th>sqft_living</th>\n",
       "      <th>sqft_lot</th>\n",
       "      <th>floors</th>\n",
       "      <th>view</th>\n",
       "      <th>condition</th>\n",
       "      <th>grade</th>\n",
       "      <th>yr_renovated</th>\n",
       "      <th>...</th>\n",
       "      <th>con_1</th>\n",
       "      <th>con_2</th>\n",
       "      <th>con_3</th>\n",
       "      <th>con_4</th>\n",
       "      <th>con_5</th>\n",
       "      <th>vw_0.0</th>\n",
       "      <th>vw_1.0</th>\n",
       "      <th>vw_2.0</th>\n",
       "      <th>vw_3.0</th>\n",
       "      <th>vw_4.0</th>\n",
       "    </tr>\n",
       "    <tr>\n",
       "      <th>id</th>\n",
       "      <th></th>\n",
       "      <th></th>\n",
       "      <th></th>\n",
       "      <th></th>\n",
       "      <th></th>\n",
       "      <th></th>\n",
       "      <th></th>\n",
       "      <th></th>\n",
       "      <th></th>\n",
       "      <th></th>\n",
       "      <th></th>\n",
       "      <th></th>\n",
       "      <th></th>\n",
       "      <th></th>\n",
       "      <th></th>\n",
       "      <th></th>\n",
       "      <th></th>\n",
       "      <th></th>\n",
       "      <th></th>\n",
       "      <th></th>\n",
       "      <th></th>\n",
       "    </tr>\n",
       "  </thead>\n",
       "  <tbody>\n",
       "    <tr>\n",
       "      <th>7129300520</th>\n",
       "      <td>221900.0</td>\n",
       "      <td>3</td>\n",
       "      <td>1.00</td>\n",
       "      <td>1180</td>\n",
       "      <td>5650</td>\n",
       "      <td>1.0</td>\n",
       "      <td>0.0</td>\n",
       "      <td>3</td>\n",
       "      <td>7</td>\n",
       "      <td>0</td>\n",
       "      <td>...</td>\n",
       "      <td>0</td>\n",
       "      <td>0</td>\n",
       "      <td>1</td>\n",
       "      <td>0</td>\n",
       "      <td>0</td>\n",
       "      <td>1</td>\n",
       "      <td>0</td>\n",
       "      <td>0</td>\n",
       "      <td>0</td>\n",
       "      <td>0</td>\n",
       "    </tr>\n",
       "    <tr>\n",
       "      <th>6414100192</th>\n",
       "      <td>538000.0</td>\n",
       "      <td>3</td>\n",
       "      <td>2.25</td>\n",
       "      <td>2570</td>\n",
       "      <td>7242</td>\n",
       "      <td>2.0</td>\n",
       "      <td>0.0</td>\n",
       "      <td>3</td>\n",
       "      <td>7</td>\n",
       "      <td>1991</td>\n",
       "      <td>...</td>\n",
       "      <td>0</td>\n",
       "      <td>0</td>\n",
       "      <td>1</td>\n",
       "      <td>0</td>\n",
       "      <td>0</td>\n",
       "      <td>1</td>\n",
       "      <td>0</td>\n",
       "      <td>0</td>\n",
       "      <td>0</td>\n",
       "      <td>0</td>\n",
       "    </tr>\n",
       "    <tr>\n",
       "      <th>5631500400</th>\n",
       "      <td>180000.0</td>\n",
       "      <td>2</td>\n",
       "      <td>1.00</td>\n",
       "      <td>770</td>\n",
       "      <td>10000</td>\n",
       "      <td>1.0</td>\n",
       "      <td>0.0</td>\n",
       "      <td>3</td>\n",
       "      <td>6</td>\n",
       "      <td>0</td>\n",
       "      <td>...</td>\n",
       "      <td>0</td>\n",
       "      <td>0</td>\n",
       "      <td>1</td>\n",
       "      <td>0</td>\n",
       "      <td>0</td>\n",
       "      <td>1</td>\n",
       "      <td>0</td>\n",
       "      <td>0</td>\n",
       "      <td>0</td>\n",
       "      <td>0</td>\n",
       "    </tr>\n",
       "    <tr>\n",
       "      <th>2487200875</th>\n",
       "      <td>604000.0</td>\n",
       "      <td>4</td>\n",
       "      <td>3.00</td>\n",
       "      <td>1960</td>\n",
       "      <td>5000</td>\n",
       "      <td>1.0</td>\n",
       "      <td>0.0</td>\n",
       "      <td>5</td>\n",
       "      <td>7</td>\n",
       "      <td>0</td>\n",
       "      <td>...</td>\n",
       "      <td>0</td>\n",
       "      <td>0</td>\n",
       "      <td>0</td>\n",
       "      <td>0</td>\n",
       "      <td>1</td>\n",
       "      <td>1</td>\n",
       "      <td>0</td>\n",
       "      <td>0</td>\n",
       "      <td>0</td>\n",
       "      <td>0</td>\n",
       "    </tr>\n",
       "    <tr>\n",
       "      <th>1954400510</th>\n",
       "      <td>510000.0</td>\n",
       "      <td>3</td>\n",
       "      <td>2.00</td>\n",
       "      <td>1680</td>\n",
       "      <td>8080</td>\n",
       "      <td>1.0</td>\n",
       "      <td>0.0</td>\n",
       "      <td>3</td>\n",
       "      <td>8</td>\n",
       "      <td>0</td>\n",
       "      <td>...</td>\n",
       "      <td>0</td>\n",
       "      <td>0</td>\n",
       "      <td>1</td>\n",
       "      <td>0</td>\n",
       "      <td>0</td>\n",
       "      <td>1</td>\n",
       "      <td>0</td>\n",
       "      <td>0</td>\n",
       "      <td>0</td>\n",
       "      <td>0</td>\n",
       "    </tr>\n",
       "  </tbody>\n",
       "</table>\n",
       "<p>5 rows × 33 columns</p>\n",
       "</div>"
      ],
      "text/plain": [
       "               price  bedrooms  bathrooms  sqft_living  sqft_lot  floors view  \\\n",
       "id                                                                              \n",
       "7129300520  221900.0         3       1.00         1180      5650     1.0  0.0   \n",
       "6414100192  538000.0         3       2.25         2570      7242     2.0  0.0   \n",
       "5631500400  180000.0         2       1.00          770     10000     1.0  0.0   \n",
       "2487200875  604000.0         4       3.00         1960      5000     1.0  0.0   \n",
       "1954400510  510000.0         3       2.00         1680      8080     1.0  0.0   \n",
       "\n",
       "           condition grade  yr_renovated   ...    con_1  con_2  con_3  con_4  \\\n",
       "id                                         ...                                 \n",
       "7129300520         3     7             0   ...        0      0      1      0   \n",
       "6414100192         3     7          1991   ...        0      0      1      0   \n",
       "5631500400         3     6             0   ...        0      0      1      0   \n",
       "2487200875         5     7             0   ...        0      0      0      0   \n",
       "1954400510         3     8             0   ...        0      0      1      0   \n",
       "\n",
       "            con_5  vw_0.0  vw_1.0  vw_2.0  vw_3.0  vw_4.0  \n",
       "id                                                         \n",
       "7129300520      0       1       0       0       0       0  \n",
       "6414100192      0       1       0       0       0       0  \n",
       "5631500400      0       1       0       0       0       0  \n",
       "2487200875      1       1       0       0       0       0  \n",
       "1954400510      0       1       0       0       0       0  \n",
       "\n",
       "[5 rows x 33 columns]"
      ]
     },
     "execution_count": 269,
     "metadata": {},
     "output_type": "execute_result"
    }
   ],
   "source": [
    "df_cat.head()"
   ]
  },
  {
   "cell_type": "markdown",
   "metadata": {},
   "source": [
    "#### Categorical Variables\n",
    "Before moving forward, we perform a transformation on our categorical variables (grade, condition and view). The aproach will be by creating dummy variables, a.k.a one-hot encoding."
   ]
  },
  {
   "cell_type": "markdown",
   "metadata": {},
   "source": [
    "### Linear Regression using Statsmodels"
   ]
  },
  {
   "cell_type": "markdown",
   "metadata": {},
   "source": [
    "All features"
   ]
  },
  {
   "cell_type": "code",
   "execution_count": 72,
   "metadata": {},
   "outputs": [],
   "source": [
    "#df_cat.columns"
   ]
  },
  {
   "cell_type": "code",
   "execution_count": 74,
   "metadata": {},
   "outputs": [
    {
     "data": {
      "text/html": [
       "<table class=\"simpletable\">\n",
       "<caption>OLS Regression Results</caption>\n",
       "<tr>\n",
       "  <th>Dep. Variable:</th>          <td>price</td>      <th>  R-squared:         </th>  <td>   0.640</td>  \n",
       "</tr>\n",
       "<tr>\n",
       "  <th>Model:</th>                   <td>OLS</td>       <th>  Adj. R-squared:    </th>  <td>   0.640</td>  \n",
       "</tr>\n",
       "<tr>\n",
       "  <th>Method:</th>             <td>Least Squares</td>  <th>  F-statistic:       </th>  <td>   1559.</td>  \n",
       "</tr>\n",
       "<tr>\n",
       "  <th>Date:</th>             <td>Fri, 21 Dec 2018</td> <th>  Prob (F-statistic):</th>   <td>  0.00</td>   \n",
       "</tr>\n",
       "<tr>\n",
       "  <th>Time:</th>                 <td>07:50:26</td>     <th>  Log-Likelihood:    </th> <td>-2.8878e+05</td>\n",
       "</tr>\n",
       "<tr>\n",
       "  <th>No. Observations:</th>      <td> 21074</td>      <th>  AIC:               </th>  <td>5.776e+05</td> \n",
       "</tr>\n",
       "<tr>\n",
       "  <th>Df Residuals:</th>          <td> 21049</td>      <th>  BIC:               </th>  <td>5.778e+05</td> \n",
       "</tr>\n",
       "<tr>\n",
       "  <th>Df Model:</th>              <td>    24</td>      <th>                     </th>      <td> </td>     \n",
       "</tr>\n",
       "<tr>\n",
       "  <th>Covariance Type:</th>      <td>nonrobust</td>    <th>                     </th>      <td> </td>     \n",
       "</tr>\n",
       "</table>\n",
       "<table class=\"simpletable\">\n",
       "<tr>\n",
       "        <td></td>          <th>coef</th>     <th>std err</th>      <th>t</th>      <th>P>|t|</th>  <th>[0.025</th>    <th>0.975]</th>  \n",
       "</tr>\n",
       "<tr>\n",
       "  <th>const</th>        <td> 5.237e+05</td> <td> 1.65e+04</td> <td>   31.736</td> <td> 0.000</td> <td> 4.91e+05</td> <td> 5.56e+05</td>\n",
       "</tr>\n",
       "<tr>\n",
       "  <th>bathrooms</th>    <td> 2026.5424</td> <td> 3353.421</td> <td>    0.604</td> <td> 0.546</td> <td>-4546.421</td> <td> 8599.506</td>\n",
       "</tr>\n",
       "<tr>\n",
       "  <th>bedrooms</th>     <td>-1.932e+04</td> <td> 2195.239</td> <td>   -8.802</td> <td> 0.000</td> <td>-2.36e+04</td> <td> -1.5e+04</td>\n",
       "</tr>\n",
       "<tr>\n",
       "  <th>floors</th>       <td> 3531.0957</td> <td> 3469.746</td> <td>    1.018</td> <td> 0.309</td> <td>-3269.874</td> <td> 1.03e+04</td>\n",
       "</tr>\n",
       "<tr>\n",
       "  <th>yr_renovated</th> <td>   77.8839</td> <td>    4.149</td> <td>   18.772</td> <td> 0.000</td> <td>   69.752</td> <td>   86.016</td>\n",
       "</tr>\n",
       "<tr>\n",
       "  <th>sqft_living</th>  <td>  147.6195</td> <td>    3.496</td> <td>   42.229</td> <td> 0.000</td> <td>  140.768</td> <td>  154.471</td>\n",
       "</tr>\n",
       "<tr>\n",
       "  <th>grd_3</th>        <td>-4.355e+05</td> <td> 1.98e+05</td> <td>   -2.197</td> <td> 0.028</td> <td>-8.24e+05</td> <td> -4.7e+04</td>\n",
       "</tr>\n",
       "<tr>\n",
       "  <th>grd_4</th>        <td>-4.037e+05</td> <td> 4.31e+04</td> <td>   -9.360</td> <td> 0.000</td> <td>-4.88e+05</td> <td>-3.19e+05</td>\n",
       "</tr>\n",
       "<tr>\n",
       "  <th>grd_5</th>        <td> -4.05e+05</td> <td>  2.4e+04</td> <td>  -16.851</td> <td> 0.000</td> <td>-4.52e+05</td> <td>-3.58e+05</td>\n",
       "</tr>\n",
       "<tr>\n",
       "  <th>grd_6</th>        <td>-3.747e+05</td> <td> 2.07e+04</td> <td>  -18.120</td> <td> 0.000</td> <td>-4.15e+05</td> <td>-3.34e+05</td>\n",
       "</tr>\n",
       "<tr>\n",
       "  <th>sqft_lot</th>     <td>   -0.1689</td> <td>    0.019</td> <td>   -9.083</td> <td> 0.000</td> <td>   -0.205</td> <td>   -0.132</td>\n",
       "</tr>\n",
       "<tr>\n",
       "  <th>grd_7</th>        <td>-3.324e+05</td> <td> 2.01e+04</td> <td>  -16.508</td> <td> 0.000</td> <td>-3.72e+05</td> <td>-2.93e+05</td>\n",
       "</tr>\n",
       "<tr>\n",
       "  <th>grd_8</th>        <td>-2.651e+05</td> <td> 2.01e+04</td> <td>  -13.215</td> <td> 0.000</td> <td>-3.04e+05</td> <td>-2.26e+05</td>\n",
       "</tr>\n",
       "<tr>\n",
       "  <th>grd_9</th>        <td>-1.384e+05</td> <td> 2.02e+04</td> <td>   -6.839</td> <td> 0.000</td> <td>-1.78e+05</td> <td>-9.88e+04</td>\n",
       "</tr>\n",
       "<tr>\n",
       "  <th>grd_10</th>       <td> 4.976e+04</td> <td> 2.08e+04</td> <td>    2.389</td> <td> 0.017</td> <td> 8942.446</td> <td> 9.06e+04</td>\n",
       "</tr>\n",
       "<tr>\n",
       "  <th>grd_11</th>       <td> 3.119e+05</td> <td> 2.27e+04</td> <td>   13.736</td> <td> 0.000</td> <td> 2.67e+05</td> <td> 3.56e+05</td>\n",
       "</tr>\n",
       "<tr>\n",
       "  <th>grd_12</th>       <td> 7.858e+05</td> <td>    3e+04</td> <td>   26.208</td> <td> 0.000</td> <td> 7.27e+05</td> <td> 8.45e+05</td>\n",
       "</tr>\n",
       "<tr>\n",
       "  <th>grd_13</th>       <td> 1.731e+06</td> <td> 6.16e+04</td> <td>   28.121</td> <td> 0.000</td> <td> 1.61e+06</td> <td> 1.85e+06</td>\n",
       "</tr>\n",
       "<tr>\n",
       "  <th>con_1</th>        <td> 9.012e+04</td> <td> 3.43e+04</td> <td>    2.629</td> <td> 0.009</td> <td> 2.29e+04</td> <td> 1.57e+05</td>\n",
       "</tr>\n",
       "<tr>\n",
       "  <th>con_2</th>        <td>  6.74e+04</td> <td>  1.6e+04</td> <td>    4.213</td> <td> 0.000</td> <td>  3.6e+04</td> <td> 9.88e+04</td>\n",
       "</tr>\n",
       "<tr>\n",
       "  <th>con_3</th>        <td> 5.744e+04</td> <td> 8702.423</td> <td>    6.601</td> <td> 0.000</td> <td> 4.04e+04</td> <td> 7.45e+04</td>\n",
       "</tr>\n",
       "<tr>\n",
       "  <th>con_4</th>        <td> 1.135e+05</td> <td> 8782.204</td> <td>   12.923</td> <td> 0.000</td> <td> 9.63e+04</td> <td> 1.31e+05</td>\n",
       "</tr>\n",
       "<tr>\n",
       "  <th>con_5</th>        <td> 1.953e+05</td> <td> 9490.614</td> <td>   20.573</td> <td> 0.000</td> <td> 1.77e+05</td> <td> 2.14e+05</td>\n",
       "</tr>\n",
       "<tr>\n",
       "  <th>vw_0.0</th>       <td>-7.959e+04</td> <td> 5266.619</td> <td>  -15.111</td> <td> 0.000</td> <td>-8.99e+04</td> <td>-6.93e+04</td>\n",
       "</tr>\n",
       "<tr>\n",
       "  <th>vw_1.0</th>       <td> 7.563e+04</td> <td> 1.09e+04</td> <td>    6.962</td> <td> 0.000</td> <td> 5.43e+04</td> <td> 9.69e+04</td>\n",
       "</tr>\n",
       "<tr>\n",
       "  <th>vw_2.0</th>       <td> 1.542e+04</td> <td> 7556.136</td> <td>    2.041</td> <td> 0.041</td> <td>  612.110</td> <td> 3.02e+04</td>\n",
       "</tr>\n",
       "<tr>\n",
       "  <th>vw_3.0</th>       <td> 8.415e+04</td> <td> 9324.329</td> <td>    9.025</td> <td> 0.000</td> <td> 6.59e+04</td> <td> 1.02e+05</td>\n",
       "</tr>\n",
       "<tr>\n",
       "  <th>vw_4.0</th>       <td> 4.281e+05</td> <td> 1.12e+04</td> <td>   38.385</td> <td> 0.000</td> <td> 4.06e+05</td> <td>  4.5e+05</td>\n",
       "</tr>\n",
       "<tr>\n",
       "  <th>sqft_lot</th>     <td>   -0.1689</td> <td>    0.019</td> <td>   -9.081</td> <td> 0.000</td> <td>   -0.205</td> <td>   -0.132</td>\n",
       "</tr>\n",
       "</table>\n",
       "<table class=\"simpletable\">\n",
       "<tr>\n",
       "  <th>Omnibus:</th>       <td>9933.150</td> <th>  Durbin-Watson:     </th>  <td>   1.982</td> \n",
       "</tr>\n",
       "<tr>\n",
       "  <th>Prob(Omnibus):</th>  <td> 0.000</td>  <th>  Jarque-Bera (JB):  </th> <td>158395.410</td>\n",
       "</tr>\n",
       "<tr>\n",
       "  <th>Skew:</th>           <td> 1.864</td>  <th>  Prob(JB):          </th>  <td>    0.00</td> \n",
       "</tr>\n",
       "<tr>\n",
       "  <th>Kurtosis:</th>       <td>15.903</td>  <th>  Cond. No.          </th>  <td>1.07e+16</td> \n",
       "</tr>\n",
       "</table><br/><br/>Warnings:<br/>[1] Standard Errors assume that the covariance matrix of the errors is correctly specified.<br/>[2] The smallest eigenvalue is 7.06e-19. This might indicate that there are<br/>strong multicollinearity problems or that the design matrix is singular."
      ],
      "text/plain": [
       "<class 'statsmodels.iolib.summary.Summary'>\n",
       "\"\"\"\n",
       "                            OLS Regression Results                            \n",
       "==============================================================================\n",
       "Dep. Variable:                  price   R-squared:                       0.640\n",
       "Model:                            OLS   Adj. R-squared:                  0.640\n",
       "Method:                 Least Squares   F-statistic:                     1559.\n",
       "Date:                Fri, 21 Dec 2018   Prob (F-statistic):               0.00\n",
       "Time:                        07:50:26   Log-Likelihood:            -2.8878e+05\n",
       "No. Observations:               21074   AIC:                         5.776e+05\n",
       "Df Residuals:                   21049   BIC:                         5.778e+05\n",
       "Df Model:                          24                                         \n",
       "Covariance Type:            nonrobust                                         \n",
       "================================================================================\n",
       "                   coef    std err          t      P>|t|      [0.025      0.975]\n",
       "--------------------------------------------------------------------------------\n",
       "const         5.237e+05   1.65e+04     31.736      0.000    4.91e+05    5.56e+05\n",
       "bathrooms     2026.5424   3353.421      0.604      0.546   -4546.421    8599.506\n",
       "bedrooms     -1.932e+04   2195.239     -8.802      0.000   -2.36e+04    -1.5e+04\n",
       "floors        3531.0957   3469.746      1.018      0.309   -3269.874    1.03e+04\n",
       "yr_renovated    77.8839      4.149     18.772      0.000      69.752      86.016\n",
       "sqft_living    147.6195      3.496     42.229      0.000     140.768     154.471\n",
       "grd_3        -4.355e+05   1.98e+05     -2.197      0.028   -8.24e+05    -4.7e+04\n",
       "grd_4        -4.037e+05   4.31e+04     -9.360      0.000   -4.88e+05   -3.19e+05\n",
       "grd_5         -4.05e+05    2.4e+04    -16.851      0.000   -4.52e+05   -3.58e+05\n",
       "grd_6        -3.747e+05   2.07e+04    -18.120      0.000   -4.15e+05   -3.34e+05\n",
       "sqft_lot        -0.1689      0.019     -9.083      0.000      -0.205      -0.132\n",
       "grd_7        -3.324e+05   2.01e+04    -16.508      0.000   -3.72e+05   -2.93e+05\n",
       "grd_8        -2.651e+05   2.01e+04    -13.215      0.000   -3.04e+05   -2.26e+05\n",
       "grd_9        -1.384e+05   2.02e+04     -6.839      0.000   -1.78e+05   -9.88e+04\n",
       "grd_10        4.976e+04   2.08e+04      2.389      0.017    8942.446    9.06e+04\n",
       "grd_11        3.119e+05   2.27e+04     13.736      0.000    2.67e+05    3.56e+05\n",
       "grd_12        7.858e+05      3e+04     26.208      0.000    7.27e+05    8.45e+05\n",
       "grd_13        1.731e+06   6.16e+04     28.121      0.000    1.61e+06    1.85e+06\n",
       "con_1         9.012e+04   3.43e+04      2.629      0.009    2.29e+04    1.57e+05\n",
       "con_2          6.74e+04    1.6e+04      4.213      0.000     3.6e+04    9.88e+04\n",
       "con_3         5.744e+04   8702.423      6.601      0.000    4.04e+04    7.45e+04\n",
       "con_4         1.135e+05   8782.204     12.923      0.000    9.63e+04    1.31e+05\n",
       "con_5         1.953e+05   9490.614     20.573      0.000    1.77e+05    2.14e+05\n",
       "vw_0.0       -7.959e+04   5266.619    -15.111      0.000   -8.99e+04   -6.93e+04\n",
       "vw_1.0        7.563e+04   1.09e+04      6.962      0.000    5.43e+04    9.69e+04\n",
       "vw_2.0        1.542e+04   7556.136      2.041      0.041     612.110    3.02e+04\n",
       "vw_3.0        8.415e+04   9324.329      9.025      0.000    6.59e+04    1.02e+05\n",
       "vw_4.0        4.281e+05   1.12e+04     38.385      0.000    4.06e+05     4.5e+05\n",
       "sqft_lot        -0.1689      0.019     -9.081      0.000      -0.205      -0.132\n",
       "==============================================================================\n",
       "Omnibus:                     9933.150   Durbin-Watson:                   1.982\n",
       "Prob(Omnibus):                  0.000   Jarque-Bera (JB):           158395.410\n",
       "Skew:                           1.864   Prob(JB):                         0.00\n",
       "Kurtosis:                      15.903   Cond. No.                     1.07e+16\n",
       "==============================================================================\n",
       "\n",
       "Warnings:\n",
       "[1] Standard Errors assume that the covariance matrix of the errors is correctly specified.\n",
       "[2] The smallest eigenvalue is 7.06e-19. This might indicate that there are\n",
       "strong multicollinearity problems or that the design matrix is singular.\n",
       "\"\"\""
      ]
     },
     "execution_count": 74,
     "metadata": {},
     "output_type": "execute_result"
    }
   ],
   "source": [
    "# create a DF with the selected features\n",
    "feature_columns = ['bathrooms','bedrooms', 'floors','yr_renovated', 'sqft_living', 'grd_3','grd_4', 'grd_5', 'grd_6', \n",
    "                   'sqft_lot','grd_7', 'grd_8', 'grd_9', 'grd_10', 'grd_11', 'grd_12', 'grd_13', 'con_1', 'con_2', 'con_3', \n",
    "                   'con_4', 'con_5','vw_0.0', 'vw_1.0', 'vw_2.0', 'vw_3.0', 'vw_4.0', 'sqft_lot']\n",
    "\n",
    "# Define variables\n",
    "X = df_cat[feature_columns]\n",
    "y = df_cat.price\n",
    "\n",
    "# Fit regression model\n",
    "X = sm.add_constant(X)      # x intercept\n",
    "model = sm.OLS(y,X).fit()\n",
    "predictions = model.predict(X)\n",
    "\n",
    "# Inspect results\n",
    "model.summary()\n"
   ]
  },
  {
   "cell_type": "markdown",
   "metadata": {},
   "source": [
    "##### Possible reasons high P-value for bathroom variable\n",
    "* Sample size is too small\n",
    "* Null hipothesys doesn't hold - need to read more about that.\n",
    "* Scrambled data during manipulation?"
   ]
  },
  {
   "cell_type": "markdown",
   "metadata": {},
   "source": [
    "#### Model including lat variable "
   ]
  },
  {
   "cell_type": "code",
   "execution_count": 273,
   "metadata": {},
   "outputs": [
    {
     "data": {
      "text/html": [
       "<table class=\"simpletable\">\n",
       "<caption>OLS Regression Results</caption>\n",
       "<tr>\n",
       "  <th>Dep. Variable:</th>          <td>price</td>      <th>  R-squared:         </th>  <td>   0.703</td>  \n",
       "</tr>\n",
       "<tr>\n",
       "  <th>Model:</th>                   <td>OLS</td>       <th>  Adj. R-squared:    </th>  <td>   0.702</td>  \n",
       "</tr>\n",
       "<tr>\n",
       "  <th>Method:</th>             <td>Least Squares</td>  <th>  F-statistic:       </th>  <td>   1989.</td>  \n",
       "</tr>\n",
       "<tr>\n",
       "  <th>Date:</th>             <td>Sun, 23 Dec 2018</td> <th>  Prob (F-statistic):</th>   <td>  0.00</td>   \n",
       "</tr>\n",
       "<tr>\n",
       "  <th>Time:</th>                 <td>18:11:21</td>     <th>  Log-Likelihood:    </th> <td>-2.8677e+05</td>\n",
       "</tr>\n",
       "<tr>\n",
       "  <th>No. Observations:</th>      <td> 21074</td>      <th>  AIC:               </th>  <td>5.736e+05</td> \n",
       "</tr>\n",
       "<tr>\n",
       "  <th>Df Residuals:</th>          <td> 21048</td>      <th>  BIC:               </th>  <td>5.738e+05</td> \n",
       "</tr>\n",
       "<tr>\n",
       "  <th>Df Model:</th>              <td>    25</td>      <th>                     </th>      <td> </td>     \n",
       "</tr>\n",
       "<tr>\n",
       "  <th>Covariance Type:</th>      <td>nonrobust</td>    <th>                     </th>      <td> </td>     \n",
       "</tr>\n",
       "</table>\n",
       "<table class=\"simpletable\">\n",
       "<tr>\n",
       "        <td></td>          <th>coef</th>     <th>std err</th>      <th>t</th>      <th>P>|t|</th>  <th>[0.025</th>    <th>0.975]</th>  \n",
       "</tr>\n",
       "<tr>\n",
       "  <th>const</th>        <td>-2.043e+07</td> <td> 3.18e+05</td> <td>  -64.205</td> <td> 0.000</td> <td>-2.11e+07</td> <td>-1.98e+07</td>\n",
       "</tr>\n",
       "<tr>\n",
       "  <th>bedrooms</th>     <td>-1.495e+04</td> <td> 1996.523</td> <td>   -7.489</td> <td> 0.000</td> <td>-1.89e+04</td> <td> -1.1e+04</td>\n",
       "</tr>\n",
       "<tr>\n",
       "  <th>bathrooms</th>    <td> 1.316e+04</td> <td> 2907.033</td> <td>    4.528</td> <td> 0.000</td> <td> 7465.100</td> <td> 1.89e+04</td>\n",
       "</tr>\n",
       "<tr>\n",
       "  <th>sqft_living</th>  <td>  145.5898</td> <td>    3.179</td> <td>   45.800</td> <td> 0.000</td> <td>  139.359</td> <td>  151.820</td>\n",
       "</tr>\n",
       "<tr>\n",
       "  <th>sqft_lot</th>     <td>    0.0916</td> <td>    0.048</td> <td>    1.925</td> <td> 0.054</td> <td>   -0.002</td> <td>    0.185</td>\n",
       "</tr>\n",
       "<tr>\n",
       "  <th>yr_renovated</th> <td>   69.9527</td> <td>    3.771</td> <td>   18.548</td> <td> 0.000</td> <td>   62.560</td> <td>   77.345</td>\n",
       "</tr>\n",
       "<tr>\n",
       "  <th>lat</th>          <td> 6.566e+05</td> <td> 9958.691</td> <td>   65.934</td> <td> 0.000</td> <td> 6.37e+05</td> <td> 6.76e+05</td>\n",
       "</tr>\n",
       "<tr>\n",
       "  <th>sqft_lot15</th>   <td>   -0.4717</td> <td>    0.072</td> <td>   -6.514</td> <td> 0.000</td> <td>   -0.614</td> <td>   -0.330</td>\n",
       "</tr>\n",
       "<tr>\n",
       "  <th>grd_3</th>        <td>-2.093e+06</td> <td> 1.82e+05</td> <td>  -11.504</td> <td> 0.000</td> <td>-2.45e+06</td> <td>-1.74e+06</td>\n",
       "</tr>\n",
       "<tr>\n",
       "  <th>grd_4</th>        <td>-2.269e+06</td> <td> 4.83e+04</td> <td>  -46.933</td> <td> 0.000</td> <td>-2.36e+06</td> <td>-2.17e+06</td>\n",
       "</tr>\n",
       "<tr>\n",
       "  <th>grd_5</th>        <td>-2.278e+06</td> <td> 3.58e+04</td> <td>  -63.564</td> <td> 0.000</td> <td>-2.35e+06</td> <td>-2.21e+06</td>\n",
       "</tr>\n",
       "<tr>\n",
       "  <th>grd_6</th>        <td> -2.27e+06</td> <td> 3.43e+04</td> <td>  -66.094</td> <td> 0.000</td> <td>-2.34e+06</td> <td> -2.2e+06</td>\n",
       "</tr>\n",
       "<tr>\n",
       "  <th>grd_7</th>        <td>-2.248e+06</td> <td> 3.43e+04</td> <td>  -65.470</td> <td> 0.000</td> <td>-2.32e+06</td> <td>-2.18e+06</td>\n",
       "</tr>\n",
       "<tr>\n",
       "  <th>grd_8</th>        <td>-2.194e+06</td> <td> 3.45e+04</td> <td>  -63.643</td> <td> 0.000</td> <td>-2.26e+06</td> <td>-2.13e+06</td>\n",
       "</tr>\n",
       "<tr>\n",
       "  <th>grd_9</th>        <td>-2.077e+06</td> <td> 3.47e+04</td> <td>  -59.868</td> <td> 0.000</td> <td>-2.14e+06</td> <td>-2.01e+06</td>\n",
       "</tr>\n",
       "<tr>\n",
       "  <th>grd_10</th>       <td>-1.903e+06</td> <td> 3.51e+04</td> <td>  -54.143</td> <td> 0.000</td> <td>-1.97e+06</td> <td>-1.83e+06</td>\n",
       "</tr>\n",
       "<tr>\n",
       "  <th>grd_11</th>       <td>-1.654e+06</td> <td> 3.63e+04</td> <td>  -45.610</td> <td> 0.000</td> <td>-1.72e+06</td> <td>-1.58e+06</td>\n",
       "</tr>\n",
       "<tr>\n",
       "  <th>grd_12</th>       <td>-1.183e+06</td> <td> 4.04e+04</td> <td>  -29.266</td> <td> 0.000</td> <td>-1.26e+06</td> <td> -1.1e+06</td>\n",
       "</tr>\n",
       "<tr>\n",
       "  <th>grd_13</th>       <td>-2.656e+05</td> <td> 6.36e+04</td> <td>   -4.177</td> <td> 0.000</td> <td> -3.9e+05</td> <td>-1.41e+05</td>\n",
       "</tr>\n",
       "<tr>\n",
       "  <th>con_1</th>        <td>-4.129e+06</td> <td> 7.11e+04</td> <td>  -58.043</td> <td> 0.000</td> <td>-4.27e+06</td> <td>-3.99e+06</td>\n",
       "</tr>\n",
       "<tr>\n",
       "  <th>con_2</th>        <td>-4.107e+06</td> <td>  6.5e+04</td> <td>  -63.208</td> <td> 0.000</td> <td>-4.23e+06</td> <td>-3.98e+06</td>\n",
       "</tr>\n",
       "<tr>\n",
       "  <th>con_3</th>        <td>-4.129e+06</td> <td>  6.4e+04</td> <td>  -64.504</td> <td> 0.000</td> <td>-4.25e+06</td> <td>   -4e+06</td>\n",
       "</tr>\n",
       "<tr>\n",
       "  <th>con_4</th>        <td>-4.065e+06</td> <td> 6.39e+04</td> <td>  -63.613</td> <td> 0.000</td> <td>-4.19e+06</td> <td>-3.94e+06</td>\n",
       "</tr>\n",
       "<tr>\n",
       "  <th>con_5</th>        <td>-4.003e+06</td> <td> 6.43e+04</td> <td>  -62.284</td> <td> 0.000</td> <td>-4.13e+06</td> <td>-3.88e+06</td>\n",
       "</tr>\n",
       "<tr>\n",
       "  <th>vw_0.0</th>       <td>-4.274e+06</td> <td> 6.38e+04</td> <td>  -66.979</td> <td> 0.000</td> <td> -4.4e+06</td> <td>-4.15e+06</td>\n",
       "</tr>\n",
       "<tr>\n",
       "  <th>vw_1.0</th>       <td>-4.126e+06</td> <td> 6.45e+04</td> <td>  -63.992</td> <td> 0.000</td> <td>-4.25e+06</td> <td>   -4e+06</td>\n",
       "</tr>\n",
       "<tr>\n",
       "  <th>vw_2.0</th>       <td>-4.175e+06</td> <td> 6.39e+04</td> <td>  -65.297</td> <td> 0.000</td> <td> -4.3e+06</td> <td>-4.05e+06</td>\n",
       "</tr>\n",
       "<tr>\n",
       "  <th>vw_3.0</th>       <td>-4.096e+06</td> <td>  6.4e+04</td> <td>  -64.021</td> <td> 0.000</td> <td>-4.22e+06</td> <td>-3.97e+06</td>\n",
       "</tr>\n",
       "<tr>\n",
       "  <th>vw_4.0</th>       <td>-3.762e+06</td> <td> 6.44e+04</td> <td>  -58.450</td> <td> 0.000</td> <td>-3.89e+06</td> <td>-3.64e+06</td>\n",
       "</tr>\n",
       "</table>\n",
       "<table class=\"simpletable\">\n",
       "<tr>\n",
       "  <th>Omnibus:</th>       <td>12241.498</td> <th>  Durbin-Watson:     </th>  <td>   1.990</td> \n",
       "</tr>\n",
       "<tr>\n",
       "  <th>Prob(Omnibus):</th>  <td> 0.000</td>   <th>  Jarque-Bera (JB):  </th> <td>305215.989</td>\n",
       "</tr>\n",
       "<tr>\n",
       "  <th>Skew:</th>           <td> 2.322</td>   <th>  Prob(JB):          </th>  <td>    0.00</td> \n",
       "</tr>\n",
       "<tr>\n",
       "  <th>Kurtosis:</th>       <td>21.056</td>   <th>  Cond. No.          </th>  <td>1.11e+16</td> \n",
       "</tr>\n",
       "</table><br/><br/>Warnings:<br/>[1] Standard Errors assume that the covariance matrix of the errors is correctly specified.<br/>[2] The smallest eigenvalue is 4.34e-19. This might indicate that there are<br/>strong multicollinearity problems or that the design matrix is singular."
      ],
      "text/plain": [
       "<class 'statsmodels.iolib.summary.Summary'>\n",
       "\"\"\"\n",
       "                            OLS Regression Results                            \n",
       "==============================================================================\n",
       "Dep. Variable:                  price   R-squared:                       0.703\n",
       "Model:                            OLS   Adj. R-squared:                  0.702\n",
       "Method:                 Least Squares   F-statistic:                     1989.\n",
       "Date:                Sun, 23 Dec 2018   Prob (F-statistic):               0.00\n",
       "Time:                        18:11:21   Log-Likelihood:            -2.8677e+05\n",
       "No. Observations:               21074   AIC:                         5.736e+05\n",
       "Df Residuals:                   21048   BIC:                         5.738e+05\n",
       "Df Model:                          25                                         \n",
       "Covariance Type:            nonrobust                                         \n",
       "================================================================================\n",
       "                   coef    std err          t      P>|t|      [0.025      0.975]\n",
       "--------------------------------------------------------------------------------\n",
       "const        -2.043e+07   3.18e+05    -64.205      0.000   -2.11e+07   -1.98e+07\n",
       "bedrooms     -1.495e+04   1996.523     -7.489      0.000   -1.89e+04    -1.1e+04\n",
       "bathrooms     1.316e+04   2907.033      4.528      0.000    7465.100    1.89e+04\n",
       "sqft_living    145.5898      3.179     45.800      0.000     139.359     151.820\n",
       "sqft_lot         0.0916      0.048      1.925      0.054      -0.002       0.185\n",
       "yr_renovated    69.9527      3.771     18.548      0.000      62.560      77.345\n",
       "lat           6.566e+05   9958.691     65.934      0.000    6.37e+05    6.76e+05\n",
       "sqft_lot15      -0.4717      0.072     -6.514      0.000      -0.614      -0.330\n",
       "grd_3        -2.093e+06   1.82e+05    -11.504      0.000   -2.45e+06   -1.74e+06\n",
       "grd_4        -2.269e+06   4.83e+04    -46.933      0.000   -2.36e+06   -2.17e+06\n",
       "grd_5        -2.278e+06   3.58e+04    -63.564      0.000   -2.35e+06   -2.21e+06\n",
       "grd_6         -2.27e+06   3.43e+04    -66.094      0.000   -2.34e+06    -2.2e+06\n",
       "grd_7        -2.248e+06   3.43e+04    -65.470      0.000   -2.32e+06   -2.18e+06\n",
       "grd_8        -2.194e+06   3.45e+04    -63.643      0.000   -2.26e+06   -2.13e+06\n",
       "grd_9        -2.077e+06   3.47e+04    -59.868      0.000   -2.14e+06   -2.01e+06\n",
       "grd_10       -1.903e+06   3.51e+04    -54.143      0.000   -1.97e+06   -1.83e+06\n",
       "grd_11       -1.654e+06   3.63e+04    -45.610      0.000   -1.72e+06   -1.58e+06\n",
       "grd_12       -1.183e+06   4.04e+04    -29.266      0.000   -1.26e+06    -1.1e+06\n",
       "grd_13       -2.656e+05   6.36e+04     -4.177      0.000    -3.9e+05   -1.41e+05\n",
       "con_1        -4.129e+06   7.11e+04    -58.043      0.000   -4.27e+06   -3.99e+06\n",
       "con_2        -4.107e+06    6.5e+04    -63.208      0.000   -4.23e+06   -3.98e+06\n",
       "con_3        -4.129e+06    6.4e+04    -64.504      0.000   -4.25e+06      -4e+06\n",
       "con_4        -4.065e+06   6.39e+04    -63.613      0.000   -4.19e+06   -3.94e+06\n",
       "con_5        -4.003e+06   6.43e+04    -62.284      0.000   -4.13e+06   -3.88e+06\n",
       "vw_0.0       -4.274e+06   6.38e+04    -66.979      0.000    -4.4e+06   -4.15e+06\n",
       "vw_1.0       -4.126e+06   6.45e+04    -63.992      0.000   -4.25e+06      -4e+06\n",
       "vw_2.0       -4.175e+06   6.39e+04    -65.297      0.000    -4.3e+06   -4.05e+06\n",
       "vw_3.0       -4.096e+06    6.4e+04    -64.021      0.000   -4.22e+06   -3.97e+06\n",
       "vw_4.0       -3.762e+06   6.44e+04    -58.450      0.000   -3.89e+06   -3.64e+06\n",
       "==============================================================================\n",
       "Omnibus:                    12241.498   Durbin-Watson:                   1.990\n",
       "Prob(Omnibus):                  0.000   Jarque-Bera (JB):           305215.989\n",
       "Skew:                           2.322   Prob(JB):                         0.00\n",
       "Kurtosis:                      21.056   Cond. No.                     1.11e+16\n",
       "==============================================================================\n",
       "\n",
       "Warnings:\n",
       "[1] Standard Errors assume that the covariance matrix of the errors is correctly specified.\n",
       "[2] The smallest eigenvalue is 4.34e-19. This might indicate that there are\n",
       "strong multicollinearity problems or that the design matrix is singular.\n",
       "\"\"\""
      ]
     },
     "execution_count": 273,
     "metadata": {},
     "output_type": "execute_result"
    }
   ],
   "source": [
    "# create a DF with the selected features\n",
    "feature_columns = ['bedrooms', 'bathrooms', 'sqft_living', 'sqft_lot',\n",
    "                   'yr_renovated', 'lat', 'sqft_lot15','grd_3', 'grd_4', 'grd_5', 'grd_6', \n",
    "                   'grd_7', 'grd_8', 'grd_9', 'grd_10','grd_11', 'grd_12', 'grd_13', 'con_1', \n",
    "                   'con_2', 'con_3', 'con_4','con_5', 'vw_0.0', 'vw_1.0', 'vw_2.0', 'vw_3.0', \n",
    "                   'vw_4.0']\n",
    "\n",
    "# Define variables\n",
    "X = df_cat[feature_columns]\n",
    "y = df_cat.price\n",
    "\n",
    "# Fit regression model\n",
    "X = sm.add_constant(X)      # x intercept\n",
    "model = sm.OLS(y,X).fit()\n",
    "predictions = model.predict(X)\n",
    "\n",
    "# Inspect results\n",
    "model.summary()\n",
    "        "
   ]
  },
  {
   "cell_type": "markdown",
   "metadata": {},
   "source": [
    "## INTERPRETATION"
   ]
  },
  {
   "cell_type": "markdown",
   "metadata": {},
   "source": [
    "#### Q1. What to expect in King county? (Based on initial condictions)\n",
    "Before getting into a deeper anlysis we can get a sense of what this data means. By looking at the 50 percentile, which is the same as the median, we can see the average price and description for a house in this region.\n",
    "\n",
    "* Price: 450,000\n",
    "* 3 bedrooms / 2.25 bathrooms\n",
    "* Living area around 1,910 square feet + backyard\n",
    "* Build in the 70's\n",
    "* Average condition, will need minor repairs "
   ]
  },
  {
   "cell_type": "markdown",
   "metadata": {},
   "source": [
    "#### Q2. How zipcode affects price?"
   ]
  },
  {
   "cell_type": "code",
   "execution_count": 60,
   "metadata": {},
   "outputs": [
    {
     "data": {
      "image/png": "[encoded data removed]",
      "text/plain": [
       "<Figure size 576x576 with 1 Axes>"
      ]
     },
     "metadata": {
      "needs_background": "light"
     },
     "output_type": "display_data"
    }
   ],
   "source": [
    "plt.figure(figsize=(8,8))\n",
    "plt.scatter(df.zipcode, df.price)\n",
    "plt.title('Zipcode Vs Price')\n",
    "plt.xlabel('Zipcode')\n",
    "plt.ylabel('Price');"
   ]
  },
  {
   "cell_type": "code",
   "execution_count": 263,
   "metadata": {},
   "outputs": [
    {
     "data": {
      "text/plain": [
       "array([98178, 98125, 98028, 98136, 98074, 98053, 98146, 98038, 98007,\n",
       "       98115, 98107, 98126, 98019, 98103, 98003, 98133, 98040, 98092,\n",
       "       98030, 98002, 98119, 98112, 98052, 98027, 98117, 98058, 98001,\n",
       "       98056, 98166, 98023, 98070, 98148, 98105, 98042, 98008, 98059,\n",
       "       98122, 98144, 98004, 98005, 98034, 98075, 98116, 98118, 98199,\n",
       "       98032, 98045, 98102, 98077, 98198, 98108, 98168, 98177, 98029,\n",
       "       98006, 98109, 98022, 98033, 98155, 98024, 98011, 98031, 98010,\n",
       "       98106, 98072, 98188, 98065, 98014, 98055, 98039])"
      ]
     },
     "execution_count": 263,
     "metadata": {},
     "output_type": "execute_result"
    }
   ],
   "source": [
    "df.zipcode.unique()"
   ]
  },
  {
   "cell_type": "markdown",
   "metadata": {},
   "source": [
    "* No relatioship can be stablished between zipcode and price, its correlation is very close to 0\n",
    "* About 42% of zipcodes are missing in the dataset that can affect the relation with price. (Zip codes in King County: 120; zip codes in the set: 70)"
   ]
  },
  {
   "cell_type": "markdown",
   "metadata": {},
   "source": [
    "\n",
    "#### Q3. Does the age of a house has an impact on its price?"
   ]
  },
  {
   "cell_type": "code",
   "execution_count": 61,
   "metadata": {},
   "outputs": [
    {
     "data": {
      "image/png": "[encoded data removed]",
      "text/plain": [
       "<Figure size 432x288 with 1 Axes>"
      ]
     },
     "metadata": {
      "needs_background": "light"
     },
     "output_type": "display_data"
    }
   ],
   "source": [
    "plt.scatter(df.yr_built, df.price)\n",
    "plt.title('Year of house built Vs Price')\n",
    "plt.xlabel('Year built')\n",
    "plt.ylabel('Price');"
   ]
  },
  {
   "cell_type": "markdown",
   "metadata": {},
   "source": [
    " There seems to be no stablished correlation, only a few houses built in the past few years appear to be at a high cost."
   ]
  },
  {
   "cell_type": "markdown",
   "metadata": {},
   "source": [
    "* Most of the variables are significantly important, this is based on their p-values (less than 0.05)\n",
    "* We can assert that there is no relationship between price and number of floors or bathrooms.\n",
    "* An R-squared of 0.640 means the model explains 64%"
   ]
  },
  {
   "cell_type": "markdown",
   "metadata": {},
   "source": [
    "## SOURCES\n",
    "\n",
    "<p><a href = \"https://info.kingcounty.gov/assessor/esales/Glossary.aspx?type=r\">King County glossary of terms for residential parcels</a></p>\n",
    "<p><a href= \"https://kingcounty.gov/services/gis/Maps/parcel-viewer.aspx\">King County Parcel Viewer and Information</a></p>\n",
    "<p><a href=\"https://www.dummies.com/education/math/statistics/how-to-interpret-a-correlation-coefficient-r/\">How to interpret a correlation coefficient r</a></p>"
   ]
  }
 ],
 "metadata": {
  "kernelspec": {
   "display_name": "learn-env",
   "language": "python",
   "name": "learn-env"
  },
  "language_info": {
   "codemirror_mode": {
    "name": "ipython",
    "version": 3
   },
   "file_extension": ".py",
   "mimetype": "text/x-python",
   "name": "python",
   "nbconvert_exporter": "python",
   "pygments_lexer": "ipython3",
   "version": "3.7.0"
  }
 },
 "nbformat": 4,
 "nbformat_minor": 2
}
